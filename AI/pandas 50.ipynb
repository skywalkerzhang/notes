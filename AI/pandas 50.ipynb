{
 "cells": [
  {
   "cell_type": "markdown",
   "id": "bb4253c2",
   "metadata": {},
   "source": [
    "来源 知乎 https://zhuanlan.zhihu.com/p/94096219"
   ]
  },
  {
   "cell_type": "markdown",
   "id": "915ae7c7",
   "metadata": {},
   "source": [
    "1. 导入 Pandas 库并简写为 pd，并输出版本号"
   ]
  },
  {
   "cell_type": "code",
   "execution_count": 1,
   "id": "7966a669",
   "metadata": {},
   "outputs": [
    {
     "data": {
      "text/plain": [
       "'1.3.3'"
      ]
     },
     "execution_count": 1,
     "metadata": {},
     "output_type": "execute_result"
    }
   ],
   "source": [
    "import pandas as pd\n",
    "pd.__version__"
   ]
  },
  {
   "cell_type": "markdown",
   "id": "465b5e5e",
   "metadata": {},
   "source": [
    "2. 从列表创建 Series"
   ]
  },
  {
   "cell_type": "code",
   "execution_count": 3,
   "id": "8aa5b2b4",
   "metadata": {},
   "outputs": [
    {
     "data": {
      "text/plain": [
       "0    1\n",
       "1    2\n",
       "2    3\n",
       "3    4\n",
       "4    5\n",
       "dtype: int64"
      ]
     },
     "execution_count": 3,
     "metadata": {},
     "output_type": "execute_result"
    }
   ],
   "source": [
    "arr = [1,2,3,4,5]\n",
    "pd.Series(arr)"
   ]
  },
  {
   "cell_type": "markdown",
   "id": "4fc7d3b0",
   "metadata": {},
   "source": [
    "3. 从字典创建 Series"
   ]
  },
  {
   "cell_type": "code",
   "execution_count": 5,
   "id": "d769fe14",
   "metadata": {},
   "outputs": [
    {
     "data": {
      "text/plain": [
       "test    1\n",
       "my      2\n",
       "dict    3\n",
       "dtype: int64"
      ]
     },
     "execution_count": 5,
     "metadata": {},
     "output_type": "execute_result"
    }
   ],
   "source": [
    "dic = {\"test\":1, \"my\":2, \"dict\":3}\n",
    "pd.Series(dic)"
   ]
  },
  {
   "cell_type": "markdown",
   "id": "fc8e020e",
   "metadata": {},
   "source": [
    "4. 从 NumPy 数组创建 DataFrame"
   ]
  },
  {
   "cell_type": "code",
   "execution_count": 11,
   "id": "e9072922",
   "metadata": {},
   "outputs": [
    {
     "data": {
      "text/html": [
       "<div>\n",
       "<style scoped>\n",
       "    .dataframe tbody tr th:only-of-type {\n",
       "        vertical-align: middle;\n",
       "    }\n",
       "\n",
       "    .dataframe tbody tr th {\n",
       "        vertical-align: top;\n",
       "    }\n",
       "\n",
       "    .dataframe thead th {\n",
       "        text-align: right;\n",
       "    }\n",
       "</style>\n",
       "<table border=\"1\" class=\"dataframe\">\n",
       "  <thead>\n",
       "    <tr style=\"text-align: right;\">\n",
       "      <th></th>\n",
       "      <th>A</th>\n",
       "      <th>B</th>\n",
       "      <th>C</th>\n",
       "      <th>D</th>\n",
       "      <th>E</th>\n",
       "      <th>F</th>\n",
       "      <th>G</th>\n",
       "      <th>H</th>\n",
       "      <th>I</th>\n",
       "      <th>J</th>\n",
       "    </tr>\n",
       "  </thead>\n",
       "  <tbody>\n",
       "    <tr>\n",
       "      <th>0</th>\n",
       "      <td>0.281161</td>\n",
       "      <td>0.747235</td>\n",
       "      <td>0.558948</td>\n",
       "      <td>0.906292</td>\n",
       "      <td>0.163546</td>\n",
       "      <td>0.297457</td>\n",
       "      <td>0.109232</td>\n",
       "      <td>0.349366</td>\n",
       "      <td>0.570573</td>\n",
       "      <td>0.640509</td>\n",
       "    </tr>\n",
       "    <tr>\n",
       "      <th>1</th>\n",
       "      <td>0.540470</td>\n",
       "      <td>0.487932</td>\n",
       "      <td>0.629038</td>\n",
       "      <td>0.884939</td>\n",
       "      <td>0.035162</td>\n",
       "      <td>0.018542</td>\n",
       "      <td>0.263452</td>\n",
       "      <td>0.540806</td>\n",
       "      <td>0.775682</td>\n",
       "      <td>0.816350</td>\n",
       "    </tr>\n",
       "    <tr>\n",
       "      <th>2</th>\n",
       "      <td>0.638478</td>\n",
       "      <td>0.197675</td>\n",
       "      <td>0.813332</td>\n",
       "      <td>0.170881</td>\n",
       "      <td>0.855097</td>\n",
       "      <td>0.919094</td>\n",
       "      <td>0.206385</td>\n",
       "      <td>0.228838</td>\n",
       "      <td>0.779851</td>\n",
       "      <td>0.196676</td>\n",
       "    </tr>\n",
       "    <tr>\n",
       "      <th>3</th>\n",
       "      <td>0.162955</td>\n",
       "      <td>0.492027</td>\n",
       "      <td>0.446552</td>\n",
       "      <td>0.147791</td>\n",
       "      <td>0.943227</td>\n",
       "      <td>0.569267</td>\n",
       "      <td>0.751830</td>\n",
       "      <td>0.461563</td>\n",
       "      <td>0.789294</td>\n",
       "      <td>0.177877</td>\n",
       "    </tr>\n",
       "    <tr>\n",
       "      <th>4</th>\n",
       "      <td>0.009247</td>\n",
       "      <td>0.589277</td>\n",
       "      <td>0.504731</td>\n",
       "      <td>0.288256</td>\n",
       "      <td>0.110126</td>\n",
       "      <td>0.491817</td>\n",
       "      <td>0.406742</td>\n",
       "      <td>0.485477</td>\n",
       "      <td>0.976652</td>\n",
       "      <td>0.635823</td>\n",
       "    </tr>\n",
       "    <tr>\n",
       "      <th>5</th>\n",
       "      <td>0.123756</td>\n",
       "      <td>0.050266</td>\n",
       "      <td>0.881136</td>\n",
       "      <td>0.470345</td>\n",
       "      <td>0.775318</td>\n",
       "      <td>0.179065</td>\n",
       "      <td>0.416503</td>\n",
       "      <td>0.353974</td>\n",
       "      <td>0.603772</td>\n",
       "      <td>0.913536</td>\n",
       "    </tr>\n",
       "    <tr>\n",
       "      <th>6</th>\n",
       "      <td>0.907387</td>\n",
       "      <td>0.877815</td>\n",
       "      <td>0.757889</td>\n",
       "      <td>0.048919</td>\n",
       "      <td>0.384825</td>\n",
       "      <td>0.537930</td>\n",
       "      <td>0.208996</td>\n",
       "      <td>0.834612</td>\n",
       "      <td>0.258511</td>\n",
       "      <td>0.918474</td>\n",
       "    </tr>\n",
       "    <tr>\n",
       "      <th>7</th>\n",
       "      <td>0.826275</td>\n",
       "      <td>0.910256</td>\n",
       "      <td>0.017860</td>\n",
       "      <td>0.904234</td>\n",
       "      <td>0.797828</td>\n",
       "      <td>0.281240</td>\n",
       "      <td>0.669727</td>\n",
       "      <td>0.793437</td>\n",
       "      <td>0.816343</td>\n",
       "      <td>0.234146</td>\n",
       "    </tr>\n",
       "    <tr>\n",
       "      <th>8</th>\n",
       "      <td>0.823299</td>\n",
       "      <td>0.975160</td>\n",
       "      <td>0.320717</td>\n",
       "      <td>0.293605</td>\n",
       "      <td>0.044262</td>\n",
       "      <td>0.587211</td>\n",
       "      <td>0.761118</td>\n",
       "      <td>0.049206</td>\n",
       "      <td>0.800509</td>\n",
       "      <td>0.532639</td>\n",
       "    </tr>\n",
       "    <tr>\n",
       "      <th>9</th>\n",
       "      <td>0.706421</td>\n",
       "      <td>0.326522</td>\n",
       "      <td>0.868472</td>\n",
       "      <td>0.643030</td>\n",
       "      <td>0.458938</td>\n",
       "      <td>0.661566</td>\n",
       "      <td>0.552442</td>\n",
       "      <td>0.576148</td>\n",
       "      <td>0.108627</td>\n",
       "      <td>0.867509</td>\n",
       "    </tr>\n",
       "  </tbody>\n",
       "</table>\n",
       "</div>"
      ],
      "text/plain": [
       "          A         B         C         D         E         F         G  \\\n",
       "0  0.281161  0.747235  0.558948  0.906292  0.163546  0.297457  0.109232   \n",
       "1  0.540470  0.487932  0.629038  0.884939  0.035162  0.018542  0.263452   \n",
       "2  0.638478  0.197675  0.813332  0.170881  0.855097  0.919094  0.206385   \n",
       "3  0.162955  0.492027  0.446552  0.147791  0.943227  0.569267  0.751830   \n",
       "4  0.009247  0.589277  0.504731  0.288256  0.110126  0.491817  0.406742   \n",
       "5  0.123756  0.050266  0.881136  0.470345  0.775318  0.179065  0.416503   \n",
       "6  0.907387  0.877815  0.757889  0.048919  0.384825  0.537930  0.208996   \n",
       "7  0.826275  0.910256  0.017860  0.904234  0.797828  0.281240  0.669727   \n",
       "8  0.823299  0.975160  0.320717  0.293605  0.044262  0.587211  0.761118   \n",
       "9  0.706421  0.326522  0.868472  0.643030  0.458938  0.661566  0.552442   \n",
       "\n",
       "          H         I         J  \n",
       "0  0.349366  0.570573  0.640509  \n",
       "1  0.540806  0.775682  0.816350  \n",
       "2  0.228838  0.779851  0.196676  \n",
       "3  0.461563  0.789294  0.177877  \n",
       "4  0.485477  0.976652  0.635823  \n",
       "5  0.353974  0.603772  0.913536  \n",
       "6  0.834612  0.258511  0.918474  \n",
       "7  0.793437  0.816343  0.234146  \n",
       "8  0.049206  0.800509  0.532639  \n",
       "9  0.576148  0.108627  0.867509  "
      ]
     },
     "execution_count": 11,
     "metadata": {},
     "output_type": "execute_result"
    }
   ],
   "source": [
    "import numpy as np\n",
    "x = np.random.random((10, 10))\n",
    "cols = ['A','B','C','D','E','F','G','H','I','J']\n",
    "pd.DataFrame(x, columns = cols)"
   ]
  },
  {
   "cell_type": "code",
   "execution_count": 9,
   "id": "d930fe58",
   "metadata": {},
   "outputs": [
    {
     "data": {
      "text/html": [
       "<div>\n",
       "<style scoped>\n",
       "    .dataframe tbody tr th:only-of-type {\n",
       "        vertical-align: middle;\n",
       "    }\n",
       "\n",
       "    .dataframe tbody tr th {\n",
       "        vertical-align: top;\n",
       "    }\n",
       "\n",
       "    .dataframe thead th {\n",
       "        text-align: right;\n",
       "    }\n",
       "</style>\n",
       "<table border=\"1\" class=\"dataframe\">\n",
       "  <thead>\n",
       "    <tr style=\"text-align: right;\">\n",
       "      <th></th>\n",
       "      <th>A</th>\n",
       "      <th>B</th>\n",
       "      <th>C</th>\n",
       "      <th>D</th>\n",
       "    </tr>\n",
       "  </thead>\n",
       "  <tbody>\n",
       "    <tr>\n",
       "      <th>2022-01-27 10:19:18.373265</th>\n",
       "      <td>-0.781017</td>\n",
       "      <td>2.336519</td>\n",
       "      <td>0.877032</td>\n",
       "      <td>-0.678802</td>\n",
       "    </tr>\n",
       "    <tr>\n",
       "      <th>2022-01-28 10:19:18.373265</th>\n",
       "      <td>-0.851743</td>\n",
       "      <td>-0.015136</td>\n",
       "      <td>1.416701</td>\n",
       "      <td>0.655892</td>\n",
       "    </tr>\n",
       "    <tr>\n",
       "      <th>2022-01-29 10:19:18.373265</th>\n",
       "      <td>1.516606</td>\n",
       "      <td>0.071320</td>\n",
       "      <td>-0.630226</td>\n",
       "      <td>0.303261</td>\n",
       "    </tr>\n",
       "    <tr>\n",
       "      <th>2022-01-30 10:19:18.373265</th>\n",
       "      <td>-0.332920</td>\n",
       "      <td>-0.494361</td>\n",
       "      <td>0.762228</td>\n",
       "      <td>0.285266</td>\n",
       "    </tr>\n",
       "    <tr>\n",
       "      <th>2022-01-31 10:19:18.373265</th>\n",
       "      <td>-1.339592</td>\n",
       "      <td>1.245253</td>\n",
       "      <td>-0.855988</td>\n",
       "      <td>-1.476289</td>\n",
       "    </tr>\n",
       "    <tr>\n",
       "      <th>2022-02-01 10:19:18.373265</th>\n",
       "      <td>0.894618</td>\n",
       "      <td>0.241304</td>\n",
       "      <td>1.223114</td>\n",
       "      <td>1.478018</td>\n",
       "    </tr>\n",
       "  </tbody>\n",
       "</table>\n",
       "</div>"
      ],
      "text/plain": [
       "                                   A         B         C         D\n",
       "2022-01-27 10:19:18.373265 -0.781017  2.336519  0.877032 -0.678802\n",
       "2022-01-28 10:19:18.373265 -0.851743 -0.015136  1.416701  0.655892\n",
       "2022-01-29 10:19:18.373265  1.516606  0.071320 -0.630226  0.303261\n",
       "2022-01-30 10:19:18.373265 -0.332920 -0.494361  0.762228  0.285266\n",
       "2022-01-31 10:19:18.373265 -1.339592  1.245253 -0.855988 -1.476289\n",
       "2022-02-01 10:19:18.373265  0.894618  0.241304  1.223114  1.478018"
      ]
     },
     "execution_count": 9,
     "metadata": {},
     "output_type": "execute_result"
    }
   ],
   "source": [
    "dates = pd.date_range('today',periods=6) # 定义时间序列作为 index\n",
    "num_arr = np.random.randn(6,4) # 传入 numpy 随机数组\n",
    "columns = ['A','B','C','D'] # 将列表作为列名\n",
    "df = pd.DataFrame(num_arr, index = dates, columns = columns)\n",
    "df"
   ]
  },
  {
   "cell_type": "markdown",
   "id": "ffd41dae",
   "metadata": {},
   "source": [
    "5. 从CSV中创建 DataFrame，分隔符为“；”，编码格式为gbk"
   ]
  },
  {
   "cell_type": "code",
   "execution_count": 14,
   "id": "6e883119",
   "metadata": {},
   "outputs": [],
   "source": [
    "df = pd.read_csv('test.csv', encoding='gbk', sep=';')"
   ]
  },
  {
   "cell_type": "code",
   "execution_count": 15,
   "id": "31da35b1",
   "metadata": {},
   "outputs": [
    {
     "data": {
      "text/html": [
       "<div>\n",
       "<style scoped>\n",
       "    .dataframe tbody tr th:only-of-type {\n",
       "        vertical-align: middle;\n",
       "    }\n",
       "\n",
       "    .dataframe tbody tr th {\n",
       "        vertical-align: top;\n",
       "    }\n",
       "\n",
       "    .dataframe thead th {\n",
       "        text-align: right;\n",
       "    }\n",
       "</style>\n",
       "<table border=\"1\" class=\"dataframe\">\n",
       "  <thead>\n",
       "    <tr style=\"text-align: right;\">\n",
       "      <th></th>\n",
       "      <th>hello</th>\n",
       "      <th>my</th>\n",
       "      <th>friend</th>\n",
       "    </tr>\n",
       "  </thead>\n",
       "  <tbody>\n",
       "  </tbody>\n",
       "</table>\n",
       "</div>"
      ],
      "text/plain": [
       "Empty DataFrame\n",
       "Columns: [hello, my, friend]\n",
       "Index: []"
      ]
     },
     "execution_count": 15,
     "metadata": {},
     "output_type": "execute_result"
    }
   ],
   "source": [
    "df"
   ]
  },
  {
   "cell_type": "markdown",
   "id": "140a5116",
   "metadata": {},
   "source": [
    "6. 从字典对象创建DataFrame，并设置索引"
   ]
  },
  {
   "cell_type": "code",
   "execution_count": 69,
   "id": "c1924432",
   "metadata": {},
   "outputs": [
    {
     "data": {
      "text/html": [
       "<div>\n",
       "<style scoped>\n",
       "    .dataframe tbody tr th:only-of-type {\n",
       "        vertical-align: middle;\n",
       "    }\n",
       "\n",
       "    .dataframe tbody tr th {\n",
       "        vertical-align: top;\n",
       "    }\n",
       "\n",
       "    .dataframe thead th {\n",
       "        text-align: right;\n",
       "    }\n",
       "</style>\n",
       "<table border=\"1\" class=\"dataframe\">\n",
       "  <thead>\n",
       "    <tr style=\"text-align: right;\">\n",
       "      <th></th>\n",
       "      <th>animal</th>\n",
       "      <th>age</th>\n",
       "      <th>visits</th>\n",
       "      <th>priority</th>\n",
       "    </tr>\n",
       "  </thead>\n",
       "  <tbody>\n",
       "    <tr>\n",
       "      <th>a</th>\n",
       "      <td>cat</td>\n",
       "      <td>2.5</td>\n",
       "      <td>1</td>\n",
       "      <td>yes</td>\n",
       "    </tr>\n",
       "    <tr>\n",
       "      <th>b</th>\n",
       "      <td>cat</td>\n",
       "      <td>3.0</td>\n",
       "      <td>3</td>\n",
       "      <td>yes</td>\n",
       "    </tr>\n",
       "    <tr>\n",
       "      <th>c</th>\n",
       "      <td>snake</td>\n",
       "      <td>0.5</td>\n",
       "      <td>2</td>\n",
       "      <td>no</td>\n",
       "    </tr>\n",
       "    <tr>\n",
       "      <th>d</th>\n",
       "      <td>dog</td>\n",
       "      <td>NaN</td>\n",
       "      <td>3</td>\n",
       "      <td>yes</td>\n",
       "    </tr>\n",
       "    <tr>\n",
       "      <th>e</th>\n",
       "      <td>dog</td>\n",
       "      <td>5.0</td>\n",
       "      <td>2</td>\n",
       "      <td>no</td>\n",
       "    </tr>\n",
       "    <tr>\n",
       "      <th>f</th>\n",
       "      <td>cat</td>\n",
       "      <td>2.0</td>\n",
       "      <td>3</td>\n",
       "      <td>no</td>\n",
       "    </tr>\n",
       "    <tr>\n",
       "      <th>g</th>\n",
       "      <td>snake</td>\n",
       "      <td>4.5</td>\n",
       "      <td>1</td>\n",
       "      <td>no</td>\n",
       "    </tr>\n",
       "    <tr>\n",
       "      <th>h</th>\n",
       "      <td>cat</td>\n",
       "      <td>NaN</td>\n",
       "      <td>1</td>\n",
       "      <td>yes</td>\n",
       "    </tr>\n",
       "    <tr>\n",
       "      <th>i</th>\n",
       "      <td>dog</td>\n",
       "      <td>7.0</td>\n",
       "      <td>2</td>\n",
       "      <td>no</td>\n",
       "    </tr>\n",
       "    <tr>\n",
       "      <th>j</th>\n",
       "      <td>dog</td>\n",
       "      <td>3.0</td>\n",
       "      <td>1</td>\n",
       "      <td>no</td>\n",
       "    </tr>\n",
       "  </tbody>\n",
       "</table>\n",
       "</div>"
      ],
      "text/plain": [
       "  animal  age  visits priority\n",
       "a    cat  2.5       1      yes\n",
       "b    cat  3.0       3      yes\n",
       "c  snake  0.5       2       no\n",
       "d    dog  NaN       3      yes\n",
       "e    dog  5.0       2       no\n",
       "f    cat  2.0       3       no\n",
       "g  snake  4.5       1       no\n",
       "h    cat  NaN       1      yes\n",
       "i    dog  7.0       2       no\n",
       "j    dog  3.0       1       no"
      ]
     },
     "execution_count": 69,
     "metadata": {},
     "output_type": "execute_result"
    }
   ],
   "source": [
    "data = {'animal': ['cat', 'cat', 'snake', 'dog', 'dog', 'cat', 'snake', 'cat', 'dog', 'dog'],\n",
    "        'age': [2.5, 3, 0.5, np.nan, 5, 2, 4.5, np.nan, 7, 3],\n",
    "        'visits': [1, 3, 2, 3, 2, 3, 1, 1, 2, 1],\n",
    "        'priority': ['yes', 'yes', 'no', 'yes', 'no', 'no', 'no', 'yes', 'no', 'no']}\n",
    "\n",
    "labels = ['a', 'b', 'c', 'd', 'e', 'f', 'g', 'h', 'i', 'j']\n",
    "df = pd.DataFrame(data, index=labels)\n",
    "df"
   ]
  },
  {
   "cell_type": "markdown",
   "id": "d3991741",
   "metadata": {},
   "source": [
    "8. 展示df的前3行"
   ]
  },
  {
   "cell_type": "code",
   "execution_count": 19,
   "id": "8ee3117c",
   "metadata": {},
   "outputs": [
    {
     "data": {
      "text/html": [
       "<div>\n",
       "<style scoped>\n",
       "    .dataframe tbody tr th:only-of-type {\n",
       "        vertical-align: middle;\n",
       "    }\n",
       "\n",
       "    .dataframe tbody tr th {\n",
       "        vertical-align: top;\n",
       "    }\n",
       "\n",
       "    .dataframe thead th {\n",
       "        text-align: right;\n",
       "    }\n",
       "</style>\n",
       "<table border=\"1\" class=\"dataframe\">\n",
       "  <thead>\n",
       "    <tr style=\"text-align: right;\">\n",
       "      <th></th>\n",
       "      <th>animal</th>\n",
       "      <th>age</th>\n",
       "      <th>visits</th>\n",
       "      <th>priority</th>\n",
       "    </tr>\n",
       "  </thead>\n",
       "  <tbody>\n",
       "    <tr>\n",
       "      <th>a</th>\n",
       "      <td>cat</td>\n",
       "      <td>2.5</td>\n",
       "      <td>1</td>\n",
       "      <td>yes</td>\n",
       "    </tr>\n",
       "    <tr>\n",
       "      <th>b</th>\n",
       "      <td>cat</td>\n",
       "      <td>3.0</td>\n",
       "      <td>3</td>\n",
       "      <td>yes</td>\n",
       "    </tr>\n",
       "    <tr>\n",
       "      <th>c</th>\n",
       "      <td>snake</td>\n",
       "      <td>0.5</td>\n",
       "      <td>2</td>\n",
       "      <td>no</td>\n",
       "    </tr>\n",
       "  </tbody>\n",
       "</table>\n",
       "</div>"
      ],
      "text/plain": [
       "  animal  age  visits priority\n",
       "a    cat  2.5       1      yes\n",
       "b    cat  3.0       3      yes\n",
       "c  snake  0.5       2       no"
      ]
     },
     "execution_count": 19,
     "metadata": {},
     "output_type": "execute_result"
    }
   ],
   "source": [
    "df.iloc[:3]"
   ]
  },
  {
   "cell_type": "markdown",
   "id": "05230c9a",
   "metadata": {},
   "source": [
    "9. 取出df的animal和age列"
   ]
  },
  {
   "cell_type": "code",
   "execution_count": 28,
   "id": "aa020543",
   "metadata": {},
   "outputs": [
    {
     "data": {
      "text/html": [
       "<div>\n",
       "<style scoped>\n",
       "    .dataframe tbody tr th:only-of-type {\n",
       "        vertical-align: middle;\n",
       "    }\n",
       "\n",
       "    .dataframe tbody tr th {\n",
       "        vertical-align: top;\n",
       "    }\n",
       "\n",
       "    .dataframe thead th {\n",
       "        text-align: right;\n",
       "    }\n",
       "</style>\n",
       "<table border=\"1\" class=\"dataframe\">\n",
       "  <thead>\n",
       "    <tr style=\"text-align: right;\">\n",
       "      <th></th>\n",
       "      <th>animal</th>\n",
       "      <th>age</th>\n",
       "    </tr>\n",
       "  </thead>\n",
       "  <tbody>\n",
       "    <tr>\n",
       "      <th>a</th>\n",
       "      <td>cat</td>\n",
       "      <td>2.5</td>\n",
       "    </tr>\n",
       "    <tr>\n",
       "      <th>b</th>\n",
       "      <td>cat</td>\n",
       "      <td>3.0</td>\n",
       "    </tr>\n",
       "    <tr>\n",
       "      <th>c</th>\n",
       "      <td>snake</td>\n",
       "      <td>0.5</td>\n",
       "    </tr>\n",
       "    <tr>\n",
       "      <th>d</th>\n",
       "      <td>dog</td>\n",
       "      <td>NaN</td>\n",
       "    </tr>\n",
       "    <tr>\n",
       "      <th>e</th>\n",
       "      <td>dog</td>\n",
       "      <td>5.0</td>\n",
       "    </tr>\n",
       "    <tr>\n",
       "      <th>f</th>\n",
       "      <td>cat</td>\n",
       "      <td>2.0</td>\n",
       "    </tr>\n",
       "    <tr>\n",
       "      <th>g</th>\n",
       "      <td>snake</td>\n",
       "      <td>4.5</td>\n",
       "    </tr>\n",
       "    <tr>\n",
       "      <th>h</th>\n",
       "      <td>cat</td>\n",
       "      <td>NaN</td>\n",
       "    </tr>\n",
       "    <tr>\n",
       "      <th>i</th>\n",
       "      <td>dog</td>\n",
       "      <td>7.0</td>\n",
       "    </tr>\n",
       "    <tr>\n",
       "      <th>j</th>\n",
       "      <td>dog</td>\n",
       "      <td>3.0</td>\n",
       "    </tr>\n",
       "  </tbody>\n",
       "</table>\n",
       "</div>"
      ],
      "text/plain": [
       "  animal  age\n",
       "a    cat  2.5\n",
       "b    cat  3.0\n",
       "c  snake  0.5\n",
       "d    dog  NaN\n",
       "e    dog  5.0\n",
       "f    cat  2.0\n",
       "g  snake  4.5\n",
       "h    cat  NaN\n",
       "i    dog  7.0\n",
       "j    dog  3.0"
      ]
     },
     "execution_count": 28,
     "metadata": {},
     "output_type": "execute_result"
    }
   ],
   "source": [
    "df[['animal', 'age']]\n",
    "# or\n",
    "df.loc[:, ['animal', 'age']]"
   ]
  },
  {
   "cell_type": "markdown",
   "id": "9ca116b0",
   "metadata": {},
   "source": [
    "10. 取出索引为[3, 4, 8]行的animal和age列"
   ]
  },
  {
   "cell_type": "code",
   "execution_count": 31,
   "id": "0b182cef",
   "metadata": {},
   "outputs": [
    {
     "data": {
      "text/html": [
       "<div>\n",
       "<style scoped>\n",
       "    .dataframe tbody tr th:only-of-type {\n",
       "        vertical-align: middle;\n",
       "    }\n",
       "\n",
       "    .dataframe tbody tr th {\n",
       "        vertical-align: top;\n",
       "    }\n",
       "\n",
       "    .dataframe thead th {\n",
       "        text-align: right;\n",
       "    }\n",
       "</style>\n",
       "<table border=\"1\" class=\"dataframe\">\n",
       "  <thead>\n",
       "    <tr style=\"text-align: right;\">\n",
       "      <th></th>\n",
       "      <th>animal</th>\n",
       "      <th>age</th>\n",
       "    </tr>\n",
       "  </thead>\n",
       "  <tbody>\n",
       "    <tr>\n",
       "      <th>d</th>\n",
       "      <td>dog</td>\n",
       "      <td>NaN</td>\n",
       "    </tr>\n",
       "    <tr>\n",
       "      <th>e</th>\n",
       "      <td>dog</td>\n",
       "      <td>5.0</td>\n",
       "    </tr>\n",
       "    <tr>\n",
       "      <th>i</th>\n",
       "      <td>dog</td>\n",
       "      <td>7.0</td>\n",
       "    </tr>\n",
       "  </tbody>\n",
       "</table>\n",
       "</div>"
      ],
      "text/plain": [
       "  animal  age\n",
       "d    dog  NaN\n",
       "e    dog  5.0\n",
       "i    dog  7.0"
      ]
     },
     "execution_count": 31,
     "metadata": {},
     "output_type": "execute_result"
    }
   ],
   "source": [
    "df.loc[df.index[[3, 4, 8]], ['animal', 'age']]"
   ]
  },
  {
   "cell_type": "markdown",
   "id": "c0e0c8ba",
   "metadata": {},
   "source": [
    "11. 取出age值大于3的行"
   ]
  },
  {
   "cell_type": "code",
   "execution_count": 34,
   "id": "d48879ff",
   "metadata": {},
   "outputs": [
    {
     "data": {
      "text/html": [
       "<div>\n",
       "<style scoped>\n",
       "    .dataframe tbody tr th:only-of-type {\n",
       "        vertical-align: middle;\n",
       "    }\n",
       "\n",
       "    .dataframe tbody tr th {\n",
       "        vertical-align: top;\n",
       "    }\n",
       "\n",
       "    .dataframe thead th {\n",
       "        text-align: right;\n",
       "    }\n",
       "</style>\n",
       "<table border=\"1\" class=\"dataframe\">\n",
       "  <thead>\n",
       "    <tr style=\"text-align: right;\">\n",
       "      <th></th>\n",
       "      <th>animal</th>\n",
       "      <th>age</th>\n",
       "      <th>visits</th>\n",
       "      <th>priority</th>\n",
       "    </tr>\n",
       "  </thead>\n",
       "  <tbody>\n",
       "    <tr>\n",
       "      <th>e</th>\n",
       "      <td>dog</td>\n",
       "      <td>5.0</td>\n",
       "      <td>2</td>\n",
       "      <td>no</td>\n",
       "    </tr>\n",
       "    <tr>\n",
       "      <th>g</th>\n",
       "      <td>snake</td>\n",
       "      <td>4.5</td>\n",
       "      <td>1</td>\n",
       "      <td>no</td>\n",
       "    </tr>\n",
       "    <tr>\n",
       "      <th>i</th>\n",
       "      <td>dog</td>\n",
       "      <td>7.0</td>\n",
       "      <td>2</td>\n",
       "      <td>no</td>\n",
       "    </tr>\n",
       "  </tbody>\n",
       "</table>\n",
       "</div>"
      ],
      "text/plain": [
       "  animal  age  visits priority\n",
       "e    dog  5.0       2       no\n",
       "g  snake  4.5       1       no\n",
       "i    dog  7.0       2       no"
      ]
     },
     "execution_count": 34,
     "metadata": {},
     "output_type": "execute_result"
    }
   ],
   "source": [
    "df[df['age'] > 3]"
   ]
  },
  {
   "cell_type": "markdown",
   "id": "1b27e910",
   "metadata": {},
   "source": [
    "12. 取出age值缺失的行"
   ]
  },
  {
   "cell_type": "code",
   "execution_count": 36,
   "id": "5ffdf67e",
   "metadata": {},
   "outputs": [
    {
     "data": {
      "text/html": [
       "<div>\n",
       "<style scoped>\n",
       "    .dataframe tbody tr th:only-of-type {\n",
       "        vertical-align: middle;\n",
       "    }\n",
       "\n",
       "    .dataframe tbody tr th {\n",
       "        vertical-align: top;\n",
       "    }\n",
       "\n",
       "    .dataframe thead th {\n",
       "        text-align: right;\n",
       "    }\n",
       "</style>\n",
       "<table border=\"1\" class=\"dataframe\">\n",
       "  <thead>\n",
       "    <tr style=\"text-align: right;\">\n",
       "      <th></th>\n",
       "      <th>animal</th>\n",
       "      <th>age</th>\n",
       "      <th>visits</th>\n",
       "      <th>priority</th>\n",
       "    </tr>\n",
       "  </thead>\n",
       "  <tbody>\n",
       "    <tr>\n",
       "      <th>d</th>\n",
       "      <td>dog</td>\n",
       "      <td>NaN</td>\n",
       "      <td>3</td>\n",
       "      <td>yes</td>\n",
       "    </tr>\n",
       "    <tr>\n",
       "      <th>h</th>\n",
       "      <td>cat</td>\n",
       "      <td>NaN</td>\n",
       "      <td>1</td>\n",
       "      <td>yes</td>\n",
       "    </tr>\n",
       "  </tbody>\n",
       "</table>\n",
       "</div>"
      ],
      "text/plain": [
       "  animal  age  visits priority\n",
       "d    dog  NaN       3      yes\n",
       "h    cat  NaN       1      yes"
      ]
     },
     "execution_count": 36,
     "metadata": {},
     "output_type": "execute_result"
    }
   ],
   "source": [
    "df[df['age'].isnull()]"
   ]
  },
  {
   "cell_type": "markdown",
   "id": "4e2485c4",
   "metadata": {},
   "source": [
    "13.取出age在2,4间的行（不含）"
   ]
  },
  {
   "cell_type": "code",
   "execution_count": 48,
   "id": "a6360cf5",
   "metadata": {},
   "outputs": [
    {
     "data": {
      "text/html": [
       "<div>\n",
       "<style scoped>\n",
       "    .dataframe tbody tr th:only-of-type {\n",
       "        vertical-align: middle;\n",
       "    }\n",
       "\n",
       "    .dataframe tbody tr th {\n",
       "        vertical-align: top;\n",
       "    }\n",
       "\n",
       "    .dataframe thead th {\n",
       "        text-align: right;\n",
       "    }\n",
       "</style>\n",
       "<table border=\"1\" class=\"dataframe\">\n",
       "  <thead>\n",
       "    <tr style=\"text-align: right;\">\n",
       "      <th></th>\n",
       "      <th>animal</th>\n",
       "      <th>age</th>\n",
       "      <th>visits</th>\n",
       "      <th>priority</th>\n",
       "    </tr>\n",
       "  </thead>\n",
       "  <tbody>\n",
       "    <tr>\n",
       "      <th>a</th>\n",
       "      <td>cat</td>\n",
       "      <td>2.5</td>\n",
       "      <td>1</td>\n",
       "      <td>yes</td>\n",
       "    </tr>\n",
       "    <tr>\n",
       "      <th>b</th>\n",
       "      <td>cat</td>\n",
       "      <td>3.0</td>\n",
       "      <td>3</td>\n",
       "      <td>yes</td>\n",
       "    </tr>\n",
       "    <tr>\n",
       "      <th>f</th>\n",
       "      <td>cat</td>\n",
       "      <td>2.0</td>\n",
       "      <td>3</td>\n",
       "      <td>no</td>\n",
       "    </tr>\n",
       "    <tr>\n",
       "      <th>j</th>\n",
       "      <td>dog</td>\n",
       "      <td>3.0</td>\n",
       "      <td>1</td>\n",
       "      <td>no</td>\n",
       "    </tr>\n",
       "  </tbody>\n",
       "</table>\n",
       "</div>"
      ],
      "text/plain": [
       "  animal  age  visits priority\n",
       "a    cat  2.5       1      yes\n",
       "b    cat  3.0       3      yes\n",
       "f    cat  2.0       3       no\n",
       "j    dog  3.0       1       no"
      ]
     },
     "execution_count": 48,
     "metadata": {},
     "output_type": "execute_result"
    }
   ],
   "source": [
    "df[(df['age']>2) & (df['age']<4)]\n",
    "# 方法二\n",
    "df[df['age'].between(2, 4)]"
   ]
  },
  {
   "cell_type": "markdown",
   "id": "18080cc0",
   "metadata": {},
   "source": [
    "14. `f行的age改为1.5"
   ]
  },
  {
   "cell_type": "code",
   "execution_count": 49,
   "id": "1bbef582",
   "metadata": {},
   "outputs": [],
   "source": [
    "df.loc['f', 'age'] = 1.5"
   ]
  },
  {
   "cell_type": "code",
   "execution_count": 50,
   "id": "2e4c981d",
   "metadata": {},
   "outputs": [
    {
     "data": {
      "text/html": [
       "<div>\n",
       "<style scoped>\n",
       "    .dataframe tbody tr th:only-of-type {\n",
       "        vertical-align: middle;\n",
       "    }\n",
       "\n",
       "    .dataframe tbody tr th {\n",
       "        vertical-align: top;\n",
       "    }\n",
       "\n",
       "    .dataframe thead th {\n",
       "        text-align: right;\n",
       "    }\n",
       "</style>\n",
       "<table border=\"1\" class=\"dataframe\">\n",
       "  <thead>\n",
       "    <tr style=\"text-align: right;\">\n",
       "      <th></th>\n",
       "      <th>animal</th>\n",
       "      <th>age</th>\n",
       "      <th>visits</th>\n",
       "      <th>priority</th>\n",
       "    </tr>\n",
       "  </thead>\n",
       "  <tbody>\n",
       "    <tr>\n",
       "      <th>a</th>\n",
       "      <td>cat</td>\n",
       "      <td>2.5</td>\n",
       "      <td>1</td>\n",
       "      <td>yes</td>\n",
       "    </tr>\n",
       "    <tr>\n",
       "      <th>b</th>\n",
       "      <td>cat</td>\n",
       "      <td>3.0</td>\n",
       "      <td>3</td>\n",
       "      <td>yes</td>\n",
       "    </tr>\n",
       "    <tr>\n",
       "      <th>c</th>\n",
       "      <td>snake</td>\n",
       "      <td>0.5</td>\n",
       "      <td>2</td>\n",
       "      <td>no</td>\n",
       "    </tr>\n",
       "    <tr>\n",
       "      <th>d</th>\n",
       "      <td>dog</td>\n",
       "      <td>NaN</td>\n",
       "      <td>3</td>\n",
       "      <td>yes</td>\n",
       "    </tr>\n",
       "    <tr>\n",
       "      <th>e</th>\n",
       "      <td>dog</td>\n",
       "      <td>5.0</td>\n",
       "      <td>2</td>\n",
       "      <td>no</td>\n",
       "    </tr>\n",
       "    <tr>\n",
       "      <th>f</th>\n",
       "      <td>cat</td>\n",
       "      <td>1.5</td>\n",
       "      <td>3</td>\n",
       "      <td>no</td>\n",
       "    </tr>\n",
       "    <tr>\n",
       "      <th>g</th>\n",
       "      <td>snake</td>\n",
       "      <td>4.5</td>\n",
       "      <td>1</td>\n",
       "      <td>no</td>\n",
       "    </tr>\n",
       "    <tr>\n",
       "      <th>h</th>\n",
       "      <td>cat</td>\n",
       "      <td>NaN</td>\n",
       "      <td>1</td>\n",
       "      <td>yes</td>\n",
       "    </tr>\n",
       "    <tr>\n",
       "      <th>i</th>\n",
       "      <td>dog</td>\n",
       "      <td>7.0</td>\n",
       "      <td>2</td>\n",
       "      <td>no</td>\n",
       "    </tr>\n",
       "    <tr>\n",
       "      <th>j</th>\n",
       "      <td>dog</td>\n",
       "      <td>3.0</td>\n",
       "      <td>1</td>\n",
       "      <td>no</td>\n",
       "    </tr>\n",
       "  </tbody>\n",
       "</table>\n",
       "</div>"
      ],
      "text/plain": [
       "  animal  age  visits priority\n",
       "a    cat  2.5       1      yes\n",
       "b    cat  3.0       3      yes\n",
       "c  snake  0.5       2       no\n",
       "d    dog  NaN       3      yes\n",
       "e    dog  5.0       2       no\n",
       "f    cat  1.5       3       no\n",
       "g  snake  4.5       1       no\n",
       "h    cat  NaN       1      yes\n",
       "i    dog  7.0       2       no\n",
       "j    dog  3.0       1       no"
      ]
     },
     "execution_count": 50,
     "metadata": {},
     "output_type": "execute_result"
    }
   ],
   "source": [
    "df"
   ]
  },
  {
   "cell_type": "markdown",
   "id": "834305c0",
   "metadata": {},
   "source": [
    "15. 计算visits的总和"
   ]
  },
  {
   "cell_type": "code",
   "execution_count": 52,
   "id": "52742a57",
   "metadata": {},
   "outputs": [
    {
     "data": {
      "text/plain": [
       "19"
      ]
     },
     "execution_count": 52,
     "metadata": {},
     "output_type": "execute_result"
    }
   ],
   "source": [
    "df['visits'].sum()"
   ]
  },
  {
   "cell_type": "markdown",
   "id": "fe704930",
   "metadata": {},
   "source": [
    "16. 计算每个不同种类animal的age的平均数"
   ]
  },
  {
   "cell_type": "code",
   "execution_count": 54,
   "id": "6f5c98b1",
   "metadata": {},
   "outputs": [
    {
     "data": {
      "text/plain": [
       "animal\n",
       "cat      2.333333\n",
       "dog      5.000000\n",
       "snake    2.500000\n",
       "Name: age, dtype: float64"
      ]
     },
     "execution_count": 54,
     "metadata": {},
     "output_type": "execute_result"
    }
   ],
   "source": [
    "df.groupby('animal')['age'].mean()"
   ]
  },
  {
   "cell_type": "markdown",
   "id": "e4b41046",
   "metadata": {},
   "source": [
    "17. 计算df中每个种类animal的数量"
   ]
  },
  {
   "cell_type": "code",
   "execution_count": 59,
   "id": "b26c2d67",
   "metadata": {},
   "outputs": [
    {
     "data": {
      "text/plain": [
       "cat      4\n",
       "dog      4\n",
       "snake    2\n",
       "Name: animal, dtype: int64"
      ]
     },
     "execution_count": 59,
     "metadata": {},
     "output_type": "execute_result"
    }
   ],
   "source": [
    "df['animal'].value_counts()"
   ]
  },
  {
   "cell_type": "code",
   "execution_count": 60,
   "id": "142d2474",
   "metadata": {},
   "outputs": [
    {
     "data": {
      "text/plain": [
       "animal\n",
       "cat      4\n",
       "dog      4\n",
       "snake    2\n",
       "Name: animal, dtype: int64"
      ]
     },
     "execution_count": 60,
     "metadata": {},
     "output_type": "execute_result"
    }
   ],
   "source": [
    "df.groupby('animal')['animal'].count()"
   ]
  },
  {
   "cell_type": "markdown",
   "id": "1dfb8eb4",
   "metadata": {},
   "source": [
    "18. 先按age降序排列，后按visits升序排列"
   ]
  },
  {
   "cell_type": "code",
   "execution_count": 61,
   "id": "4269dbb5",
   "metadata": {},
   "outputs": [
    {
     "data": {
      "text/html": [
       "<div>\n",
       "<style scoped>\n",
       "    .dataframe tbody tr th:only-of-type {\n",
       "        vertical-align: middle;\n",
       "    }\n",
       "\n",
       "    .dataframe tbody tr th {\n",
       "        vertical-align: top;\n",
       "    }\n",
       "\n",
       "    .dataframe thead th {\n",
       "        text-align: right;\n",
       "    }\n",
       "</style>\n",
       "<table border=\"1\" class=\"dataframe\">\n",
       "  <thead>\n",
       "    <tr style=\"text-align: right;\">\n",
       "      <th></th>\n",
       "      <th>animal</th>\n",
       "      <th>age</th>\n",
       "      <th>visits</th>\n",
       "      <th>priority</th>\n",
       "    </tr>\n",
       "  </thead>\n",
       "  <tbody>\n",
       "    <tr>\n",
       "      <th>i</th>\n",
       "      <td>dog</td>\n",
       "      <td>7.0</td>\n",
       "      <td>2</td>\n",
       "      <td>no</td>\n",
       "    </tr>\n",
       "    <tr>\n",
       "      <th>e</th>\n",
       "      <td>dog</td>\n",
       "      <td>5.0</td>\n",
       "      <td>2</td>\n",
       "      <td>no</td>\n",
       "    </tr>\n",
       "    <tr>\n",
       "      <th>g</th>\n",
       "      <td>snake</td>\n",
       "      <td>4.5</td>\n",
       "      <td>1</td>\n",
       "      <td>no</td>\n",
       "    </tr>\n",
       "    <tr>\n",
       "      <th>j</th>\n",
       "      <td>dog</td>\n",
       "      <td>3.0</td>\n",
       "      <td>1</td>\n",
       "      <td>no</td>\n",
       "    </tr>\n",
       "    <tr>\n",
       "      <th>b</th>\n",
       "      <td>cat</td>\n",
       "      <td>3.0</td>\n",
       "      <td>3</td>\n",
       "      <td>yes</td>\n",
       "    </tr>\n",
       "    <tr>\n",
       "      <th>a</th>\n",
       "      <td>cat</td>\n",
       "      <td>2.5</td>\n",
       "      <td>1</td>\n",
       "      <td>yes</td>\n",
       "    </tr>\n",
       "    <tr>\n",
       "      <th>f</th>\n",
       "      <td>cat</td>\n",
       "      <td>1.5</td>\n",
       "      <td>3</td>\n",
       "      <td>no</td>\n",
       "    </tr>\n",
       "    <tr>\n",
       "      <th>c</th>\n",
       "      <td>snake</td>\n",
       "      <td>0.5</td>\n",
       "      <td>2</td>\n",
       "      <td>no</td>\n",
       "    </tr>\n",
       "    <tr>\n",
       "      <th>h</th>\n",
       "      <td>cat</td>\n",
       "      <td>NaN</td>\n",
       "      <td>1</td>\n",
       "      <td>yes</td>\n",
       "    </tr>\n",
       "    <tr>\n",
       "      <th>d</th>\n",
       "      <td>dog</td>\n",
       "      <td>NaN</td>\n",
       "      <td>3</td>\n",
       "      <td>yes</td>\n",
       "    </tr>\n",
       "  </tbody>\n",
       "</table>\n",
       "</div>"
      ],
      "text/plain": [
       "  animal  age  visits priority\n",
       "i    dog  7.0       2       no\n",
       "e    dog  5.0       2       no\n",
       "g  snake  4.5       1       no\n",
       "j    dog  3.0       1       no\n",
       "b    cat  3.0       3      yes\n",
       "a    cat  2.5       1      yes\n",
       "f    cat  1.5       3       no\n",
       "c  snake  0.5       2       no\n",
       "h    cat  NaN       1      yes\n",
       "d    dog  NaN       3      yes"
      ]
     },
     "execution_count": 61,
     "metadata": {},
     "output_type": "execute_result"
    }
   ],
   "source": [
    "df.sort_values(by=['age', 'visits'], ascending=[False, True])"
   ]
  },
  {
   "cell_type": "markdown",
   "id": "f44d6e0e",
   "metadata": {},
   "source": [
    "19. 将priority列中的yes, no替换为布尔值True, False"
   ]
  },
  {
   "cell_type": "code",
   "execution_count": 62,
   "id": "b8c3d50d",
   "metadata": {},
   "outputs": [
    {
     "data": {
      "text/html": [
       "<div>\n",
       "<style scoped>\n",
       "    .dataframe tbody tr th:only-of-type {\n",
       "        vertical-align: middle;\n",
       "    }\n",
       "\n",
       "    .dataframe tbody tr th {\n",
       "        vertical-align: top;\n",
       "    }\n",
       "\n",
       "    .dataframe thead th {\n",
       "        text-align: right;\n",
       "    }\n",
       "</style>\n",
       "<table border=\"1\" class=\"dataframe\">\n",
       "  <thead>\n",
       "    <tr style=\"text-align: right;\">\n",
       "      <th></th>\n",
       "      <th>animal</th>\n",
       "      <th>age</th>\n",
       "      <th>visits</th>\n",
       "      <th>priority</th>\n",
       "    </tr>\n",
       "  </thead>\n",
       "  <tbody>\n",
       "    <tr>\n",
       "      <th>a</th>\n",
       "      <td>cat</td>\n",
       "      <td>2.5</td>\n",
       "      <td>1</td>\n",
       "      <td>True</td>\n",
       "    </tr>\n",
       "    <tr>\n",
       "      <th>b</th>\n",
       "      <td>cat</td>\n",
       "      <td>3.0</td>\n",
       "      <td>3</td>\n",
       "      <td>True</td>\n",
       "    </tr>\n",
       "    <tr>\n",
       "      <th>c</th>\n",
       "      <td>snake</td>\n",
       "      <td>0.5</td>\n",
       "      <td>2</td>\n",
       "      <td>False</td>\n",
       "    </tr>\n",
       "    <tr>\n",
       "      <th>d</th>\n",
       "      <td>dog</td>\n",
       "      <td>NaN</td>\n",
       "      <td>3</td>\n",
       "      <td>True</td>\n",
       "    </tr>\n",
       "    <tr>\n",
       "      <th>e</th>\n",
       "      <td>dog</td>\n",
       "      <td>5.0</td>\n",
       "      <td>2</td>\n",
       "      <td>False</td>\n",
       "    </tr>\n",
       "    <tr>\n",
       "      <th>f</th>\n",
       "      <td>cat</td>\n",
       "      <td>1.5</td>\n",
       "      <td>3</td>\n",
       "      <td>False</td>\n",
       "    </tr>\n",
       "    <tr>\n",
       "      <th>g</th>\n",
       "      <td>snake</td>\n",
       "      <td>4.5</td>\n",
       "      <td>1</td>\n",
       "      <td>False</td>\n",
       "    </tr>\n",
       "    <tr>\n",
       "      <th>h</th>\n",
       "      <td>cat</td>\n",
       "      <td>NaN</td>\n",
       "      <td>1</td>\n",
       "      <td>True</td>\n",
       "    </tr>\n",
       "    <tr>\n",
       "      <th>i</th>\n",
       "      <td>dog</td>\n",
       "      <td>7.0</td>\n",
       "      <td>2</td>\n",
       "      <td>False</td>\n",
       "    </tr>\n",
       "    <tr>\n",
       "      <th>j</th>\n",
       "      <td>dog</td>\n",
       "      <td>3.0</td>\n",
       "      <td>1</td>\n",
       "      <td>False</td>\n",
       "    </tr>\n",
       "  </tbody>\n",
       "</table>\n",
       "</div>"
      ],
      "text/plain": [
       "  animal  age  visits  priority\n",
       "a    cat  2.5       1      True\n",
       "b    cat  3.0       3      True\n",
       "c  snake  0.5       2     False\n",
       "d    dog  NaN       3      True\n",
       "e    dog  5.0       2     False\n",
       "f    cat  1.5       3     False\n",
       "g  snake  4.5       1     False\n",
       "h    cat  NaN       1      True\n",
       "i    dog  7.0       2     False\n",
       "j    dog  3.0       1     False"
      ]
     },
     "execution_count": 62,
     "metadata": {},
     "output_type": "execute_result"
    }
   ],
   "source": [
    "df['priority'] = df['priority'].map({'yes': True, 'no': False})\n",
    "df"
   ]
  },
  {
   "cell_type": "markdown",
   "id": "b8cec4ea",
   "metadata": {},
   "source": [
    "20. 将animal列中的snake替换为python"
   ]
  },
  {
   "cell_type": "code",
   "execution_count": 70,
   "id": "f1aafa94",
   "metadata": {},
   "outputs": [
    {
     "name": "stderr",
     "output_type": "stream",
     "text": [
      "C:\\Users\\rina\\AppData\\Local\\Temp/ipykernel_12592/2987204131.py:1: SettingWithCopyWarning: \n",
      "A value is trying to be set on a copy of a slice from a DataFrame\n",
      "\n",
      "See the caveats in the documentation: https://pandas.pydata.org/pandas-docs/stable/user_guide/indexing.html#returning-a-view-versus-a-copy\n",
      "  df['animal'][df['animal'] == 'snake'] = 'python'\n"
     ]
    },
    {
     "data": {
      "text/html": [
       "<div>\n",
       "<style scoped>\n",
       "    .dataframe tbody tr th:only-of-type {\n",
       "        vertical-align: middle;\n",
       "    }\n",
       "\n",
       "    .dataframe tbody tr th {\n",
       "        vertical-align: top;\n",
       "    }\n",
       "\n",
       "    .dataframe thead th {\n",
       "        text-align: right;\n",
       "    }\n",
       "</style>\n",
       "<table border=\"1\" class=\"dataframe\">\n",
       "  <thead>\n",
       "    <tr style=\"text-align: right;\">\n",
       "      <th></th>\n",
       "      <th>animal</th>\n",
       "      <th>age</th>\n",
       "      <th>visits</th>\n",
       "      <th>priority</th>\n",
       "    </tr>\n",
       "  </thead>\n",
       "  <tbody>\n",
       "    <tr>\n",
       "      <th>a</th>\n",
       "      <td>cat</td>\n",
       "      <td>2.5</td>\n",
       "      <td>1</td>\n",
       "      <td>yes</td>\n",
       "    </tr>\n",
       "    <tr>\n",
       "      <th>b</th>\n",
       "      <td>cat</td>\n",
       "      <td>3.0</td>\n",
       "      <td>3</td>\n",
       "      <td>yes</td>\n",
       "    </tr>\n",
       "    <tr>\n",
       "      <th>c</th>\n",
       "      <td>python</td>\n",
       "      <td>0.5</td>\n",
       "      <td>2</td>\n",
       "      <td>no</td>\n",
       "    </tr>\n",
       "    <tr>\n",
       "      <th>d</th>\n",
       "      <td>dog</td>\n",
       "      <td>NaN</td>\n",
       "      <td>3</td>\n",
       "      <td>yes</td>\n",
       "    </tr>\n",
       "    <tr>\n",
       "      <th>e</th>\n",
       "      <td>dog</td>\n",
       "      <td>5.0</td>\n",
       "      <td>2</td>\n",
       "      <td>no</td>\n",
       "    </tr>\n",
       "    <tr>\n",
       "      <th>f</th>\n",
       "      <td>cat</td>\n",
       "      <td>2.0</td>\n",
       "      <td>3</td>\n",
       "      <td>no</td>\n",
       "    </tr>\n",
       "    <tr>\n",
       "      <th>g</th>\n",
       "      <td>python</td>\n",
       "      <td>4.5</td>\n",
       "      <td>1</td>\n",
       "      <td>no</td>\n",
       "    </tr>\n",
       "    <tr>\n",
       "      <th>h</th>\n",
       "      <td>cat</td>\n",
       "      <td>NaN</td>\n",
       "      <td>1</td>\n",
       "      <td>yes</td>\n",
       "    </tr>\n",
       "    <tr>\n",
       "      <th>i</th>\n",
       "      <td>dog</td>\n",
       "      <td>7.0</td>\n",
       "      <td>2</td>\n",
       "      <td>no</td>\n",
       "    </tr>\n",
       "    <tr>\n",
       "      <th>j</th>\n",
       "      <td>dog</td>\n",
       "      <td>3.0</td>\n",
       "      <td>1</td>\n",
       "      <td>no</td>\n",
       "    </tr>\n",
       "  </tbody>\n",
       "</table>\n",
       "</div>"
      ],
      "text/plain": [
       "   animal  age  visits priority\n",
       "a     cat  2.5       1      yes\n",
       "b     cat  3.0       3      yes\n",
       "c  python  0.5       2       no\n",
       "d     dog  NaN       3      yes\n",
       "e     dog  5.0       2       no\n",
       "f     cat  2.0       3       no\n",
       "g  python  4.5       1       no\n",
       "h     cat  NaN       1      yes\n",
       "i     dog  7.0       2       no\n",
       "j     dog  3.0       1       no"
      ]
     },
     "execution_count": 70,
     "metadata": {},
     "output_type": "execute_result"
    }
   ],
   "source": [
    "df['animal'][df['animal'] == 'snake'] = 'python'\n",
    "df"
   ]
  },
  {
   "cell_type": "code",
   "execution_count": 71,
   "id": "19420f54",
   "metadata": {},
   "outputs": [
    {
     "data": {
      "text/html": [
       "<div>\n",
       "<style scoped>\n",
       "    .dataframe tbody tr th:only-of-type {\n",
       "        vertical-align: middle;\n",
       "    }\n",
       "\n",
       "    .dataframe tbody tr th {\n",
       "        vertical-align: top;\n",
       "    }\n",
       "\n",
       "    .dataframe thead th {\n",
       "        text-align: right;\n",
       "    }\n",
       "</style>\n",
       "<table border=\"1\" class=\"dataframe\">\n",
       "  <thead>\n",
       "    <tr style=\"text-align: right;\">\n",
       "      <th></th>\n",
       "      <th>animal</th>\n",
       "      <th>age</th>\n",
       "      <th>visits</th>\n",
       "      <th>priority</th>\n",
       "    </tr>\n",
       "  </thead>\n",
       "  <tbody>\n",
       "    <tr>\n",
       "      <th>a</th>\n",
       "      <td>cat</td>\n",
       "      <td>2.5</td>\n",
       "      <td>1</td>\n",
       "      <td>yes</td>\n",
       "    </tr>\n",
       "    <tr>\n",
       "      <th>b</th>\n",
       "      <td>cat</td>\n",
       "      <td>3.0</td>\n",
       "      <td>3</td>\n",
       "      <td>yes</td>\n",
       "    </tr>\n",
       "    <tr>\n",
       "      <th>c</th>\n",
       "      <td>python</td>\n",
       "      <td>0.5</td>\n",
       "      <td>2</td>\n",
       "      <td>no</td>\n",
       "    </tr>\n",
       "    <tr>\n",
       "      <th>d</th>\n",
       "      <td>dog</td>\n",
       "      <td>NaN</td>\n",
       "      <td>3</td>\n",
       "      <td>yes</td>\n",
       "    </tr>\n",
       "    <tr>\n",
       "      <th>e</th>\n",
       "      <td>dog</td>\n",
       "      <td>5.0</td>\n",
       "      <td>2</td>\n",
       "      <td>no</td>\n",
       "    </tr>\n",
       "    <tr>\n",
       "      <th>f</th>\n",
       "      <td>cat</td>\n",
       "      <td>2.0</td>\n",
       "      <td>3</td>\n",
       "      <td>no</td>\n",
       "    </tr>\n",
       "    <tr>\n",
       "      <th>g</th>\n",
       "      <td>python</td>\n",
       "      <td>4.5</td>\n",
       "      <td>1</td>\n",
       "      <td>no</td>\n",
       "    </tr>\n",
       "    <tr>\n",
       "      <th>h</th>\n",
       "      <td>cat</td>\n",
       "      <td>NaN</td>\n",
       "      <td>1</td>\n",
       "      <td>yes</td>\n",
       "    </tr>\n",
       "    <tr>\n",
       "      <th>i</th>\n",
       "      <td>dog</td>\n",
       "      <td>7.0</td>\n",
       "      <td>2</td>\n",
       "      <td>no</td>\n",
       "    </tr>\n",
       "    <tr>\n",
       "      <th>j</th>\n",
       "      <td>dog</td>\n",
       "      <td>3.0</td>\n",
       "      <td>1</td>\n",
       "      <td>no</td>\n",
       "    </tr>\n",
       "  </tbody>\n",
       "</table>\n",
       "</div>"
      ],
      "text/plain": [
       "   animal  age  visits priority\n",
       "a     cat  2.5       1      yes\n",
       "b     cat  3.0       3      yes\n",
       "c  python  0.5       2       no\n",
       "d     dog  NaN       3      yes\n",
       "e     dog  5.0       2       no\n",
       "f     cat  2.0       3       no\n",
       "g  python  4.5       1       no\n",
       "h     cat  NaN       1      yes\n",
       "i     dog  7.0       2       no\n",
       "j     dog  3.0       1       no"
      ]
     },
     "execution_count": 71,
     "metadata": {},
     "output_type": "execute_result"
    }
   ],
   "source": [
    "# or\n",
    "df['animal'] = df['animal'].replace('snake', 'python')\n",
    "df"
   ]
  },
  {
   "cell_type": "markdown",
   "id": "af3fff47",
   "metadata": {},
   "source": [
    "21. 对每种animal的每种不同数量visits，计算平均age，即，返回一个表格，行是aniaml种类，列是visits数量，表格值是行动物种类列访客数量的平均年龄 【mark我不会】\n"
   ]
  },
  {
   "cell_type": "code",
   "execution_count": 72,
   "id": "5285459a",
   "metadata": {},
   "outputs": [
    {
     "data": {
      "text/html": [
       "<div>\n",
       "<style scoped>\n",
       "    .dataframe tbody tr th:only-of-type {\n",
       "        vertical-align: middle;\n",
       "    }\n",
       "\n",
       "    .dataframe tbody tr th {\n",
       "        vertical-align: top;\n",
       "    }\n",
       "\n",
       "    .dataframe thead th {\n",
       "        text-align: right;\n",
       "    }\n",
       "</style>\n",
       "<table border=\"1\" class=\"dataframe\">\n",
       "  <thead>\n",
       "    <tr style=\"text-align: right;\">\n",
       "      <th>visits</th>\n",
       "      <th>1</th>\n",
       "      <th>2</th>\n",
       "      <th>3</th>\n",
       "    </tr>\n",
       "    <tr>\n",
       "      <th>animal</th>\n",
       "      <th></th>\n",
       "      <th></th>\n",
       "      <th></th>\n",
       "    </tr>\n",
       "  </thead>\n",
       "  <tbody>\n",
       "    <tr>\n",
       "      <th>cat</th>\n",
       "      <td>2.5</td>\n",
       "      <td>NaN</td>\n",
       "      <td>2.5</td>\n",
       "    </tr>\n",
       "    <tr>\n",
       "      <th>dog</th>\n",
       "      <td>3.0</td>\n",
       "      <td>6.0</td>\n",
       "      <td>NaN</td>\n",
       "    </tr>\n",
       "    <tr>\n",
       "      <th>python</th>\n",
       "      <td>4.5</td>\n",
       "      <td>0.5</td>\n",
       "      <td>NaN</td>\n",
       "    </tr>\n",
       "  </tbody>\n",
       "</table>\n",
       "</div>"
      ],
      "text/plain": [
       "visits    1    2    3\n",
       "animal               \n",
       "cat     2.5  NaN  2.5\n",
       "dog     3.0  6.0  NaN\n",
       "python  4.5  0.5  NaN"
      ]
     },
     "execution_count": 72,
     "metadata": {},
     "output_type": "execute_result"
    }
   ],
   "source": [
    "df.pivot_table(index='animal', columns='visits', values='age', aggfunc='mean')"
   ]
  },
  {
   "cell_type": "markdown",
   "id": "0d81730c",
   "metadata": {},
   "source": [
    "22. 在df中插入新行k，然后删除该行"
   ]
  },
  {
   "cell_type": "code",
   "execution_count": 86,
   "id": "d20839bd",
   "metadata": {},
   "outputs": [
    {
     "data": {
      "text/html": [
       "<div>\n",
       "<style scoped>\n",
       "    .dataframe tbody tr th:only-of-type {\n",
       "        vertical-align: middle;\n",
       "    }\n",
       "\n",
       "    .dataframe tbody tr th {\n",
       "        vertical-align: top;\n",
       "    }\n",
       "\n",
       "    .dataframe thead th {\n",
       "        text-align: right;\n",
       "    }\n",
       "</style>\n",
       "<table border=\"1\" class=\"dataframe\">\n",
       "  <thead>\n",
       "    <tr style=\"text-align: right;\">\n",
       "      <th></th>\n",
       "      <th>animal</th>\n",
       "      <th>age</th>\n",
       "      <th>visits</th>\n",
       "      <th>priority</th>\n",
       "    </tr>\n",
       "  </thead>\n",
       "  <tbody>\n",
       "    <tr>\n",
       "      <th>a</th>\n",
       "      <td>cat</td>\n",
       "      <td>2.5</td>\n",
       "      <td>1</td>\n",
       "      <td>yes</td>\n",
       "    </tr>\n",
       "    <tr>\n",
       "      <th>b</th>\n",
       "      <td>cat</td>\n",
       "      <td>3.0</td>\n",
       "      <td>3</td>\n",
       "      <td>yes</td>\n",
       "    </tr>\n",
       "    <tr>\n",
       "      <th>c</th>\n",
       "      <td>python</td>\n",
       "      <td>0.5</td>\n",
       "      <td>2</td>\n",
       "      <td>no</td>\n",
       "    </tr>\n",
       "    <tr>\n",
       "      <th>d</th>\n",
       "      <td>dog</td>\n",
       "      <td>NaN</td>\n",
       "      <td>3</td>\n",
       "      <td>yes</td>\n",
       "    </tr>\n",
       "    <tr>\n",
       "      <th>e</th>\n",
       "      <td>dog</td>\n",
       "      <td>5.0</td>\n",
       "      <td>2</td>\n",
       "      <td>no</td>\n",
       "    </tr>\n",
       "    <tr>\n",
       "      <th>f</th>\n",
       "      <td>cat</td>\n",
       "      <td>2.0</td>\n",
       "      <td>3</td>\n",
       "      <td>no</td>\n",
       "    </tr>\n",
       "    <tr>\n",
       "      <th>g</th>\n",
       "      <td>python</td>\n",
       "      <td>4.5</td>\n",
       "      <td>1</td>\n",
       "      <td>no</td>\n",
       "    </tr>\n",
       "    <tr>\n",
       "      <th>h</th>\n",
       "      <td>cat</td>\n",
       "      <td>NaN</td>\n",
       "      <td>1</td>\n",
       "      <td>yes</td>\n",
       "    </tr>\n",
       "    <tr>\n",
       "      <th>i</th>\n",
       "      <td>dog</td>\n",
       "      <td>7.0</td>\n",
       "      <td>2</td>\n",
       "      <td>no</td>\n",
       "    </tr>\n",
       "    <tr>\n",
       "      <th>j</th>\n",
       "      <td>dog</td>\n",
       "      <td>3.0</td>\n",
       "      <td>1</td>\n",
       "      <td>no</td>\n",
       "    </tr>\n",
       "    <tr>\n",
       "      <th>k</th>\n",
       "      <td>5.5</td>\n",
       "      <td>dog</td>\n",
       "      <td>no</td>\n",
       "      <td>2</td>\n",
       "    </tr>\n",
       "  </tbody>\n",
       "</table>\n",
       "</div>"
      ],
      "text/plain": [
       "   animal  age visits priority\n",
       "a     cat  2.5      1      yes\n",
       "b     cat  3.0      3      yes\n",
       "c  python  0.5      2       no\n",
       "d     dog  NaN      3      yes\n",
       "e     dog  5.0      2       no\n",
       "f     cat  2.0      3       no\n",
       "g  python  4.5      1       no\n",
       "h     cat  NaN      1      yes\n",
       "i     dog  7.0      2       no\n",
       "j     dog  3.0      1       no\n",
       "k     5.5  dog     no        2"
      ]
     },
     "execution_count": 86,
     "metadata": {},
     "output_type": "execute_result"
    }
   ],
   "source": [
    "df.loc['k'] = [5.5, 'dog', 'no', 2]\n",
    "df"
   ]
  },
  {
   "cell_type": "code",
   "execution_count": 87,
   "id": "a5fd698e",
   "metadata": {},
   "outputs": [
    {
     "data": {
      "text/html": [
       "<div>\n",
       "<style scoped>\n",
       "    .dataframe tbody tr th:only-of-type {\n",
       "        vertical-align: middle;\n",
       "    }\n",
       "\n",
       "    .dataframe tbody tr th {\n",
       "        vertical-align: top;\n",
       "    }\n",
       "\n",
       "    .dataframe thead th {\n",
       "        text-align: right;\n",
       "    }\n",
       "</style>\n",
       "<table border=\"1\" class=\"dataframe\">\n",
       "  <thead>\n",
       "    <tr style=\"text-align: right;\">\n",
       "      <th></th>\n",
       "      <th>animal</th>\n",
       "      <th>age</th>\n",
       "      <th>visits</th>\n",
       "      <th>priority</th>\n",
       "    </tr>\n",
       "  </thead>\n",
       "  <tbody>\n",
       "    <tr>\n",
       "      <th>a</th>\n",
       "      <td>cat</td>\n",
       "      <td>2.5</td>\n",
       "      <td>1</td>\n",
       "      <td>yes</td>\n",
       "    </tr>\n",
       "    <tr>\n",
       "      <th>b</th>\n",
       "      <td>cat</td>\n",
       "      <td>3.0</td>\n",
       "      <td>3</td>\n",
       "      <td>yes</td>\n",
       "    </tr>\n",
       "    <tr>\n",
       "      <th>c</th>\n",
       "      <td>python</td>\n",
       "      <td>0.5</td>\n",
       "      <td>2</td>\n",
       "      <td>no</td>\n",
       "    </tr>\n",
       "    <tr>\n",
       "      <th>d</th>\n",
       "      <td>dog</td>\n",
       "      <td>NaN</td>\n",
       "      <td>3</td>\n",
       "      <td>yes</td>\n",
       "    </tr>\n",
       "    <tr>\n",
       "      <th>e</th>\n",
       "      <td>dog</td>\n",
       "      <td>5.0</td>\n",
       "      <td>2</td>\n",
       "      <td>no</td>\n",
       "    </tr>\n",
       "    <tr>\n",
       "      <th>f</th>\n",
       "      <td>cat</td>\n",
       "      <td>2.0</td>\n",
       "      <td>3</td>\n",
       "      <td>no</td>\n",
       "    </tr>\n",
       "    <tr>\n",
       "      <th>g</th>\n",
       "      <td>python</td>\n",
       "      <td>4.5</td>\n",
       "      <td>1</td>\n",
       "      <td>no</td>\n",
       "    </tr>\n",
       "    <tr>\n",
       "      <th>h</th>\n",
       "      <td>cat</td>\n",
       "      <td>NaN</td>\n",
       "      <td>1</td>\n",
       "      <td>yes</td>\n",
       "    </tr>\n",
       "    <tr>\n",
       "      <th>i</th>\n",
       "      <td>dog</td>\n",
       "      <td>7.0</td>\n",
       "      <td>2</td>\n",
       "      <td>no</td>\n",
       "    </tr>\n",
       "    <tr>\n",
       "      <th>j</th>\n",
       "      <td>dog</td>\n",
       "      <td>3.0</td>\n",
       "      <td>1</td>\n",
       "      <td>no</td>\n",
       "    </tr>\n",
       "  </tbody>\n",
       "</table>\n",
       "</div>"
      ],
      "text/plain": [
       "   animal  age visits priority\n",
       "a     cat  2.5      1      yes\n",
       "b     cat  3.0      3      yes\n",
       "c  python  0.5      2       no\n",
       "d     dog  NaN      3      yes\n",
       "e     dog  5.0      2       no\n",
       "f     cat  2.0      3       no\n",
       "g  python  4.5      1       no\n",
       "h     cat  NaN      1      yes\n",
       "i     dog  7.0      2       no\n",
       "j     dog  3.0      1       no"
      ]
     },
     "execution_count": 87,
     "metadata": {},
     "output_type": "execute_result"
    }
   ],
   "source": [
    "# 不复制等于没删除\n",
    "df.drop('k')"
   ]
  },
  {
   "cell_type": "code",
   "execution_count": 88,
   "id": "8568dda4",
   "metadata": {},
   "outputs": [
    {
     "data": {
      "text/html": [
       "<div>\n",
       "<style scoped>\n",
       "    .dataframe tbody tr th:only-of-type {\n",
       "        vertical-align: middle;\n",
       "    }\n",
       "\n",
       "    .dataframe tbody tr th {\n",
       "        vertical-align: top;\n",
       "    }\n",
       "\n",
       "    .dataframe thead th {\n",
       "        text-align: right;\n",
       "    }\n",
       "</style>\n",
       "<table border=\"1\" class=\"dataframe\">\n",
       "  <thead>\n",
       "    <tr style=\"text-align: right;\">\n",
       "      <th></th>\n",
       "      <th>animal</th>\n",
       "      <th>age</th>\n",
       "      <th>visits</th>\n",
       "      <th>priority</th>\n",
       "    </tr>\n",
       "  </thead>\n",
       "  <tbody>\n",
       "    <tr>\n",
       "      <th>a</th>\n",
       "      <td>cat</td>\n",
       "      <td>2.5</td>\n",
       "      <td>1</td>\n",
       "      <td>yes</td>\n",
       "    </tr>\n",
       "    <tr>\n",
       "      <th>b</th>\n",
       "      <td>cat</td>\n",
       "      <td>3.0</td>\n",
       "      <td>3</td>\n",
       "      <td>yes</td>\n",
       "    </tr>\n",
       "    <tr>\n",
       "      <th>c</th>\n",
       "      <td>python</td>\n",
       "      <td>0.5</td>\n",
       "      <td>2</td>\n",
       "      <td>no</td>\n",
       "    </tr>\n",
       "    <tr>\n",
       "      <th>d</th>\n",
       "      <td>dog</td>\n",
       "      <td>NaN</td>\n",
       "      <td>3</td>\n",
       "      <td>yes</td>\n",
       "    </tr>\n",
       "    <tr>\n",
       "      <th>e</th>\n",
       "      <td>dog</td>\n",
       "      <td>5.0</td>\n",
       "      <td>2</td>\n",
       "      <td>no</td>\n",
       "    </tr>\n",
       "    <tr>\n",
       "      <th>f</th>\n",
       "      <td>cat</td>\n",
       "      <td>2.0</td>\n",
       "      <td>3</td>\n",
       "      <td>no</td>\n",
       "    </tr>\n",
       "    <tr>\n",
       "      <th>g</th>\n",
       "      <td>python</td>\n",
       "      <td>4.5</td>\n",
       "      <td>1</td>\n",
       "      <td>no</td>\n",
       "    </tr>\n",
       "    <tr>\n",
       "      <th>h</th>\n",
       "      <td>cat</td>\n",
       "      <td>NaN</td>\n",
       "      <td>1</td>\n",
       "      <td>yes</td>\n",
       "    </tr>\n",
       "    <tr>\n",
       "      <th>i</th>\n",
       "      <td>dog</td>\n",
       "      <td>7.0</td>\n",
       "      <td>2</td>\n",
       "      <td>no</td>\n",
       "    </tr>\n",
       "    <tr>\n",
       "      <th>j</th>\n",
       "      <td>dog</td>\n",
       "      <td>3.0</td>\n",
       "      <td>1</td>\n",
       "      <td>no</td>\n",
       "    </tr>\n",
       "    <tr>\n",
       "      <th>k</th>\n",
       "      <td>5.5</td>\n",
       "      <td>dog</td>\n",
       "      <td>no</td>\n",
       "      <td>2</td>\n",
       "    </tr>\n",
       "  </tbody>\n",
       "</table>\n",
       "</div>"
      ],
      "text/plain": [
       "   animal  age visits priority\n",
       "a     cat  2.5      1      yes\n",
       "b     cat  3.0      3      yes\n",
       "c  python  0.5      2       no\n",
       "d     dog  NaN      3      yes\n",
       "e     dog  5.0      2       no\n",
       "f     cat  2.0      3       no\n",
       "g  python  4.5      1       no\n",
       "h     cat  NaN      1      yes\n",
       "i     dog  7.0      2       no\n",
       "j     dog  3.0      1       no\n",
       "k     5.5  dog     no        2"
      ]
     },
     "execution_count": 88,
     "metadata": {},
     "output_type": "execute_result"
    }
   ],
   "source": [
    "df"
   ]
  },
  {
   "cell_type": "code",
   "execution_count": 89,
   "id": "ffa1d6a4",
   "metadata": {},
   "outputs": [
    {
     "data": {
      "text/html": [
       "<div>\n",
       "<style scoped>\n",
       "    .dataframe tbody tr th:only-of-type {\n",
       "        vertical-align: middle;\n",
       "    }\n",
       "\n",
       "    .dataframe tbody tr th {\n",
       "        vertical-align: top;\n",
       "    }\n",
       "\n",
       "    .dataframe thead th {\n",
       "        text-align: right;\n",
       "    }\n",
       "</style>\n",
       "<table border=\"1\" class=\"dataframe\">\n",
       "  <thead>\n",
       "    <tr style=\"text-align: right;\">\n",
       "      <th></th>\n",
       "      <th>animal</th>\n",
       "      <th>age</th>\n",
       "      <th>visits</th>\n",
       "      <th>priority</th>\n",
       "    </tr>\n",
       "  </thead>\n",
       "  <tbody>\n",
       "    <tr>\n",
       "      <th>a</th>\n",
       "      <td>cat</td>\n",
       "      <td>2.5</td>\n",
       "      <td>1</td>\n",
       "      <td>yes</td>\n",
       "    </tr>\n",
       "    <tr>\n",
       "      <th>b</th>\n",
       "      <td>cat</td>\n",
       "      <td>3.0</td>\n",
       "      <td>3</td>\n",
       "      <td>yes</td>\n",
       "    </tr>\n",
       "    <tr>\n",
       "      <th>c</th>\n",
       "      <td>python</td>\n",
       "      <td>0.5</td>\n",
       "      <td>2</td>\n",
       "      <td>no</td>\n",
       "    </tr>\n",
       "    <tr>\n",
       "      <th>d</th>\n",
       "      <td>dog</td>\n",
       "      <td>NaN</td>\n",
       "      <td>3</td>\n",
       "      <td>yes</td>\n",
       "    </tr>\n",
       "    <tr>\n",
       "      <th>e</th>\n",
       "      <td>dog</td>\n",
       "      <td>5.0</td>\n",
       "      <td>2</td>\n",
       "      <td>no</td>\n",
       "    </tr>\n",
       "    <tr>\n",
       "      <th>f</th>\n",
       "      <td>cat</td>\n",
       "      <td>2.0</td>\n",
       "      <td>3</td>\n",
       "      <td>no</td>\n",
       "    </tr>\n",
       "    <tr>\n",
       "      <th>g</th>\n",
       "      <td>python</td>\n",
       "      <td>4.5</td>\n",
       "      <td>1</td>\n",
       "      <td>no</td>\n",
       "    </tr>\n",
       "    <tr>\n",
       "      <th>h</th>\n",
       "      <td>cat</td>\n",
       "      <td>NaN</td>\n",
       "      <td>1</td>\n",
       "      <td>yes</td>\n",
       "    </tr>\n",
       "    <tr>\n",
       "      <th>i</th>\n",
       "      <td>dog</td>\n",
       "      <td>7.0</td>\n",
       "      <td>2</td>\n",
       "      <td>no</td>\n",
       "    </tr>\n",
       "    <tr>\n",
       "      <th>j</th>\n",
       "      <td>dog</td>\n",
       "      <td>3.0</td>\n",
       "      <td>1</td>\n",
       "      <td>no</td>\n",
       "    </tr>\n",
       "  </tbody>\n",
       "</table>\n",
       "</div>"
      ],
      "text/plain": [
       "   animal  age visits priority\n",
       "a     cat  2.5      1      yes\n",
       "b     cat  3.0      3      yes\n",
       "c  python  0.5      2       no\n",
       "d     dog  NaN      3      yes\n",
       "e     dog  5.0      2       no\n",
       "f     cat  2.0      3       no\n",
       "g  python  4.5      1       no\n",
       "h     cat  NaN      1      yes\n",
       "i     dog  7.0      2       no\n",
       "j     dog  3.0      1       no"
      ]
     },
     "execution_count": 89,
     "metadata": {},
     "output_type": "execute_result"
    }
   ],
   "source": [
    "df.drop('k', inplace = True)\n",
    "df"
   ]
  },
  {
   "cell_type": "markdown",
   "id": "2f2c24e2",
   "metadata": {},
   "source": [
    "23. 有一列整数列A的DatraFrame，删除数值重复的行"
   ]
  },
  {
   "cell_type": "code",
   "execution_count": 91,
   "id": "28ad7f38",
   "metadata": {},
   "outputs": [
    {
     "name": "stdout",
     "output_type": "stream",
     "text": [
      "    A\n",
      "0   1\n",
      "1   2\n",
      "2   2\n",
      "3   3\n",
      "4   4\n",
      "5   5\n",
      "6   5\n",
      "7   5\n",
      "8   6\n",
      "9   7\n",
      "10  7\n",
      "   A\n",
      "0  1\n",
      "1  2\n",
      "3  3\n",
      "4  4\n",
      "5  5\n",
      "8  6\n",
      "9  7\n"
     ]
    }
   ],
   "source": [
    "df = pd.DataFrame({'A': [1, 2, 2, 3, 4, 5, 5, 5, 6, 7, 7]})\n",
    "print(df)\n",
    "df1 = df.loc[df['A'].shift() != df['A']]\n",
    "# 方法二\n",
    "# df1 = df.drop_duplicates(subset='A')\n",
    "print(df1)"
   ]
  },
  {
   "cell_type": "markdown",
   "id": "84c00a82",
   "metadata": {},
   "source": [
    "24. 一个全数值DatraFrame，每个数字减去该行的平均数"
   ]
  },
  {
   "cell_type": "code",
   "execution_count": 92,
   "id": "d8c1c6de",
   "metadata": {},
   "outputs": [
    {
     "name": "stdout",
     "output_type": "stream",
     "text": [
      "          0         1         2\n",
      "0  0.984189  0.012684  0.841429\n",
      "1  0.448862  0.564022  0.993710\n",
      "2  0.686458  0.316185  0.572480\n",
      "3  0.090779  0.603031  0.669611\n",
      "4  0.679292  0.144865  0.304121\n",
      "          0         1         2\n",
      "0  0.371421 -0.600083  0.228662\n",
      "1 -0.220003 -0.104843  0.324846\n",
      "2  0.161417 -0.208856  0.047439\n",
      "3 -0.363695  0.148558  0.215137\n",
      "4  0.303199 -0.231227 -0.071972\n"
     ]
    }
   ],
   "source": [
    "df = pd.DataFrame(np.random.random((5, 3)))\n",
    "print(df)\n",
    "df1 = df.sub(df.mean(axis=1), axis=0)\n",
    "print(df1)"
   ]
  },
  {
   "cell_type": "markdown",
   "id": "a810a129",
   "metadata": {},
   "source": [
    "25. 一个有5列的DataFrame，求哪一列的和最小"
   ]
  },
  {
   "cell_type": "code",
   "execution_count": 93,
   "id": "77d1b9a8",
   "metadata": {},
   "outputs": [
    {
     "data": {
      "text/plain": [
       "1.9248850892941316"
      ]
     },
     "execution_count": 93,
     "metadata": {},
     "output_type": "execute_result"
    }
   ],
   "source": [
    "df = pd.DataFrame(np.random.random((5, 5)), columns=list('abcde'))\n",
    "df.sum().min(axis = 0)"
   ]
  },
  {
   "cell_type": "code",
   "execution_count": 98,
   "id": "420fdaf9",
   "metadata": {},
   "outputs": [
    {
     "data": {
      "text/plain": [
       "'a'"
      ]
     },
     "execution_count": 98,
     "metadata": {},
     "output_type": "execute_result"
    }
   ],
   "source": [
    "df.sum().idxmin()"
   ]
  },
  {
   "cell_type": "markdown",
   "id": "d04addd0",
   "metadata": {},
   "source": [
    "26. 给定DataFrame，求A列每个值的前3大的B的值的和"
   ]
  },
  {
   "cell_type": "code",
   "execution_count": 99,
   "id": "0bab9428",
   "metadata": {},
   "outputs": [
    {
     "name": "stdout",
     "output_type": "stream",
     "text": [
      "    A    B\n",
      "0   a   12\n",
      "1   a  345\n",
      "2   a    3\n",
      "3   b    1\n",
      "4   b   45\n",
      "5   c   14\n",
      "6   a    4\n",
      "7   a   52\n",
      "8   b   54\n",
      "9   c   23\n",
      "10  c  235\n",
      "11  c   21\n",
      "12  b   57\n",
      "13  b    3\n",
      "14  c   87\n",
      "A\n",
      "a    409\n",
      "b    156\n",
      "c    345\n",
      "Name: B, dtype: int64\n"
     ]
    },
    {
     "name": "stderr",
     "output_type": "stream",
     "text": [
      "C:\\Users\\rina\\AppData\\Local\\Temp/ipykernel_12592/3605881006.py:4: FutureWarning: Using the level keyword in DataFrame and Series aggregations is deprecated and will be removed in a future version. Use groupby instead. df.sum(level=1) should use df.groupby(level=1).sum().\n",
      "  df1 = df.groupby('A')['B'].nlargest(3).sum(level=0)\n"
     ]
    }
   ],
   "source": [
    "df = pd.DataFrame({'A': list('aaabbcaabcccbbc'), \n",
    "                   'B': [12,345,3,1,45,14,4,52,54,23,235,21,57,3,87]})\n",
    "print(df)\n",
    "df1 = df.groupby('A')['B'].nlargest(3).sum(level=0)\n",
    "print(df1)"
   ]
  },
  {
   "cell_type": "markdown",
   "id": "7fde4cc7",
   "metadata": {},
   "source": [
    "27. 给定DataFrame，有列A, B，A的值在1-100（含），对A列每10步长，求对应的B的和"
   ]
  },
  {
   "cell_type": "code",
   "execution_count": 138,
   "id": "6b6d33be",
   "metadata": {},
   "outputs": [
    {
     "name": "stdout",
     "output_type": "stream",
     "text": [
      "    A   B\n",
      "0   1   1\n",
      "1   2   2\n",
      "2  11  11\n",
      "3  11  11\n",
      "4  33  33\n",
      "5  34  34\n",
      "6  35  35\n",
      "7  40  40\n",
      "8  79  79\n",
      "9  99  99\n",
      "0      (0, 10]\n",
      "1      (0, 10]\n",
      "2     (10, 20]\n",
      "3     (10, 20]\n",
      "4     (30, 40]\n",
      "5     (30, 40]\n",
      "6     (30, 40]\n",
      "7     (30, 40]\n",
      "8     (70, 80]\n",
      "9    (90, 100]\n",
      "Name: A, dtype: category\n",
      "Categories (10, interval[int64, right]): [(0, 10] < (10, 20] < (20, 30] < (30, 40] ... (60, 70] < (70, 80] < (80, 90] < (90, 100]]\n",
      "A\n",
      "(0, 10]        3\n",
      "(10, 20]      22\n",
      "(20, 30]       0\n",
      "(30, 40]     142\n",
      "(40, 50]       0\n",
      "(50, 60]       0\n",
      "(60, 70]       0\n",
      "(70, 80]      79\n",
      "(80, 90]       0\n",
      "(90, 100]     99\n",
      "Name: B, dtype: int64\n"
     ]
    }
   ],
   "source": [
    "df = pd.DataFrame({'A': [1,2,11,11,33,34,35,40,79,99], \n",
    "                   'B': [1,2,11,11,33,34,35,40,79,99]})\n",
    "print(df)\n",
    "tmp = pd.cut(df['A'], np.arange(0, 101, 10))\n",
    "print(tmp)\n",
    "df1 = df.groupby(tmp)['B'].sum()\n",
    "print(df1)"
   ]
  },
  {
   "cell_type": "markdown",
   "id": "9efe1dca",
   "metadata": {},
   "source": [
    "28. 给定DataFrame，计算每个元素至左边最近的0（或者至开头）的距离，生成新列y"
   ]
  },
  {
   "cell_type": "code",
   "execution_count": 148,
   "id": "c1165aa3",
   "metadata": {},
   "outputs": [
    {
     "name": "stdout",
     "output_type": "stream",
     "text": [
      "0    1\n",
      "1    2\n",
      "2    2\n",
      "3    3\n",
      "4    4\n",
      "5    5\n",
      "6    6\n",
      "7    6\n",
      "8    7\n",
      "9    8\n",
      "Name: X, dtype: int32\n",
      "0     True\n",
      "1     True\n",
      "2    False\n",
      "3     True\n",
      "4     True\n",
      "5     True\n",
      "6     True\n",
      "7    False\n",
      "8     True\n",
      "9     True\n",
      "Name: X, dtype: bool\n"
     ]
    }
   ],
   "source": [
    "# cumsum。累加和，就是这个点和他前面所有数字的和\n",
    "df = pd.DataFrame({'X': [7, 2, 0, 3, 4, 2, 5, 0, 3, 4]})\n",
    "x = (df['X'] != 0).cumsum()\n",
    "print(x)\n",
    "# 筛选出0的行\n",
    "y = x != x.shift()\n",
    "print(y)\n",
    "df['Y'] = y.groupby((y != y.shift()).cumsum()).cumsum()"
   ]
  },
  {
   "cell_type": "markdown",
   "id": "13b7080d",
   "metadata": {},
   "source": [
    "29. 一个全数值的DataFrame，返回最大3个值的坐标"
   ]
  },
  {
   "cell_type": "code",
   "execution_count": 154,
   "id": "854e27ac",
   "metadata": {},
   "outputs": [
    {
     "name": "stdout",
     "output_type": "stream",
     "text": [
      "          0         1         2\n",
      "0  0.754883  0.426518  0.966502\n",
      "1  0.202329  0.818142  0.528230\n",
      "2  0.518900  0.996334  0.684983\n",
      "3  0.391261  0.135590  0.894286\n",
      "4  0.264758  0.821824  0.739224\n",
      "0  0    0.754883\n",
      "   1    0.202329\n",
      "   2    0.518900\n",
      "   3    0.391261\n",
      "   4    0.264758\n",
      "1  0    0.426518\n",
      "   1    0.818142\n",
      "   2    0.996334\n",
      "   3    0.135590\n",
      "   4    0.821824\n",
      "2  0    0.966502\n",
      "   1    0.528230\n",
      "   2    0.684983\n",
      "   3    0.894286\n",
      "   4    0.739224\n",
      "dtype: float64\n"
     ]
    },
    {
     "data": {
      "text/plain": [
       "[(2, 3), (2, 0), (1, 2)]"
      ]
     },
     "execution_count": 154,
     "metadata": {},
     "output_type": "execute_result"
    }
   ],
   "source": [
    "df = pd.DataFrame(np.random.random((5, 3)))\n",
    "print(df)\n",
    "# unstack会产生旋转，让所有的数值再一列上\n",
    "print(df.unstack())\n",
    "df.unstack().sort_values()[-3:].index.tolist()"
   ]
  },
  {
   "cell_type": "markdown",
   "id": "820fdfff",
   "metadata": {},
   "source": [
    "30. 给定DataFrame，将负值代替为同组的平均值"
   ]
  },
  {
   "cell_type": "code",
   "execution_count": 177,
   "id": "c04b7e34",
   "metadata": {},
   "outputs": [
    {
     "name": "stdout",
     "output_type": "stream",
     "text": [
      "   grps  vals\n",
      "0     a   -12\n",
      "1     a   345\n",
      "2     a     3\n",
      "3     b     1\n",
      "4     b    45\n",
      "5     c    14\n",
      "6     a     4\n",
      "7     a   -52\n",
      "8     b    54\n",
      "9     c    23\n",
      "10    c  -235\n",
      "11    c    21\n",
      "12    b    57\n",
      "13    b     3\n",
      "14    c    87\n",
      "   grps        vals\n",
      "0     a  117.333333\n",
      "1     a  345.000000\n",
      "2     a    3.000000\n",
      "3     b    1.000000\n",
      "4     b   45.000000\n",
      "5     c   14.000000\n",
      "6     a    4.000000\n",
      "7     a  117.333333\n",
      "8     b   54.000000\n",
      "9     c   23.000000\n",
      "10    c   36.250000\n",
      "11    c   21.000000\n",
      "12    b   57.000000\n",
      "13    b    3.000000\n",
      "14    c   87.000000\n"
     ]
    }
   ],
   "source": [
    "df = pd.DataFrame({'grps': list('aaabbcaabcccbbc'), \n",
    "                   'vals': [-12,345,3,1,45,14,4,-52,54,23,-235,21,57,3,87]})\n",
    "print(df)\n",
    "\n",
    "def replace(group):\n",
    "    mask = group < 0\n",
    "    group[mask] = group[~mask].mean()\n",
    "    return group\n",
    "\n",
    "df['vals'] = df.groupby(['grps'])['vals'].apply(replace)\n",
    "print(df)"
   ]
  },
  {
   "cell_type": "markdown",
   "id": "9004ecc7",
   "metadata": {},
   "source": [
    "31. 计算3位滑动窗口的平均值，忽略NAN\n",
    "\n",
    "【rolling 移动窗口 https://blog.csdn.net/qifeidemumu/article/details/88748248 】\n",
    "【答案这里按组了】"
   ]
  },
  {
   "cell_type": "code",
   "execution_count": 183,
   "id": "7813f10e",
   "metadata": {},
   "outputs": [
    {
     "name": "stdout",
     "output_type": "stream",
     "text": [
      "   group  value\n",
      "0      a    1.0\n",
      "1      a    2.0\n",
      "2      b    3.0\n",
      "3      b    NaN\n",
      "4      a    2.0\n",
      "5      b    3.0\n",
      "6      b    NaN\n",
      "7      b    1.0\n",
      "8      a    7.0\n",
      "9      b    3.0\n",
      "10     a    NaN\n",
      "11     b    8.0\n",
      "group    \n",
      "a      0     1.000000\n",
      "       1     1.500000\n",
      "       4     1.666667\n",
      "       8     3.666667\n",
      "       10    4.500000\n",
      "b      2     3.000000\n",
      "       3     3.000000\n",
      "       5     3.000000\n",
      "       6     3.000000\n",
      "       7     2.000000\n",
      "       9     2.000000\n",
      "       11    4.000000\n",
      "Name: value, dtype: float64\n"
     ]
    },
    {
     "data": {
      "text/plain": [
       "0     1.000000\n",
       "1     1.500000\n",
       "2     3.000000\n",
       "3     3.000000\n",
       "4     1.666667\n",
       "5     3.000000\n",
       "6     3.000000\n",
       "7     2.000000\n",
       "8     3.666667\n",
       "9     2.000000\n",
       "10    4.500000\n",
       "11    4.000000\n",
       "Name: value, dtype: float64"
      ]
     },
     "execution_count": 183,
     "metadata": {},
     "output_type": "execute_result"
    }
   ],
   "source": [
    "df = pd.DataFrame({'group': list('aabbabbbabab'),\n",
    "                    'value': [1, 2, 3, np.nan, 2, 3, np.nan, 1, 7, 3, np.nan, 8]})\n",
    "print(df)\n",
    "\n",
    "g1 = df.groupby(['group'])['value']\n",
    "# nan填充\n",
    "g2 = df.fillna(0).groupby(['group'])['value'] \n",
    "\n",
    "# 每三个求和 / 长度为三的窗口里的数字\n",
    "s = g2.rolling(3, min_periods=1).sum() / g1.rolling(3, min_periods=1).count()\n",
    "print(s)\n",
    "# 按顺序重新排列下idx\n",
    "s.reset_index(level=0, drop=True).sort_index()"
   ]
  },
  {
   "cell_type": "markdown",
   "id": "9ac2f567",
   "metadata": {},
   "source": [
    "32. 创建Series s，将2015所有工作日作为随机值的索引"
   ]
  },
  {
   "cell_type": "code",
   "execution_count": 184,
   "id": "9ef4cfb0",
   "metadata": {},
   "outputs": [
    {
     "data": {
      "text/plain": [
       "2015-01-01    0.218370\n",
       "2015-01-02    0.838016\n",
       "2015-01-05    0.565516\n",
       "2015-01-06    0.065506\n",
       "2015-01-07    0.718658\n",
       "2015-01-08    0.180233\n",
       "2015-01-09    0.796911\n",
       "2015-01-12    0.080371\n",
       "2015-01-13    0.805538\n",
       "2015-01-14    0.889069\n",
       "Freq: B, dtype: float64"
      ]
     },
     "execution_count": 184,
     "metadata": {},
     "output_type": "execute_result"
    }
   ],
   "source": [
    "dti = pd.date_range(start='2015-01-01', end='2015-12-31', freq='B') \n",
    "s = pd.Series(np.random.rand(len(dti)), index=dti)\n",
    "\n",
    "s.head(10)"
   ]
  },
  {
   "cell_type": "markdown",
   "id": "3308d21f",
   "metadata": {},
   "source": [
    "33. 所有礼拜三的值求和"
   ]
  },
  {
   "cell_type": "code",
   "execution_count": 185,
   "id": "7e061cf3",
   "metadata": {},
   "outputs": [
    {
     "data": {
      "text/plain": [
       "25.993867353232304"
      ]
     },
     "execution_count": 185,
     "metadata": {},
     "output_type": "execute_result"
    }
   ],
   "source": [
    "s[s.index.weekday == 2].sum()"
   ]
  },
  {
   "cell_type": "markdown",
   "id": "4bdd48b9",
   "metadata": {},
   "source": [
    "34. 求每个自然月的平均数"
   ]
  },
  {
   "cell_type": "code",
   "execution_count": 186,
   "id": "b03a54c2",
   "metadata": {},
   "outputs": [
    {
     "data": {
      "text/plain": [
       "2015-01-31    0.475569\n",
       "2015-02-28    0.491480\n",
       "2015-03-31    0.488408\n",
       "2015-04-30    0.507546\n",
       "2015-05-31    0.511758\n",
       "2015-06-30    0.349750\n",
       "2015-07-31    0.351269\n",
       "2015-08-31    0.416304\n",
       "2015-09-30    0.530198\n",
       "2015-10-31    0.365963\n",
       "2015-11-30    0.537069\n",
       "2015-12-31    0.521339\n",
       "Freq: M, dtype: float64"
      ]
     },
     "execution_count": 186,
     "metadata": {},
     "output_type": "execute_result"
    }
   ],
   "source": [
    "s.resample('M').mean()"
   ]
  },
  {
   "cell_type": "markdown",
   "id": "e0863a31",
   "metadata": {},
   "source": [
    "35. 每连续4个月为一组，求最大值所在的日期"
   ]
  },
  {
   "cell_type": "code",
   "execution_count": 187,
   "id": "55e37985",
   "metadata": {},
   "outputs": [
    {
     "data": {
      "text/plain": [
       "2015-01-31   2015-01-15\n",
       "2015-05-31   2015-04-03\n",
       "2015-09-30   2015-09-17\n",
       "2016-01-31   2015-10-14\n",
       "Freq: 4M, dtype: datetime64[ns]"
      ]
     },
     "execution_count": 187,
     "metadata": {},
     "output_type": "execute_result"
    }
   ],
   "source": [
    "s.groupby(pd.Grouper(freq='4M')).idxmax()"
   ]
  },
  {
   "cell_type": "markdown",
   "id": "0f576faf",
   "metadata": {},
   "source": [
    "36. 创建2015-2016每月第三个星期四的序列"
   ]
  },
  {
   "cell_type": "code",
   "execution_count": 188,
   "id": "8dfdd22c",
   "metadata": {},
   "outputs": [
    {
     "data": {
      "text/plain": [
       "DatetimeIndex(['2015-01-15', '2015-02-19', '2015-03-19', '2015-04-16',\n",
       "               '2015-05-21', '2015-06-18', '2015-07-16', '2015-08-20',\n",
       "               '2015-09-17', '2015-10-15', '2015-11-19', '2015-12-17',\n",
       "               '2016-01-21', '2016-02-18', '2016-03-17', '2016-04-21',\n",
       "               '2016-05-19', '2016-06-16', '2016-07-21', '2016-08-18',\n",
       "               '2016-09-15', '2016-10-20', '2016-11-17', '2016-12-15'],\n",
       "              dtype='datetime64[ns]', freq='WOM-3THU')"
      ]
     },
     "execution_count": 188,
     "metadata": {},
     "output_type": "execute_result"
    }
   ],
   "source": [
    "pd.date_range('2015-01-01', '2016-12-31', freq='WOM-3THU')"
   ]
  },
  {
   "cell_type": "markdown",
   "id": "faa85ee9",
   "metadata": {},
   "source": [
    "### 数据清洗"
   ]
  },
  {
   "cell_type": "code",
   "execution_count": 214,
   "id": "464d62ae",
   "metadata": {},
   "outputs": [
    {
     "data": {
      "text/html": [
       "<div>\n",
       "<style scoped>\n",
       "    .dataframe tbody tr th:only-of-type {\n",
       "        vertical-align: middle;\n",
       "    }\n",
       "\n",
       "    .dataframe tbody tr th {\n",
       "        vertical-align: top;\n",
       "    }\n",
       "\n",
       "    .dataframe thead th {\n",
       "        text-align: right;\n",
       "    }\n",
       "</style>\n",
       "<table border=\"1\" class=\"dataframe\">\n",
       "  <thead>\n",
       "    <tr style=\"text-align: right;\">\n",
       "      <th></th>\n",
       "      <th>From_To</th>\n",
       "      <th>FlightNumber</th>\n",
       "      <th>RecentDelays</th>\n",
       "      <th>Airline</th>\n",
       "    </tr>\n",
       "  </thead>\n",
       "  <tbody>\n",
       "    <tr>\n",
       "      <th>0</th>\n",
       "      <td>LoNDon_paris</td>\n",
       "      <td>10045.0</td>\n",
       "      <td>[23, 47]</td>\n",
       "      <td>KLM(!)</td>\n",
       "    </tr>\n",
       "    <tr>\n",
       "      <th>1</th>\n",
       "      <td>MAdrid_miLAN</td>\n",
       "      <td>NaN</td>\n",
       "      <td>[]</td>\n",
       "      <td>&lt;Air France&gt; (12)</td>\n",
       "    </tr>\n",
       "    <tr>\n",
       "      <th>2</th>\n",
       "      <td>londON_StockhOlm</td>\n",
       "      <td>10065.0</td>\n",
       "      <td>[24, 43, 87]</td>\n",
       "      <td>(British Airways. )</td>\n",
       "    </tr>\n",
       "    <tr>\n",
       "      <th>3</th>\n",
       "      <td>Budapest_PaRis</td>\n",
       "      <td>NaN</td>\n",
       "      <td>[13]</td>\n",
       "      <td>12. Air France</td>\n",
       "    </tr>\n",
       "    <tr>\n",
       "      <th>4</th>\n",
       "      <td>Brussels_londOn</td>\n",
       "      <td>10085.0</td>\n",
       "      <td>[67, 32]</td>\n",
       "      <td>\"Swiss Air\"</td>\n",
       "    </tr>\n",
       "  </tbody>\n",
       "</table>\n",
       "</div>"
      ],
      "text/plain": [
       "            From_To  FlightNumber  RecentDelays              Airline\n",
       "0      LoNDon_paris       10045.0      [23, 47]               KLM(!)\n",
       "1      MAdrid_miLAN           NaN            []    <Air France> (12)\n",
       "2  londON_StockhOlm       10065.0  [24, 43, 87]  (British Airways. )\n",
       "3    Budapest_PaRis           NaN          [13]       12. Air France\n",
       "4   Brussels_londOn       10085.0      [67, 32]          \"Swiss Air\""
      ]
     },
     "execution_count": 214,
     "metadata": {},
     "output_type": "execute_result"
    }
   ],
   "source": [
    "df = pd.DataFrame({'From_To': ['LoNDon_paris', 'MAdrid_miLAN', 'londON_StockhOlm', \n",
    "                               'Budapest_PaRis', 'Brussels_londOn'],\n",
    "              'FlightNumber': [10045, np.nan, 10065, np.nan, 10085],\n",
    "              'RecentDelays': [[23, 47], [], [24, 43, 87], [13], [67, 32]],\n",
    "                   'Airline': ['KLM(!)', '<Air France> (12)', '(British Airways. )', \n",
    "                               '12. Air France', '\"Swiss Air\"']})\n",
    "df"
   ]
  },
  {
   "cell_type": "markdown",
   "id": "1a3b8bde",
   "metadata": {},
   "source": [
    "37. FlightNumber列中有些值缺失了，他们本来应该是每一行增加10，填充缺失的数值，并且令数据类型为整数"
   ]
  },
  {
   "cell_type": "code",
   "execution_count": 215,
   "id": "cee0bebf",
   "metadata": {},
   "outputs": [
    {
     "data": {
      "text/html": [
       "<div>\n",
       "<style scoped>\n",
       "    .dataframe tbody tr th:only-of-type {\n",
       "        vertical-align: middle;\n",
       "    }\n",
       "\n",
       "    .dataframe tbody tr th {\n",
       "        vertical-align: top;\n",
       "    }\n",
       "\n",
       "    .dataframe thead th {\n",
       "        text-align: right;\n",
       "    }\n",
       "</style>\n",
       "<table border=\"1\" class=\"dataframe\">\n",
       "  <thead>\n",
       "    <tr style=\"text-align: right;\">\n",
       "      <th></th>\n",
       "      <th>From_To</th>\n",
       "      <th>FlightNumber</th>\n",
       "      <th>RecentDelays</th>\n",
       "      <th>Airline</th>\n",
       "    </tr>\n",
       "  </thead>\n",
       "  <tbody>\n",
       "    <tr>\n",
       "      <th>0</th>\n",
       "      <td>LoNDon_paris</td>\n",
       "      <td>10045</td>\n",
       "      <td>[23, 47]</td>\n",
       "      <td>KLM(!)</td>\n",
       "    </tr>\n",
       "    <tr>\n",
       "      <th>1</th>\n",
       "      <td>MAdrid_miLAN</td>\n",
       "      <td>10055</td>\n",
       "      <td>[]</td>\n",
       "      <td>&lt;Air France&gt; (12)</td>\n",
       "    </tr>\n",
       "    <tr>\n",
       "      <th>2</th>\n",
       "      <td>londON_StockhOlm</td>\n",
       "      <td>10065</td>\n",
       "      <td>[24, 43, 87]</td>\n",
       "      <td>(British Airways. )</td>\n",
       "    </tr>\n",
       "    <tr>\n",
       "      <th>3</th>\n",
       "      <td>Budapest_PaRis</td>\n",
       "      <td>10075</td>\n",
       "      <td>[13]</td>\n",
       "      <td>12. Air France</td>\n",
       "    </tr>\n",
       "    <tr>\n",
       "      <th>4</th>\n",
       "      <td>Brussels_londOn</td>\n",
       "      <td>10085</td>\n",
       "      <td>[67, 32]</td>\n",
       "      <td>\"Swiss Air\"</td>\n",
       "    </tr>\n",
       "  </tbody>\n",
       "</table>\n",
       "</div>"
      ],
      "text/plain": [
       "            From_To  FlightNumber  RecentDelays              Airline\n",
       "0      LoNDon_paris         10045      [23, 47]               KLM(!)\n",
       "1      MAdrid_miLAN         10055            []    <Air France> (12)\n",
       "2  londON_StockhOlm         10065  [24, 43, 87]  (British Airways. )\n",
       "3    Budapest_PaRis         10075          [13]       12. Air France\n",
       "4   Brussels_londOn         10085      [67, 32]          \"Swiss Air\""
      ]
     },
     "execution_count": 215,
     "metadata": {},
     "output_type": "execute_result"
    }
   ],
   "source": [
    "# 用 Interpolate直接做插值\n",
    "df['FlightNumber'] = df['FlightNumber'].interpolate().astype(int)\n",
    "df"
   ]
  },
  {
   "cell_type": "markdown",
   "id": "d8c0cda6",
   "metadata": {},
   "source": [
    "38. 将From_To列从_分开，分成From, To两列，并删除原始列"
   ]
  },
  {
   "cell_type": "code",
   "execution_count": 216,
   "id": "5c9885bc",
   "metadata": {},
   "outputs": [
    {
     "name": "stdout",
     "output_type": "stream",
     "text": [
      "          0          1\n",
      "0    LoNDon      paris\n",
      "1    MAdrid      miLAN\n",
      "2    londON  StockhOlm\n",
      "3  Budapest      PaRis\n",
      "4  Brussels     londOn\n"
     ]
    }
   ],
   "source": [
    "# 没有expand会变成列表\n",
    "tmp = df['From_To'].str.split(\"_\", expand=True)\n",
    "print(tmp)\n",
    "tmp.columns = ['From', 'To']\n",
    "df = df.join(tmp)\n",
    "df.drop('From_To', axis = 1, inplace = True)"
   ]
  },
  {
   "cell_type": "code",
   "execution_count": 217,
   "id": "c340e223",
   "metadata": {},
   "outputs": [
    {
     "data": {
      "text/html": [
       "<div>\n",
       "<style scoped>\n",
       "    .dataframe tbody tr th:only-of-type {\n",
       "        vertical-align: middle;\n",
       "    }\n",
       "\n",
       "    .dataframe tbody tr th {\n",
       "        vertical-align: top;\n",
       "    }\n",
       "\n",
       "    .dataframe thead th {\n",
       "        text-align: right;\n",
       "    }\n",
       "</style>\n",
       "<table border=\"1\" class=\"dataframe\">\n",
       "  <thead>\n",
       "    <tr style=\"text-align: right;\">\n",
       "      <th></th>\n",
       "      <th>FlightNumber</th>\n",
       "      <th>RecentDelays</th>\n",
       "      <th>Airline</th>\n",
       "      <th>From</th>\n",
       "      <th>To</th>\n",
       "    </tr>\n",
       "  </thead>\n",
       "  <tbody>\n",
       "    <tr>\n",
       "      <th>0</th>\n",
       "      <td>10045</td>\n",
       "      <td>[23, 47]</td>\n",
       "      <td>KLM(!)</td>\n",
       "      <td>LoNDon</td>\n",
       "      <td>paris</td>\n",
       "    </tr>\n",
       "    <tr>\n",
       "      <th>1</th>\n",
       "      <td>10055</td>\n",
       "      <td>[]</td>\n",
       "      <td>&lt;Air France&gt; (12)</td>\n",
       "      <td>MAdrid</td>\n",
       "      <td>miLAN</td>\n",
       "    </tr>\n",
       "    <tr>\n",
       "      <th>2</th>\n",
       "      <td>10065</td>\n",
       "      <td>[24, 43, 87]</td>\n",
       "      <td>(British Airways. )</td>\n",
       "      <td>londON</td>\n",
       "      <td>StockhOlm</td>\n",
       "    </tr>\n",
       "    <tr>\n",
       "      <th>3</th>\n",
       "      <td>10075</td>\n",
       "      <td>[13]</td>\n",
       "      <td>12. Air France</td>\n",
       "      <td>Budapest</td>\n",
       "      <td>PaRis</td>\n",
       "    </tr>\n",
       "    <tr>\n",
       "      <th>4</th>\n",
       "      <td>10085</td>\n",
       "      <td>[67, 32]</td>\n",
       "      <td>\"Swiss Air\"</td>\n",
       "      <td>Brussels</td>\n",
       "      <td>londOn</td>\n",
       "    </tr>\n",
       "  </tbody>\n",
       "</table>\n",
       "</div>"
      ],
      "text/plain": [
       "   FlightNumber  RecentDelays              Airline      From         To\n",
       "0         10045      [23, 47]               KLM(!)    LoNDon      paris\n",
       "1         10055            []    <Air France> (12)    MAdrid      miLAN\n",
       "2         10065  [24, 43, 87]  (British Airways. )    londON  StockhOlm\n",
       "3         10075          [13]       12. Air France  Budapest      PaRis\n",
       "4         10085      [67, 32]          \"Swiss Air\"  Brussels     londOn"
      ]
     },
     "execution_count": 217,
     "metadata": {},
     "output_type": "execute_result"
    }
   ],
   "source": [
    "df"
   ]
  },
  {
   "cell_type": "markdown",
   "id": "af08768c",
   "metadata": {},
   "source": [
    "39. 将From, To大小写统一首字母大写其余小写"
   ]
  },
  {
   "cell_type": "code",
   "execution_count": 218,
   "id": "0c6dcdd6",
   "metadata": {},
   "outputs": [
    {
     "data": {
      "text/html": [
       "<div>\n",
       "<style scoped>\n",
       "    .dataframe tbody tr th:only-of-type {\n",
       "        vertical-align: middle;\n",
       "    }\n",
       "\n",
       "    .dataframe tbody tr th {\n",
       "        vertical-align: top;\n",
       "    }\n",
       "\n",
       "    .dataframe thead th {\n",
       "        text-align: right;\n",
       "    }\n",
       "</style>\n",
       "<table border=\"1\" class=\"dataframe\">\n",
       "  <thead>\n",
       "    <tr style=\"text-align: right;\">\n",
       "      <th></th>\n",
       "      <th>FlightNumber</th>\n",
       "      <th>RecentDelays</th>\n",
       "      <th>Airline</th>\n",
       "      <th>From</th>\n",
       "      <th>To</th>\n",
       "    </tr>\n",
       "  </thead>\n",
       "  <tbody>\n",
       "    <tr>\n",
       "      <th>0</th>\n",
       "      <td>10045</td>\n",
       "      <td>[23, 47]</td>\n",
       "      <td>KLM(!)</td>\n",
       "      <td>London</td>\n",
       "      <td>Paris</td>\n",
       "    </tr>\n",
       "    <tr>\n",
       "      <th>1</th>\n",
       "      <td>10055</td>\n",
       "      <td>[]</td>\n",
       "      <td>&lt;Air France&gt; (12)</td>\n",
       "      <td>Madrid</td>\n",
       "      <td>Milan</td>\n",
       "    </tr>\n",
       "    <tr>\n",
       "      <th>2</th>\n",
       "      <td>10065</td>\n",
       "      <td>[24, 43, 87]</td>\n",
       "      <td>(British Airways. )</td>\n",
       "      <td>London</td>\n",
       "      <td>Stockholm</td>\n",
       "    </tr>\n",
       "    <tr>\n",
       "      <th>3</th>\n",
       "      <td>10075</td>\n",
       "      <td>[13]</td>\n",
       "      <td>12. Air France</td>\n",
       "      <td>Budapest</td>\n",
       "      <td>Paris</td>\n",
       "    </tr>\n",
       "    <tr>\n",
       "      <th>4</th>\n",
       "      <td>10085</td>\n",
       "      <td>[67, 32]</td>\n",
       "      <td>\"Swiss Air\"</td>\n",
       "      <td>Brussels</td>\n",
       "      <td>London</td>\n",
       "    </tr>\n",
       "  </tbody>\n",
       "</table>\n",
       "</div>"
      ],
      "text/plain": [
       "   FlightNumber  RecentDelays              Airline      From         To\n",
       "0         10045      [23, 47]               KLM(!)    London      Paris\n",
       "1         10055            []    <Air France> (12)    Madrid      Milan\n",
       "2         10065  [24, 43, 87]  (British Airways. )    London  Stockholm\n",
       "3         10075          [13]       12. Air France  Budapest      Paris\n",
       "4         10085      [67, 32]          \"Swiss Air\"  Brussels     London"
      ]
     },
     "execution_count": 218,
     "metadata": {},
     "output_type": "execute_result"
    }
   ],
   "source": [
    "df['From'] = df['From'].str.capitalize()\n",
    "df['To'] = df['To'].str.capitalize()\n",
    "df"
   ]
  },
  {
   "cell_type": "markdown",
   "id": "424dd3e5",
   "metadata": {},
   "source": [
    "40. Airline列，有一些多余的标点符号，需要提取出正确的航司名称。举例：'(British Airways. )' 应该改为 'British Airways'."
   ]
  },
  {
   "cell_type": "code",
   "execution_count": 219,
   "id": "18d697aa",
   "metadata": {},
   "outputs": [
    {
     "data": {
      "text/html": [
       "<div>\n",
       "<style scoped>\n",
       "    .dataframe tbody tr th:only-of-type {\n",
       "        vertical-align: middle;\n",
       "    }\n",
       "\n",
       "    .dataframe tbody tr th {\n",
       "        vertical-align: top;\n",
       "    }\n",
       "\n",
       "    .dataframe thead th {\n",
       "        text-align: right;\n",
       "    }\n",
       "</style>\n",
       "<table border=\"1\" class=\"dataframe\">\n",
       "  <thead>\n",
       "    <tr style=\"text-align: right;\">\n",
       "      <th></th>\n",
       "      <th>FlightNumber</th>\n",
       "      <th>RecentDelays</th>\n",
       "      <th>Airline</th>\n",
       "      <th>From</th>\n",
       "      <th>To</th>\n",
       "    </tr>\n",
       "  </thead>\n",
       "  <tbody>\n",
       "    <tr>\n",
       "      <th>0</th>\n",
       "      <td>10045</td>\n",
       "      <td>[23, 47]</td>\n",
       "      <td>KLM</td>\n",
       "      <td>London</td>\n",
       "      <td>Paris</td>\n",
       "    </tr>\n",
       "    <tr>\n",
       "      <th>1</th>\n",
       "      <td>10055</td>\n",
       "      <td>[]</td>\n",
       "      <td>Air France</td>\n",
       "      <td>Madrid</td>\n",
       "      <td>Milan</td>\n",
       "    </tr>\n",
       "    <tr>\n",
       "      <th>2</th>\n",
       "      <td>10065</td>\n",
       "      <td>[24, 43, 87]</td>\n",
       "      <td>British Airways</td>\n",
       "      <td>London</td>\n",
       "      <td>Stockholm</td>\n",
       "    </tr>\n",
       "    <tr>\n",
       "      <th>3</th>\n",
       "      <td>10075</td>\n",
       "      <td>[13]</td>\n",
       "      <td>Air France</td>\n",
       "      <td>Budapest</td>\n",
       "      <td>Paris</td>\n",
       "    </tr>\n",
       "    <tr>\n",
       "      <th>4</th>\n",
       "      <td>10085</td>\n",
       "      <td>[67, 32]</td>\n",
       "      <td>Swiss Air</td>\n",
       "      <td>Brussels</td>\n",
       "      <td>London</td>\n",
       "    </tr>\n",
       "  </tbody>\n",
       "</table>\n",
       "</div>"
      ],
      "text/plain": [
       "   FlightNumber  RecentDelays          Airline      From         To\n",
       "0         10045      [23, 47]              KLM    London      Paris\n",
       "1         10055            []       Air France    Madrid      Milan\n",
       "2         10065  [24, 43, 87]  British Airways    London  Stockholm\n",
       "3         10075          [13]       Air France  Budapest      Paris\n",
       "4         10085      [67, 32]        Swiss Air  Brussels     London"
      ]
     },
     "execution_count": 219,
     "metadata": {},
     "output_type": "execute_result"
    }
   ],
   "source": [
    "df['Airline'] = df['Airline'].str.extract('([a-zA-Z\\s]+)', expand=False).str.strip()\n",
    "df"
   ]
  },
  {
   "cell_type": "markdown",
   "id": "e9804980",
   "metadata": {},
   "source": [
    "41. Airline列，数据被以列表的形式录入，但是我们希望每个数字被录入成单独一列，delay_1, delay_2, ...没有的用NAN替代。"
   ]
  },
  {
   "cell_type": "code",
   "execution_count": 220,
   "id": "a2fbbf30",
   "metadata": {},
   "outputs": [
    {
     "name": "stdout",
     "output_type": "stream",
     "text": [
      "      0     1     2\n",
      "0  23.0  47.0   NaN\n",
      "1   NaN   NaN   NaN\n",
      "2  24.0  43.0  87.0\n",
      "3  13.0   NaN   NaN\n",
      "4  67.0  32.0   NaN\n"
     ]
    },
    {
     "data": {
      "text/html": [
       "<div>\n",
       "<style scoped>\n",
       "    .dataframe tbody tr th:only-of-type {\n",
       "        vertical-align: middle;\n",
       "    }\n",
       "\n",
       "    .dataframe tbody tr th {\n",
       "        vertical-align: top;\n",
       "    }\n",
       "\n",
       "    .dataframe thead th {\n",
       "        text-align: right;\n",
       "    }\n",
       "</style>\n",
       "<table border=\"1\" class=\"dataframe\">\n",
       "  <thead>\n",
       "    <tr style=\"text-align: right;\">\n",
       "      <th></th>\n",
       "      <th>FlightNumber</th>\n",
       "      <th>Airline</th>\n",
       "      <th>From</th>\n",
       "      <th>To</th>\n",
       "      <th>delay_1</th>\n",
       "      <th>delay_2</th>\n",
       "      <th>delay_3</th>\n",
       "    </tr>\n",
       "  </thead>\n",
       "  <tbody>\n",
       "    <tr>\n",
       "      <th>0</th>\n",
       "      <td>10045</td>\n",
       "      <td>KLM</td>\n",
       "      <td>London</td>\n",
       "      <td>Paris</td>\n",
       "      <td>23.0</td>\n",
       "      <td>47.0</td>\n",
       "      <td>NaN</td>\n",
       "    </tr>\n",
       "    <tr>\n",
       "      <th>1</th>\n",
       "      <td>10055</td>\n",
       "      <td>Air France</td>\n",
       "      <td>Madrid</td>\n",
       "      <td>Milan</td>\n",
       "      <td>NaN</td>\n",
       "      <td>NaN</td>\n",
       "      <td>NaN</td>\n",
       "    </tr>\n",
       "    <tr>\n",
       "      <th>2</th>\n",
       "      <td>10065</td>\n",
       "      <td>British Airways</td>\n",
       "      <td>London</td>\n",
       "      <td>Stockholm</td>\n",
       "      <td>24.0</td>\n",
       "      <td>43.0</td>\n",
       "      <td>87.0</td>\n",
       "    </tr>\n",
       "    <tr>\n",
       "      <th>3</th>\n",
       "      <td>10075</td>\n",
       "      <td>Air France</td>\n",
       "      <td>Budapest</td>\n",
       "      <td>Paris</td>\n",
       "      <td>13.0</td>\n",
       "      <td>NaN</td>\n",
       "      <td>NaN</td>\n",
       "    </tr>\n",
       "    <tr>\n",
       "      <th>4</th>\n",
       "      <td>10085</td>\n",
       "      <td>Swiss Air</td>\n",
       "      <td>Brussels</td>\n",
       "      <td>London</td>\n",
       "      <td>67.0</td>\n",
       "      <td>32.0</td>\n",
       "      <td>NaN</td>\n",
       "    </tr>\n",
       "  </tbody>\n",
       "</table>\n",
       "</div>"
      ],
      "text/plain": [
       "   FlightNumber          Airline      From         To  delay_1  delay_2  \\\n",
       "0         10045              KLM    London      Paris     23.0     47.0   \n",
       "1         10055       Air France    Madrid      Milan      NaN      NaN   \n",
       "2         10065  British Airways    London  Stockholm     24.0     43.0   \n",
       "3         10075       Air France  Budapest      Paris     13.0      NaN   \n",
       "4         10085        Swiss Air  Brussels     London     67.0     32.0   \n",
       "\n",
       "   delay_3  \n",
       "0      NaN  \n",
       "1      NaN  \n",
       "2     87.0  \n",
       "3      NaN  \n",
       "4      NaN  "
      ]
     },
     "execution_count": 220,
     "metadata": {},
     "output_type": "execute_result"
    }
   ],
   "source": [
    "# 每一行都变成pd.Series\n",
    "delays = df['RecentDelays'].apply(pd.Series)\n",
    "print(delays)\n",
    "# 重命名\n",
    "delays.columns = ['delay_{}'.format(n) for n in range(1, len(delays.columns)+1)]\n",
    "df = df.drop('RecentDelays', axis=1).join(delays)\n",
    "df"
   ]
  },
  {
   "cell_type": "markdown",
   "id": "a2197f0d",
   "metadata": {},
   "source": [
    "### 层次化索引"
   ]
  },
  {
   "cell_type": "markdown",
   "id": "a02bfb53",
   "metadata": {},
   "source": [
    "42. 用 letters = ['A', 'B', 'C']和 numbers = list(range(10))的组合作为系列随机值的层次化索引\n",
    "\n",
    "【层次化索引是pandas的一项重要功能，它能使你在一个轴上有多个索引级别，也就是说，它能使你以低维度形式处理高维度数据】"
   ]
  },
  {
   "cell_type": "code",
   "execution_count": 221,
   "id": "d3f9f227",
   "metadata": {},
   "outputs": [
    {
     "data": {
      "text/plain": [
       "A  0    0.838976\n",
       "   1    0.747085\n",
       "   2    0.947999\n",
       "   3    0.653863\n",
       "B  0    0.061181\n",
       "   1    0.602201\n",
       "   2    0.067105\n",
       "   3    0.818981\n",
       "C  0    0.573411\n",
       "   1    0.248492\n",
       "   2    0.142801\n",
       "   3    0.877992\n",
       "dtype: float64"
      ]
     },
     "execution_count": 221,
     "metadata": {},
     "output_type": "execute_result"
    }
   ],
   "source": [
    "letters = ['A', 'B', 'C']\n",
    "numbers = list(range(4))\n",
    "\n",
    "mi = pd.MultiIndex.from_product([letters, numbers])\n",
    "s = pd.Series(np.random.rand(12), index=mi)\n",
    "s"
   ]
  },
  {
   "cell_type": "markdown",
   "id": "aac04952",
   "metadata": {},
   "source": [
    "43. 检查s是否是字典顺序排序的"
   ]
  },
  {
   "cell_type": "code",
   "execution_count": 222,
   "id": "f710d5d5",
   "metadata": {},
   "outputs": [
    {
     "name": "stderr",
     "output_type": "stream",
     "text": [
      "C:\\Users\\rina\\AppData\\Local\\Temp/ipykernel_12592/1287029911.py:1: FutureWarning: MultiIndex.is_lexsorted is deprecated as a public function, users should use MultiIndex.is_monotonic_increasing instead.\n",
      "  s.index.is_lexsorted()\n"
     ]
    },
    {
     "data": {
      "text/plain": [
       "True"
      ]
     },
     "execution_count": 222,
     "metadata": {},
     "output_type": "execute_result"
    }
   ],
   "source": [
    "s.index.is_lexsorted()\n",
    "# 方法二\n",
    "# s.index.lexsort_depth == s.index.nlevels"
   ]
  },
  {
   "cell_type": "markdown",
   "id": "b59d39f1",
   "metadata": {},
   "source": [
    "44. 选择二级索引为1, 3的行"
   ]
  },
  {
   "cell_type": "code",
   "execution_count": 223,
   "id": "fdab1d5d",
   "metadata": {},
   "outputs": [
    {
     "data": {
      "text/plain": [
       "A  1    0.747085\n",
       "   3    0.653863\n",
       "B  1    0.602201\n",
       "   3    0.818981\n",
       "C  1    0.248492\n",
       "   3    0.877992\n",
       "dtype: float64"
      ]
     },
     "execution_count": 223,
     "metadata": {},
     "output_type": "execute_result"
    }
   ],
   "source": [
    "s.loc[:, [1, 3]]"
   ]
  },
  {
   "cell_type": "markdown",
   "id": "cf5f48d5",
   "metadata": {},
   "source": [
    "45. 对s进行切片操作，取一级索引至B，二级索引从2开始到最后"
   ]
  },
  {
   "cell_type": "code",
   "execution_count": 224,
   "id": "0666347c",
   "metadata": {},
   "outputs": [
    {
     "data": {
      "text/plain": [
       "A  2    0.947999\n",
       "   3    0.653863\n",
       "B  2    0.067105\n",
       "   3    0.818981\n",
       "dtype: float64"
      ]
     },
     "execution_count": 224,
     "metadata": {},
     "output_type": "execute_result"
    }
   ],
   "source": [
    "s.loc[pd.IndexSlice[:'B', 2:]]\n",
    "# 方法二\n",
    "# s.loc[slice(None, 'B'), slice(2, None)]"
   ]
  },
  {
   "cell_type": "markdown",
   "id": "a4e14308",
   "metadata": {},
   "source": [
    "46. 计算每个一级索引的和（A, B, C每一个的和）"
   ]
  },
  {
   "cell_type": "code",
   "execution_count": 225,
   "id": "f764189a",
   "metadata": {},
   "outputs": [
    {
     "name": "stderr",
     "output_type": "stream",
     "text": [
      "C:\\Users\\rina\\AppData\\Local\\Temp/ipykernel_12592/1970297740.py:1: FutureWarning: Using the level keyword in DataFrame and Series aggregations is deprecated and will be removed in a future version. Use groupby instead. df.sum(level=1) should use df.groupby(level=1).sum().\n",
      "  s.sum(level=0)\n"
     ]
    },
    {
     "data": {
      "text/plain": [
       "A    3.187922\n",
       "B    1.549468\n",
       "C    1.842695\n",
       "dtype: float64"
      ]
     },
     "execution_count": 225,
     "metadata": {},
     "output_type": "execute_result"
    }
   ],
   "source": [
    "s.sum(level=0)"
   ]
  },
  {
   "cell_type": "markdown",
   "id": "e895c7a5",
   "metadata": {},
   "source": [
    "47. 交换索引等级，新的Series是字典顺序吗？不是的话请排序"
   ]
  },
  {
   "cell_type": "code",
   "execution_count": 226,
   "id": "1fc3bc8d",
   "metadata": {},
   "outputs": [
    {
     "name": "stdout",
     "output_type": "stream",
     "text": [
      "0  A    0.838976\n",
      "1  A    0.747085\n",
      "2  A    0.947999\n",
      "3  A    0.653863\n",
      "0  B    0.061181\n",
      "1  B    0.602201\n",
      "2  B    0.067105\n",
      "3  B    0.818981\n",
      "0  C    0.573411\n",
      "1  C    0.248492\n",
      "2  C    0.142801\n",
      "3  C    0.877992\n",
      "dtype: float64\n",
      "False\n",
      "0  A    0.838976\n",
      "   B    0.061181\n",
      "   C    0.573411\n",
      "1  A    0.747085\n",
      "   B    0.602201\n",
      "   C    0.248492\n",
      "2  A    0.947999\n",
      "   B    0.067105\n",
      "   C    0.142801\n",
      "3  A    0.653863\n",
      "   B    0.818981\n",
      "   C    0.877992\n",
      "dtype: float64\n"
     ]
    },
    {
     "name": "stderr",
     "output_type": "stream",
     "text": [
      "C:\\Users\\rina\\AppData\\Local\\Temp/ipykernel_12592/265693915.py:3: FutureWarning: MultiIndex.is_lexsorted is deprecated as a public function, users should use MultiIndex.is_monotonic_increasing instead.\n",
      "  print(new_s.index.is_lexsorted())\n"
     ]
    }
   ],
   "source": [
    "new_s = s.swaplevel(0, 1)\n",
    "print(new_s)\n",
    "print(new_s.index.is_lexsorted())\n",
    "new_s = new_s.sort_index()\n",
    "print(new_s)"
   ]
  },
  {
   "cell_type": "code",
   "execution_count": null,
   "id": "723c7812",
   "metadata": {},
   "outputs": [],
   "source": []
  }
 ],
 "metadata": {
  "kernelspec": {
   "display_name": "Python 3 (ipykernel)",
   "language": "python",
   "name": "python3"
  },
  "language_info": {
   "codemirror_mode": {
    "name": "ipython",
    "version": 3
   },
   "file_extension": ".py",
   "mimetype": "text/x-python",
   "name": "python",
   "nbconvert_exporter": "python",
   "pygments_lexer": "ipython3",
   "version": "3.9.7"
  }
 },
 "nbformat": 4,
 "nbformat_minor": 5
}
