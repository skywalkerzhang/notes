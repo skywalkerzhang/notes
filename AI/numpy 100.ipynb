{
 "cells": [
  {
   "cell_type": "code",
   "execution_count": 6,
   "id": "06e513d9",
   "metadata": {},
   "outputs": [
    {
     "name": "stdout",
     "output_type": "stream",
     "text": [
      "2\n"
     ]
    }
   ],
   "source": [
    "num = 1\n",
    "def fn():\n",
    "    global num\n",
    "    num += 1\n",
    "    return lambda : print(num)\n",
    "x = fn();\n",
    "x() \n",
    "# 返回的是个函数"
   ]
  },
  {
   "cell_type": "code",
   "execution_count": 32,
   "id": "fd911789",
   "metadata": {},
   "outputs": [],
   "source": [
    "sets = {1, 2, 3, 4, 5}\n",
    "# print(sets[2])\n",
    "# set不可以用下标访问"
   ]
  },
  {
   "cell_type": "markdown",
   "id": "956d9a28",
   "metadata": {},
   "source": [
    "numpy 100题"
   ]
  },
  {
   "cell_type": "markdown",
   "id": "24a1fabe",
   "metadata": {},
   "source": [
    "1. 导入numpy库并简写为 np\n",
    "2. 打印numpy的版本和配置说明"
   ]
  },
  {
   "cell_type": "code",
   "execution_count": 8,
   "id": "18d06640",
   "metadata": {},
   "outputs": [
    {
     "name": "stdout",
     "output_type": "stream",
     "text": [
      "1.21.2\n"
     ]
    }
   ],
   "source": [
    "import numpy as np\n",
    "print(np.__version__)"
   ]
  },
  {
   "cell_type": "markdown",
   "id": "83515c92",
   "metadata": {},
   "source": [
    "3. 创建一个长度为10的空向量(0向量)"
   ]
  },
  {
   "cell_type": "code",
   "execution_count": 10,
   "id": "9a1dc94a",
   "metadata": {},
   "outputs": [
    {
     "name": "stdout",
     "output_type": "stream",
     "text": [
      "[0. 0. 0. 0. 0. 0. 0. 0. 0. 0.]\n"
     ]
    }
   ],
   "source": [
    "x = np.zeros(10)\n",
    "print(x)"
   ]
  },
  {
   "cell_type": "markdown",
   "id": "07673900",
   "metadata": {},
   "source": [
    "4. 如何找到任何一个数组的内存大小？\n",
    "(提示: size, itemsize)"
   ]
  },
  {
   "cell_type": "code",
   "execution_count": 21,
   "id": "5cc684cf",
   "metadata": {},
   "outputs": [
    {
     "name": "stdout",
     "output_type": "stream",
     "text": [
      "10\n",
      "100 8\n",
      "内存是 800\n",
      "2 12\n"
     ]
    }
   ],
   "source": [
    "print(x.size)\n",
    "# 里面是元组\n",
    "z = np.zeros((10, 10))\n",
    "# z.size是数组的大小， z.itemsize是z的类型的大小\n",
    "print(z.size, z.itemsize)\n",
    "print(\"内存是\", z.size * z.itemsize)\n",
    "ch = np.char.add(['a','b'],['cd'])\n",
    "print(ch.size, ch.itemsize)"
   ]
  },
  {
   "cell_type": "markdown",
   "id": "15576ecb",
   "metadata": {},
   "source": [
    "5. 如何从命令行得到numpy中add函数的说明文档?"
   ]
  },
  {
   "cell_type": "code",
   "execution_count": 23,
   "id": "bd0cb2f3",
   "metadata": {},
   "outputs": [
    {
     "name": "stdout",
     "output_type": "stream",
     "text": [
      "add(x1, x2, /, out=None, *, where=True, casting='same_kind', order='K', dtype=None, subok=True[, signature, extobj])\n",
      "\n",
      "Add arguments element-wise.\n",
      "\n",
      "Parameters\n",
      "----------\n",
      "x1, x2 : array_like\n",
      "    The arrays to be added.\n",
      "    If ``x1.shape != x2.shape``, they must be broadcastable to a common\n",
      "    shape (which becomes the shape of the output).\n",
      "out : ndarray, None, or tuple of ndarray and None, optional\n",
      "    A location into which the result is stored. If provided, it must have\n",
      "    a shape that the inputs broadcast to. If not provided or None,\n",
      "    a freshly-allocated array is returned. A tuple (possible only as a\n",
      "    keyword argument) must have length equal to the number of outputs.\n",
      "where : array_like, optional\n",
      "    This condition is broadcast over the input. At locations where the\n",
      "    condition is True, the `out` array will be set to the ufunc result.\n",
      "    Elsewhere, the `out` array will retain its original value.\n",
      "    Note that if an uninitialized `out` array is created via the default\n",
      "    ``out=None``, locations within it where the condition is False will\n",
      "    remain uninitialized.\n",
      "**kwargs\n",
      "    For other keyword-only arguments, see the\n",
      "    :ref:`ufunc docs <ufuncs.kwargs>`.\n",
      "\n",
      "Returns\n",
      "-------\n",
      "add : ndarray or scalar\n",
      "    The sum of `x1` and `x2`, element-wise.\n",
      "    This is a scalar if both `x1` and `x2` are scalars.\n",
      "\n",
      "Notes\n",
      "-----\n",
      "Equivalent to `x1` + `x2` in terms of array broadcasting.\n",
      "\n",
      "Examples\n",
      "--------\n",
      ">>> np.add(1.0, 4.0)\n",
      "5.0\n",
      ">>> x1 = np.arange(9.0).reshape((3, 3))\n",
      ">>> x2 = np.arange(3.0)\n",
      ">>> np.add(x1, x2)\n",
      "array([[  0.,   2.,   4.],\n",
      "       [  3.,   5.,   7.],\n",
      "       [  6.,   8.,  10.]])\n",
      "\n",
      "The ``+`` operator can be used as a shorthand for ``np.add`` on ndarrays.\n",
      "\n",
      ">>> x1 = np.arange(9.0).reshape((3, 3))\n",
      ">>> x2 = np.arange(3.0)\n",
      ">>> x1 + x2\n",
      "array([[ 0.,  2.,  4.],\n",
      "       [ 3.,  5.,  7.],\n",
      "       [ 6.,  8., 10.]])\n"
     ]
    }
   ],
   "source": [
    "np.info(np.add)"
   ]
  },
  {
   "cell_type": "markdown",
   "id": "457285b7",
   "metadata": {},
   "source": [
    "6. 创建一个长度为10并且除了第五个值为1的空向量"
   ]
  },
  {
   "cell_type": "code",
   "execution_count": 24,
   "id": "05837459",
   "metadata": {},
   "outputs": [
    {
     "data": {
      "text/plain": [
       "array([0, 0, 0, 0, 1, 0, 0, 0, 0, 0])"
      ]
     },
     "execution_count": 24,
     "metadata": {},
     "output_type": "execute_result"
    }
   ],
   "source": [
    "np.array([0, 0, 0, 0, 1, 0, 0, 0, 0, 0])"
   ]
  },
  {
   "cell_type": "markdown",
   "id": "91895887",
   "metadata": {},
   "source": [
    "7. 创建一个值域范围从10到49的向量"
   ]
  },
  {
   "cell_type": "code",
   "execution_count": 39,
   "id": "7d57b7f6",
   "metadata": {},
   "outputs": [
    {
     "name": "stdout",
     "output_type": "stream",
     "text": [
      "[10 11 12 13 14 15 16 17 18 19 20 21 22 23 24 25 26 27 28 29 30 31 32 33\n",
      " 34 35 36 37 38 39 40 41 42 43 44 45 46 47 48 49]\n"
     ]
    }
   ],
   "source": [
    "x = np.arange(10, 50)\n",
    "print(x)"
   ]
  },
  {
   "cell_type": "markdown",
   "id": "26be0f66",
   "metadata": {},
   "source": [
    "8. 反转一个向量(第一个元素变为最后一个)"
   ]
  },
  {
   "cell_type": "code",
   "execution_count": 40,
   "id": "8ec8e474",
   "metadata": {},
   "outputs": [
    {
     "name": "stdout",
     "output_type": "stream",
     "text": [
      "[49 48 47 46 45 44 43 42 41 40 39 38 37 36 35 34 33 32 31 30 29 28 27 26\n",
      " 25 24 23 22 21 20 19 18 17 16 15 14 13 12 11 10]\n"
     ]
    }
   ],
   "source": [
    "x = x[::-1]\n",
    "print(x)"
   ]
  },
  {
   "cell_type": "markdown",
   "id": "f79545f9",
   "metadata": {},
   "source": [
    "9. 创建一个 3x3 并且值从0到8的矩阵"
   ]
  },
  {
   "cell_type": "code",
   "execution_count": 33,
   "id": "216af7ad",
   "metadata": {},
   "outputs": [
    {
     "name": "stdout",
     "output_type": "stream",
     "text": [
      "[[0 1 2]\n",
      " [3 4 5]\n",
      " [6 7 8]]\n"
     ]
    }
   ],
   "source": [
    "z = np.arange(9).reshape(3, 3)\n",
    "print(z)"
   ]
  },
  {
   "cell_type": "markdown",
   "id": "9287bb3e",
   "metadata": {},
   "source": [
    "10. 找到数组[1,2,0,0,4,0]中非0元素的位置索引"
   ]
  },
  {
   "cell_type": "code",
   "execution_count": 42,
   "id": "ce04d916",
   "metadata": {},
   "outputs": [
    {
     "name": "stdout",
     "output_type": "stream",
     "text": [
      "(array([0, 1, 4], dtype=int64),)\n"
     ]
    }
   ],
   "source": [
    "nz = np.nonzero([1,2,0,0,4,0])\n",
    "print(nz)"
   ]
  },
  {
   "cell_type": "markdown",
   "id": "4da2034e",
   "metadata": {},
   "source": [
    "11. 创建一个 3x3 的单位矩阵（左上角到右下角为1，其他全为0）"
   ]
  },
  {
   "cell_type": "code",
   "execution_count": 45,
   "id": "aa6877b6",
   "metadata": {},
   "outputs": [
    {
     "name": "stdout",
     "output_type": "stream",
     "text": [
      "[[1. 0. 0.]\n",
      " [0. 1. 0.]\n",
      " [0. 0. 1.]]\n"
     ]
    }
   ],
   "source": [
    "# eye是单位矩阵\n",
    "x = np.eye(3)\n",
    "print(x)"
   ]
  },
  {
   "cell_type": "markdown",
   "id": "697679a1",
   "metadata": {},
   "source": [
    "12. 创建一个 3x3x3的随机数组"
   ]
  },
  {
   "cell_type": "code",
   "execution_count": 47,
   "id": "fe0e6b86",
   "metadata": {},
   "outputs": [
    {
     "data": {
      "text/plain": [
       "array([[[0.74605811, 0.37468636, 0.07968227],\n",
       "        [0.20553907, 0.08679881, 0.73168834],\n",
       "        [0.01467341, 0.1180034 , 0.1363029 ]],\n",
       "\n",
       "       [[0.91535596, 0.89048469, 0.80081631],\n",
       "        [0.41115856, 0.8016772 , 0.9597694 ],\n",
       "        [0.35283524, 0.9113531 , 0.98269134]],\n",
       "\n",
       "       [[0.17369227, 0.49913483, 0.09527206],\n",
       "        [0.06959002, 0.16764076, 0.72791849],\n",
       "        [0.51335894, 0.99986575, 0.48011724]]])"
      ]
     },
     "execution_count": 47,
     "metadata": {},
     "output_type": "execute_result"
    }
   ],
   "source": [
    "np.random.random((3,3,3))"
   ]
  },
  {
   "cell_type": "markdown",
   "id": "be07dd81",
   "metadata": {},
   "source": [
    "13. 创建一个 10x10 的随机数组并找到它的最大值和最小值"
   ]
  },
  {
   "cell_type": "code",
   "execution_count": 49,
   "id": "95afdc2d",
   "metadata": {},
   "outputs": [
    {
     "name": "stdout",
     "output_type": "stream",
     "text": [
      "[[0.85644909 0.20050948 0.3865232  0.21114    0.1647392  0.36498253\n",
      "  0.34424712 0.3741771  0.11823343 0.69915621]\n",
      " [0.87240344 0.57398639 0.27542715 0.08674377 0.3822319  0.611303\n",
      "  0.09119418 0.7138369  0.61620027 0.78332071]\n",
      " [0.49430549 0.26607114 0.3430202  0.69536332 0.3016026  0.40558728\n",
      "  0.07129383 0.50532439 0.98636062 0.54555883]\n",
      " [0.22884321 0.37346598 0.88264477 0.64696111 0.43715077 0.65793923\n",
      "  0.18235436 0.51530095 0.87826766 0.99980818]\n",
      " [0.88351282 0.05782324 0.86867388 0.73329844 0.99219443 0.81113731\n",
      "  0.30217914 0.23245664 0.0895568  0.16764686]\n",
      " [0.90389253 0.50777289 0.14785754 0.77054828 0.31304325 0.47333392\n",
      "  0.44511406 0.37555627 0.12746302 0.33794839]\n",
      " [0.48778748 0.942405   0.8052614  0.24666672 0.81316381 0.12057841\n",
      "  0.83707934 0.02803174 0.09119037 0.28133639]\n",
      " [0.79667337 0.43514215 0.49224613 0.94969691 0.40233917 0.12617965\n",
      "  0.6636194  0.30417329 0.86073458 0.95699874]\n",
      " [0.63958657 0.93683821 0.16169967 0.62502416 0.44010436 0.2932238\n",
      "  0.56057291 0.5024082  0.20107421 0.77176015]\n",
      " [0.30493023 0.53158177 0.31479491 0.50982633 0.72946198 0.02904947\n",
      "  0.68554372 0.50958452 0.9090938  0.57225823]]\n",
      "0.999808184180839 0.028031743829679878\n"
     ]
    }
   ],
   "source": [
    "x = np.random.random((10, 10))\n",
    "print(x)\n",
    "max_value = x.max()\n",
    "min_value = x.min()\n",
    "print(max_value, min_value)"
   ]
  },
  {
   "cell_type": "markdown",
   "id": "22baa666",
   "metadata": {},
   "source": [
    "14. 创建一个长度为30的随机向量并找到它的平均值"
   ]
  },
  {
   "cell_type": "code",
   "execution_count": 52,
   "id": "59088061",
   "metadata": {},
   "outputs": [
    {
     "name": "stdout",
     "output_type": "stream",
     "text": [
      "[0.09616827 0.41872028 0.99776704 0.82293127 0.01481176 0.10318023\n",
      " 0.49581719 0.49678583 0.78274204 0.80269702 0.0307729  0.65964531\n",
      " 0.26522303 0.98061676 0.86489635 0.77477596 0.26991467 0.97765987\n",
      " 0.04017733 0.63925175 0.83019433 0.00810503 0.73484866 0.7039365\n",
      " 0.20655304 0.75519534 0.78150641 0.71465984 0.00818428 0.53441889] 0.5270719066682176\n"
     ]
    }
   ],
   "source": [
    "x = np.random.random(30)\n",
    "avg = x.mean()\n",
    "print(x, avg)"
   ]
  },
  {
   "cell_type": "markdown",
   "id": "d77dfa83",
   "metadata": {},
   "source": [
    "15.创建一二维数组，其中边界值为1，其余值为0"
   ]
  },
  {
   "cell_type": "code",
   "execution_count": 58,
   "id": "70c1ff77",
   "metadata": {},
   "outputs": [
    {
     "name": "stdout",
     "output_type": "stream",
     "text": [
      "[[1. 1. 1. 1. 1. 1. 1. 1. 1. 1.]\n",
      " [1. 1. 1. 1. 1. 1. 1. 1. 1. 1.]\n",
      " [1. 1. 1. 1. 1. 1. 1. 1. 1. 1.]\n",
      " [1. 1. 1. 1. 1. 1. 1. 1. 1. 1.]\n",
      " [1. 1. 1. 1. 1. 1. 1. 1. 1. 1.]\n",
      " [1. 1. 1. 1. 1. 1. 1. 1. 1. 1.]\n",
      " [1. 1. 1. 1. 1. 1. 1. 1. 1. 1.]\n",
      " [1. 1. 1. 1. 1. 1. 1. 1. 1. 1.]\n",
      " [1. 1. 1. 1. 1. 1. 1. 1. 1. 1.]\n",
      " [1. 1. 1. 1. 1. 1. 1. 1. 1. 1.]]\n",
      "[[1. 1. 1. 1. 1. 1. 1. 1. 1. 1.]\n",
      " [1. 0. 0. 0. 0. 0. 0. 0. 0. 1.]\n",
      " [1. 0. 0. 0. 0. 0. 0. 0. 0. 1.]\n",
      " [1. 0. 0. 0. 0. 0. 0. 0. 0. 1.]\n",
      " [1. 0. 0. 0. 0. 0. 0. 0. 0. 1.]\n",
      " [1. 0. 0. 0. 0. 0. 0. 0. 0. 1.]\n",
      " [1. 0. 0. 0. 0. 0. 0. 0. 0. 1.]\n",
      " [1. 0. 0. 0. 0. 0. 0. 0. 0. 1.]\n",
      " [1. 0. 0. 0. 0. 0. 0. 0. 0. 1.]\n",
      " [1. 1. 1. 1. 1. 1. 1. 1. 1. 1.]]\n"
     ]
    }
   ],
   "source": [
    "z = np.ones((10, 10))\n",
    "print(z)\n",
    "# 1表示从第二个开始取，-1表示最后一个，但是最后一个取不到\n",
    "z[1:-1, 1:-1] = 0\n",
    "print(z)"
   ]
  },
  {
   "cell_type": "markdown",
   "id": "d0190c1b",
   "metadata": {},
   "source": [
    "16. 对于一个存在在数组，如何添加一个用0填充的边界?"
   ]
  },
  {
   "cell_type": "code",
   "execution_count": 59,
   "id": "a2fab52a",
   "metadata": {},
   "outputs": [
    {
     "name": "stdout",
     "output_type": "stream",
     "text": [
      "[[0. 0. 0. 0. 0. 0. 0. 0. 0. 0. 0. 0.]\n",
      " [0. 1. 1. 1. 1. 1. 1. 1. 1. 1. 1. 0.]\n",
      " [0. 1. 0. 0. 0. 0. 0. 0. 0. 0. 1. 0.]\n",
      " [0. 1. 0. 0. 0. 0. 0. 0. 0. 0. 1. 0.]\n",
      " [0. 1. 0. 0. 0. 0. 0. 0. 0. 0. 1. 0.]\n",
      " [0. 1. 0. 0. 0. 0. 0. 0. 0. 0. 1. 0.]\n",
      " [0. 1. 0. 0. 0. 0. 0. 0. 0. 0. 1. 0.]\n",
      " [0. 1. 0. 0. 0. 0. 0. 0. 0. 0. 1. 0.]\n",
      " [0. 1. 0. 0. 0. 0. 0. 0. 0. 0. 1. 0.]\n",
      " [0. 1. 0. 0. 0. 0. 0. 0. 0. 0. 1. 0.]\n",
      " [0. 1. 1. 1. 1. 1. 1. 1. 1. 1. 1. 0.]\n",
      " [0. 0. 0. 0. 0. 0. 0. 0. 0. 0. 0. 0.]]\n"
     ]
    }
   ],
   "source": [
    "z = np.pad(z, pad_width=1, mode='constant', constant_values = 0)\n",
    "print(z)"
   ]
  },
  {
   "cell_type": "markdown",
   "id": "21fe857f",
   "metadata": {},
   "source": [
    "17. 以下表达式运行的结果分别是什么?"
   ]
  },
  {
   "cell_type": "code",
   "execution_count": 68,
   "id": "7e6aa765",
   "metadata": {},
   "outputs": [
    {
     "name": "stdout",
     "output_type": "stream",
     "text": [
      "nan\n",
      "False\n",
      "False\n",
      "nan\n",
      "True\n",
      "True\n",
      "True\n"
     ]
    }
   ],
   "source": [
    "print(0*np.nan)\n",
    "\n",
    "print(np.nan==np.nan)\n",
    "\n",
    "print(np.inf>np.nan)\n",
    "\n",
    "print(np.nan-np.nan)\n",
    "\n",
    "print(round(0.3, 2)==round(3*0.1, 2))\n",
    "\n",
    "print(np.inf > 0)\n",
    "print(-np.inf < 0)"
   ]
  },
  {
   "cell_type": "markdown",
   "id": "a2597923",
   "metadata": {},
   "source": [
    "nan(NAN，Nan):not a number 表示不是一个数字，np.nan是一个float类型的数据\n",
    "\n",
    "因为nan不是一个数，所以相关计算都无法得到数字。\n",
    "\n",
    "**所有涉及nan的操作，返回的都是nan**\n",
    "\n",
    "inf,-inf和nan没法比较大小\n",
    "\n",
    "\n",
    "<br/>\n",
    "“0.1==0.3返回值是假,即0 因为在计算机中浮点数的表示是误差的。所以一般情况下不进行两个浮点数是否相同的比较。而是比较两个浮点数的差点绝对值,是否小于一个很小的正数。如果条件满足,就认为这两个浮点数是相同的。”\n",
    "\n",
    "比浮点数大小可以考虑Decimal"
   ]
  },
  {
   "cell_type": "markdown",
   "id": "f1b67df8",
   "metadata": {},
   "source": [
    "18. 创建一个 5x5的矩阵，并设置值1,2,3,4落在其对角线下方位置（答案是y）"
   ]
  },
  {
   "cell_type": "code",
   "execution_count": 69,
   "id": "a48cb8ef",
   "metadata": {},
   "outputs": [
    {
     "name": "stdout",
     "output_type": "stream",
     "text": [
      "[[1 0 0 0]\n",
      " [0 2 0 0]\n",
      " [0 0 3 0]\n",
      " [0 0 0 4]]\n"
     ]
    }
   ],
   "source": [
    "x = np.diag(1 + np.arange(4))\n",
    "print(x)"
   ]
  },
  {
   "cell_type": "code",
   "execution_count": 71,
   "id": "44afe66e",
   "metadata": {},
   "outputs": [
    {
     "name": "stdout",
     "output_type": "stream",
     "text": [
      "[[0 0 0 0 0]\n",
      " [1 0 0 0 0]\n",
      " [0 2 0 0 0]\n",
      " [0 0 3 0 0]\n",
      " [0 0 0 4 0]]\n"
     ]
    }
   ],
   "source": [
    "y = np.diag(1 + np.arange(4), -1)\n",
    "print(y)"
   ]
  },
  {
   "cell_type": "code",
   "execution_count": 73,
   "id": "d739643e",
   "metadata": {},
   "outputs": [
    {
     "name": "stdout",
     "output_type": "stream",
     "text": [
      "[[0 1 0 0 0]\n",
      " [0 0 2 0 0]\n",
      " [0 0 0 3 0]\n",
      " [0 0 0 0 4]\n",
      " [0 0 0 0 0]]\n"
     ]
    }
   ],
   "source": [
    "z = np.diag(1 + np.arange(4), 1)\n",
    "print(z)"
   ]
  },
  {
   "cell_type": "markdown",
   "id": "0a82157f",
   "metadata": {},
   "source": [
    "19. 创建一个8x8 的矩阵，并且设置成棋盘样式"
   ]
  },
  {
   "cell_type": "code",
   "execution_count": 80,
   "id": "bd9354cd",
   "metadata": {},
   "outputs": [
    {
     "name": "stdout",
     "output_type": "stream",
     "text": [
      "[[0 1 0 1 0 1 0 1]\n",
      " [1 0 1 0 1 0 1 0]\n",
      " [0 1 0 1 0 1 0 1]\n",
      " [1 0 1 0 1 0 1 0]\n",
      " [0 1 0 1 0 1 0 1]\n",
      " [1 0 1 0 1 0 1 0]\n",
      " [0 1 0 1 0 1 0 1]\n",
      " [1 0 1 0 1 0 1 0]]\n"
     ]
    }
   ],
   "source": [
    "z = np.zeros((8, 8), dtype = int)\n",
    "z[0::2, 1::2] = 1\n",
    "z[1::2, 0::2] = 1\n",
    "print(z)"
   ]
  },
  {
   "cell_type": "markdown",
   "id": "48d41e16",
   "metadata": {},
   "source": [
    "20. 考虑一个 (6,7,8) 形状的数组，其第100个元素的索引(x,y,z)是什么?"
   ]
  },
  {
   "cell_type": "code",
   "execution_count": 81,
   "id": "41c37ae1",
   "metadata": {},
   "outputs": [
    {
     "name": "stdout",
     "output_type": "stream",
     "text": [
      "(1, 5, 4)\n"
     ]
    }
   ],
   "source": [
    "print(np.unravel_index(100,(6,7,8)))"
   ]
  },
  {
   "cell_type": "markdown",
   "id": "856f8a8b",
   "metadata": {},
   "source": [
    "21. 用tile函数去创建一个 8x8的棋盘样式矩阵"
   ]
  },
  {
   "cell_type": "code",
   "execution_count": 84,
   "id": "3771a564",
   "metadata": {},
   "outputs": [
    {
     "name": "stdout",
     "output_type": "stream",
     "text": [
      "[[0 1 0 1 0 1 0 1]\n",
      " [1 0 1 0 1 0 1 0]\n",
      " [0 1 0 1 0 1 0 1]\n",
      " [1 0 1 0 1 0 1 0]\n",
      " [0 1 0 1 0 1 0 1]\n",
      " [1 0 1 0 1 0 1 0]\n",
      " [0 1 0 1 0 1 0 1]\n",
      " [1 0 1 0 1 0 1 0]]\n"
     ]
    }
   ],
   "source": [
    " z = np.tile( np.array([[0,1],[1,0]]), (4,4))\n",
    "print(z)"
   ]
  },
  {
   "cell_type": "markdown",
   "id": "9619f661",
   "metadata": {},
   "source": [
    "22. 对一个5x5的随机矩阵做归一化"
   ]
  },
  {
   "cell_type": "code",
   "execution_count": 86,
   "id": "f955feb7",
   "metadata": {},
   "outputs": [
    {
     "name": "stdout",
     "output_type": "stream",
     "text": [
      "[[0.75977844 0.44305448 0.45058271 0.2168507  0.9717216 ]\n",
      " [0.99314752 0.90557787 0.00718293 0.9783395  0.47957789]\n",
      " [0.88673117 0.44653545 0.47695341 0.55684797 0.39061042]\n",
      " [0.13112151 0.37202691 0.32427834 0.77981954 0.91748518]\n",
      " [0.15708389 0.45764285 0.08897743 0.41594382 0.01370668]]\n",
      "[[0.76330887 0.44207628 0.44971167 0.21265244 0.97826908]\n",
      " [1.         0.91118377 0.         0.98498119 0.4791196 ]\n",
      " [0.89206879 0.4456068  0.47645776 0.55748963 0.38888566]\n",
      " [0.12570287 0.37003761 0.32160933 0.78363525 0.92326059]\n",
      " [0.15203483 0.45687231 0.08295886 0.41457968 0.00661662]]\n"
     ]
    }
   ],
   "source": [
    "z = np.random.random((5, 5))\n",
    "print(z)\n",
    "z_max, z_min = z.max(), z.min()\n",
    "z = (z - z_min) / (z_max - z_min)\n",
    "print(z)"
   ]
  },
  {
   "cell_type": "markdown",
   "id": "5eead44e",
   "metadata": {},
   "source": [
    "23. 创建一个将颜色描述为(RGBA)四个无符号字节的自定义dtype？"
   ]
  },
  {
   "cell_type": "code",
   "execution_count": 87,
   "id": "1dd6b4c9",
   "metadata": {},
   "outputs": [
    {
     "name": "stderr",
     "output_type": "stream",
     "text": [
      "C:\\Users\\rina\\AppData\\Local\\Temp/ipykernel_9104/2326290210.py:1: FutureWarning: Passing (type, 1) or '1type' as a synonym of type is deprecated; in a future version of numpy, it will be understood as (type, (1,)) / '(1,)type'.\n",
      "  color = np.dtype([(\"r\", np.ubyte, 1),\n"
     ]
    },
    {
     "data": {
      "text/plain": [
       "dtype([('r', 'u1'), ('g', 'u1'), ('b', 'u1'), ('a', 'u1')])"
      ]
     },
     "execution_count": 87,
     "metadata": {},
     "output_type": "execute_result"
    }
   ],
   "source": [
    "color = np.dtype([(\"r\", np.ubyte, 1),\n",
    "(\"g\", np.ubyte, 1),\n",
    "(\"b\", np.ubyte, 1),\n",
    "(\"a\", np.ubyte, 1)])\n",
    "color"
   ]
  },
  {
   "cell_type": "markdown",
   "id": "63ecc410",
   "metadata": {},
   "source": [
    "24. 一个5x3的矩阵与一个3x2的矩阵相乘，实矩阵乘积是什么？"
   ]
  },
  {
   "cell_type": "code",
   "execution_count": 88,
   "id": "5d56929c",
   "metadata": {},
   "outputs": [
    {
     "data": {
      "text/plain": [
       "array([[1.32230307, 1.06269985],\n",
       "       [1.54309585, 1.20505958],\n",
       "       [1.21603001, 1.02966628],\n",
       "       [1.09551827, 0.77248196],\n",
       "       [1.70895694, 1.27085982]])"
      ]
     },
     "execution_count": 88,
     "metadata": {},
     "output_type": "execute_result"
    }
   ],
   "source": [
    "x = np.random.random((5, 3))\n",
    "y = np.random.random((3, 2))\n",
    "x@y"
   ]
  },
  {
   "cell_type": "markdown",
   "id": "87d4cddc",
   "metadata": {},
   "source": [
    "25. 给定一个一维数组，对其在3到8之间的所有元素取反"
   ]
  },
  {
   "cell_type": "code",
   "execution_count": 104,
   "id": "c17a8386",
   "metadata": {},
   "outputs": [
    {
     "data": {
      "text/plain": [
       "array([ 1.13488472,  9.74483094, -7.28734634, -3.51467806, -7.07605138,\n",
       "       -7.99604602, -6.45561855, -4.14599607, -7.06031011,  2.46649382,\n",
       "        2.55992431,  0.24011354,  0.98725955, -3.00436435, -6.40855678])"
      ]
     },
     "execution_count": 104,
     "metadata": {},
     "output_type": "execute_result"
    }
   ],
   "source": [
    "np.random.seed(47)\n",
    "z = np.random.random(15) * 10\n",
    "z[(z >= 3) & (z <= 8)] *= -1\n",
    "# & 和 and的区别\n",
    "# z[(z >= 3) & (z <= 8)] *= -1\n",
    "z"
   ]
  },
  {
   "cell_type": "markdown",
   "id": "67f6b598",
   "metadata": {},
   "source": [
    "26. 下面脚本运行后的结果是什么?"
   ]
  },
  {
   "cell_type": "code",
   "execution_count": 108,
   "id": "0e0ee707",
   "metadata": {},
   "outputs": [
    {
     "name": "stdout",
     "output_type": "stream",
     "text": [
      "10\n"
     ]
    }
   ],
   "source": [
    "print(np.sum(range(5),-1))"
   ]
  },
  {
   "cell_type": "markdown",
   "id": "03c52199",
   "metadata": {},
   "source": [
    "### 关于轴 https://blog.csdn.net/qq_33254870/article/details/82940243"
   ]
  },
  {
   "cell_type": "markdown",
   "id": "defb3738",
   "metadata": {},
   "source": [
    "27. 考虑一个整数向量Z,下列表达合法的是哪个?\n",
    "\n",
    "\n",
    "Z**Z 合法\n",
    "\n",
    "2<\\<Z>\\>2 不合法\n",
    "\n",
    "Z<-Z 合法\n",
    "\n",
    "1j*Z 合法\n",
    "\n",
    "Z/1/1 合法\n",
    "\n",
    "Z\\<Z\\>Z 不合法"
   ]
  },
  {
   "cell_type": "markdown",
   "id": "d13fe1d1",
   "metadata": {},
   "source": [
    "28. 下列表达式的结果分别是什么?"
   ]
  },
  {
   "cell_type": "code",
   "execution_count": 110,
   "id": "2700d5aa",
   "metadata": {},
   "outputs": [
    {
     "name": "stdout",
     "output_type": "stream",
     "text": [
      "nan\n",
      "0\n",
      "[-2.14748365e+09]\n"
     ]
    },
    {
     "name": "stderr",
     "output_type": "stream",
     "text": [
      "C:\\Users\\rina\\AppData\\Local\\Temp/ipykernel_9104/3456651611.py:1: RuntimeWarning: invalid value encountered in true_divide\n",
      "  print(np.array(0) /np.array(0))\n",
      "C:\\Users\\rina\\AppData\\Local\\Temp/ipykernel_9104/3456651611.py:3: RuntimeWarning: divide by zero encountered in floor_divide\n",
      "  print(np.array(0) //np.array(0))\n"
     ]
    }
   ],
   "source": [
    "print(np.array(0) /np.array(0))\n",
    "\n",
    "print(np.array(0) //np.array(0))\n",
    "\n",
    "print(np.array([np.nan]).astype(int).astype(float))"
   ]
  },
  {
   "cell_type": "markdown",
   "id": "a3d7dd15",
   "metadata": {},
   "source": [
    "29. 如何从零位对浮点数组做舍入 ?"
   ]
  },
  {
   "cell_type": "code",
   "execution_count": 119,
   "id": "25f9c8b3",
   "metadata": {},
   "outputs": [
    {
     "name": "stdout",
     "output_type": "stream",
     "text": [
      "[ 8.00626032  8.3411175  -5.66232961 -1.98757511  0.90344314  2.83844381\n",
      " -0.52738971  1.27148251  1.78567308 -3.72823353]\n",
      "[ 8.  8. -6. -2.  1.  3. -1.  1.  2. -4.]\n",
      "[ 9.  9. -6. -2.  1.  3. -1.  2.  2. -4.]\n"
     ]
    }
   ],
   "source": [
    "z = np.random.uniform(-10,+10,10)\n",
    "print(z)\n",
    "# 四舍五入\n",
    "print(np.round(z))\n",
    "# ？标答 看不懂\n",
    "# 好像是小数只要有就会入进去……？\n",
    "print(np.copysign(np.ceil(np.abs(z)), z))"
   ]
  },
  {
   "cell_type": "markdown",
   "id": "fb2f0d10",
   "metadata": {},
   "source": [
    "30. 如何找到两个数组中的共同元素? (交集)"
   ]
  },
  {
   "cell_type": "code",
   "execution_count": 122,
   "id": "16185ac1",
   "metadata": {},
   "outputs": [
    {
     "name": "stdout",
     "output_type": "stream",
     "text": [
      "[7 5 5 6 5 0 9 7 9 4] [2 5 3 1 4 6 2 2 4 9]\n",
      "[4 5 6 9]\n"
     ]
    }
   ],
   "source": [
    "z1 = np.random.randint(0,10,10)\n",
    "z2 = np.random.randint(0,10,10)\n",
    "print(z1, z2)\n",
    "print(np.intersect1d(z1,z2))"
   ]
  },
  {
   "cell_type": "markdown",
   "id": "baf8304a",
   "metadata": {},
   "source": [
    "31. 如何忽略所有的 numpy 警告(尽管不建议这么做)?"
   ]
  },
  {
   "cell_type": "code",
   "execution_count": 149,
   "id": "91275f32",
   "metadata": {},
   "outputs": [],
   "source": [
    "defaults = np.seterr(all=\"ignore\")\n",
    "z = np.ones(1) / 0"
   ]
  },
  {
   "cell_type": "markdown",
   "id": "1f63243c",
   "metadata": {},
   "source": [
    "恢复"
   ]
  },
  {
   "cell_type": "code",
   "execution_count": 153,
   "id": "3a38fb8e",
   "metadata": {},
   "outputs": [],
   "source": [
    "_=np.seterr(**defaults)\n",
    "z = np.ones(1) / 0"
   ]
  },
  {
   "cell_type": "markdown",
   "id": "bdb7d67d",
   "metadata": {},
   "source": [
    "32. 下面的表达式是正确的吗?\n",
    "\n",
    "np.sqrt(-1) == np.emath.sqrt(-1) false"
   ]
  },
  {
   "cell_type": "markdown",
   "id": "b181c4fe",
   "metadata": {},
   "source": [
    "33. 如何得到昨天，今天，明天的日期?"
   ]
  },
  {
   "cell_type": "code",
   "execution_count": 154,
   "id": "79611cee",
   "metadata": {},
   "outputs": [
    {
     "name": "stdout",
     "output_type": "stream",
     "text": [
      "Yesterday is 2022-01-25\n",
      "Today is 2022-01-26\n",
      "Tomorrow is 2022-01-27\n"
     ]
    }
   ],
   "source": [
    "yesterday = np.datetime64('today', 'D') - np.timedelta64(1, 'D')\n",
    "today = np.datetime64('today', 'D')\n",
    "tomorrow = np.datetime64('today', 'D') + np.timedelta64(1, 'D')\n",
    "print (\"Yesterday is \" + str(yesterday))\n",
    "print (\"Today is \" + str(today))\n",
    "print (\"Tomorrow is \"+ str(tomorrow))"
   ]
  },
  {
   "cell_type": "markdown",
   "id": "15635277",
   "metadata": {},
   "source": [
    "34. 如何得到所有与2016年7月对应的日期？"
   ]
  },
  {
   "cell_type": "code",
   "execution_count": 155,
   "id": "b7cf3a43",
   "metadata": {},
   "outputs": [
    {
     "name": "stdout",
     "output_type": "stream",
     "text": [
      "['2016-07-01' '2016-07-02' '2016-07-03' '2016-07-04' '2016-07-05'\n",
      " '2016-07-06' '2016-07-07' '2016-07-08' '2016-07-09' '2016-07-10'\n",
      " '2016-07-11' '2016-07-12' '2016-07-13' '2016-07-14' '2016-07-15'\n",
      " '2016-07-16' '2016-07-17' '2016-07-18' '2016-07-19' '2016-07-20'\n",
      " '2016-07-21' '2016-07-22' '2016-07-23' '2016-07-24' '2016-07-25'\n",
      " '2016-07-26' '2016-07-27' '2016-07-28' '2016-07-29' '2016-07-30'\n",
      " '2016-07-31']\n"
     ]
    }
   ],
   "source": [
    "Z = np.arange('2016-07', '2016-08', dtype='datetime64[D]')\n",
    "print(Z)"
   ]
  },
  {
   "cell_type": "markdown",
   "id": "ff851dcd",
   "metadata": {},
   "source": [
    "35. 如何直接在位计算(A+B)\\*(-A/2)(不建立副本)? 【看不懂】"
   ]
  },
  {
   "cell_type": "code",
   "execution_count": 156,
   "id": "c865f028",
   "metadata": {},
   "outputs": [
    {
     "data": {
      "text/plain": [
       "array([-1.5, -1.5, -1.5])"
      ]
     },
     "execution_count": 156,
     "metadata": {},
     "output_type": "execute_result"
    }
   ],
   "source": [
    "A = np.ones(3)*1\n",
    "B = np.ones(3)*2\n",
    "C = np.ones(3)*3\n",
    "np.add(A,B,out=B)\n",
    "np.divide(A,2,out=A)\n",
    "np.negative(A,out=A)\n",
    "np.multiply(A,B,out=A)"
   ]
  },
  {
   "cell_type": "markdown",
   "id": "12d6e095",
   "metadata": {},
   "source": [
    "36. 用五种不同的方法去提取一个随机数组的整数部分"
   ]
  },
  {
   "cell_type": "code",
   "execution_count": 163,
   "id": "8b05b22a",
   "metadata": {},
   "outputs": [
    {
     "name": "stdout",
     "output_type": "stream",
     "text": [
      "0.0\n",
      "0.0\n",
      "0.0\n",
      "-1.0\n",
      "0\n",
      "0.0\n"
     ]
    }
   ],
   "source": [
    "np.random.seed(47)\n",
    "z = np.random.random(1)\n",
    "z = np.float64(0.0)\n",
    "print(z)\n",
    "print (z - z % 1)\n",
    "print (np.floor(z))\n",
    "print (np.ceil(z)-1)\n",
    "print (z.astype(int))\n",
    "print (np.trunc(z))"
   ]
  },
  {
   "cell_type": "markdown",
   "id": "4a62e7e5",
   "metadata": {},
   "source": [
    "37. 创建一个5x5的矩阵，其中每行的数值范围从0到4"
   ]
  },
  {
   "cell_type": "code",
   "execution_count": 165,
   "id": "f2c07e1b",
   "metadata": {},
   "outputs": [
    {
     "data": {
      "text/plain": [
       "array([[0., 1., 2., 3., 4.],\n",
       "       [0., 1., 2., 3., 4.],\n",
       "       [0., 1., 2., 3., 4.],\n",
       "       [0., 1., 2., 3., 4.],\n",
       "       [0., 1., 2., 3., 4.]])"
      ]
     },
     "execution_count": 165,
     "metadata": {},
     "output_type": "execute_result"
    }
   ],
   "source": [
    "z = np.zeros((5, 5))\n",
    "# 广播机制\n",
    "z += np.arange(0, 5)\n",
    "z"
   ]
  },
  {
   "cell_type": "markdown",
   "id": "6b4ce935",
   "metadata": {},
   "source": [
    "38. 通过考虑一个可生成10个整数的函数，来构建一个数组"
   ]
  },
  {
   "cell_type": "code",
   "execution_count": 168,
   "id": "17ad0097",
   "metadata": {},
   "outputs": [
    {
     "name": "stdout",
     "output_type": "stream",
     "text": [
      "[0. 1. 2. 3. 4. 5. 6. 7. 8. 9.]\n"
     ]
    }
   ],
   "source": [
    "def generate():\n",
    "    for x in range(10):\n",
    "        yield x\n",
    "Z = np.fromiter(generate(),dtype=float,count=-1)\n",
    "print (Z)"
   ]
  },
  {
   "attachments": {},
   "cell_type": "markdown",
   "id": "4db240b5",
   "metadata": {},
   "source": [
    "简单地讲，yield 的作用就是把一个函数变成一个 generator，带有 yield 的函数不再是一个普通函数，Python 解释器会将其视为一个 generator，调用 fab(5) 不会执行 fab 函数，而是返回一个 iterable 对象！在 for 循环执行时，每次循环都会执行 fab 函数内部的代码，执行到 yield b 时，fab 函数就返回一个迭代值，下次迭代时，代码从 yield b 的下一条语句继续执行，而函数的本地变量看起来和上次中断执行前是完全一样的，于是函数继续执行，直到再次遇到 yield。"
   ]
  },
  {
   "cell_type": "markdown",
   "id": "1a28a508",
   "metadata": {},
   "source": [
    "39. 创建一个长度为10的随机向量，其值域范围从0到1，但是不包括0和1"
   ]
  },
  {
   "cell_type": "code",
   "execution_count": 179,
   "id": "58395675",
   "metadata": {},
   "outputs": [
    {
     "name": "stdout",
     "output_type": "stream",
     "text": [
      "[0.  0.1 0.2 0.3 0.4 0.5 0.6 0.7 0.8 0.9 1. ]\n",
      "[0.45454545 0.27272727 0.18181818 0.54545455 0.63636364 0.90909091\n",
      " 0.36363636 0.09090909 0.81818182 0.72727273]\n"
     ]
    }
   ],
   "source": [
    "# linspace 左闭右闭\n",
    "z = np.linspace(0, 1, 11)\n",
    "print(z)\n",
    "# endpoint = False 不加终点\n",
    "z = np.linspace(0, 1, 11, endpoint = False)[1:]\n",
    "np.random.shuffle(z)\n",
    "print(z)"
   ]
  },
  {
   "cell_type": "markdown",
   "id": "697b168d",
   "metadata": {},
   "source": [
    "40. 创建一个长度为10的随机向量，并将其排序"
   ]
  },
  {
   "cell_type": "code",
   "execution_count": 181,
   "id": "a72a40d3",
   "metadata": {},
   "outputs": [
    {
     "name": "stdout",
     "output_type": "stream",
     "text": [
      "[0.91719355 0.2709208  0.27354789 0.95441268 0.12711457 0.74726485\n",
      " 0.00523796 0.85679061 0.6959562  0.5530257 ]\n",
      "[0.00523796 0.12711457 0.2709208  0.27354789 0.5530257  0.6959562\n",
      " 0.74726485 0.85679061 0.91719355 0.95441268]\n"
     ]
    }
   ],
   "source": [
    "z = np.random.random(10)\n",
    "print(z)\n",
    "z = np.sort(z)\n",
    "print(z)"
   ]
  },
  {
   "cell_type": "markdown",
   "id": "6306e9f8",
   "metadata": {},
   "source": [
    "41.对于一个小数组，如何用比 np.sum更快的方式对其求和？"
   ]
  },
  {
   "cell_type": "code",
   "execution_count": 182,
   "id": "0fa389a5",
   "metadata": {},
   "outputs": [
    {
     "data": {
      "text/plain": [
       "45"
      ]
     },
     "execution_count": 182,
     "metadata": {},
     "output_type": "execute_result"
    }
   ],
   "source": [
    "Z = np.arange(10)\n",
    "np.add.reduce(Z)"
   ]
  },
  {
   "cell_type": "markdown",
   "id": "2c28a4e5",
   "metadata": {},
   "source": [
    "42. 对于两个随机数组A和B，检查它们是否相等"
   ]
  },
  {
   "cell_type": "code",
   "execution_count": 183,
   "id": "93d5bc17",
   "metadata": {},
   "outputs": [
    {
     "name": "stdout",
     "output_type": "stream",
     "text": [
      "False\n"
     ]
    }
   ],
   "source": [
    "A = np.random.randint(0,2,5)\n",
    "B = np.random.randint(0,2,5)\n",
    "# Assuming identical shape of the arrays and a tolerance for the comparison of values\n",
    "equal = np.allclose(A,B)\n",
    "print(equal)"
   ]
  },
  {
   "cell_type": "code",
   "execution_count": 184,
   "id": "79f62370",
   "metadata": {},
   "outputs": [
    {
     "name": "stdout",
     "output_type": "stream",
     "text": [
      "False\n"
     ]
    }
   ],
   "source": [
    "# Checking both the shape and the element values, no tolerance (values have to be exactly equal)\n",
    "equal = np.array_equal(A,B)\n",
    "print(equal)"
   ]
  },
  {
   "cell_type": "markdown",
   "id": "c26ec47e",
   "metadata": {},
   "source": [
    "43. 创建一个只读数组(read-only)"
   ]
  },
  {
   "cell_type": "code",
   "execution_count": 186,
   "id": "a1ec0d88",
   "metadata": {},
   "outputs": [],
   "source": [
    "Z = np.zeros(10)\n",
    "Z.flags.writeable = False"
   ]
  },
  {
   "cell_type": "markdown",
   "id": "9a0ab601",
   "metadata": {},
   "source": [
    "44. 将笛卡尔坐标下的一个10x2的矩阵转换为极坐标形式"
   ]
  },
  {
   "cell_type": "code",
   "execution_count": 188,
   "id": "c35a4fba",
   "metadata": {},
   "outputs": [
    {
     "name": "stdout",
     "output_type": "stream",
     "text": [
      "[0.61789918 0.5773605  0.3954876  0.85781115 0.68845435 0.95593293\n",
      " 1.17857536 0.96085466 0.58313483 1.1694091 ]\n",
      "[1.30941465 1.39015512 0.21589502 0.8564087  0.27846561 0.0617847\n",
      " 0.72750012 1.30491122 0.70333551 0.70078272]\n"
     ]
    }
   ],
   "source": [
    "Z = np.random.random((10,2))\n",
    "X, Y = Z[:, 0], Z[:, 1]\n",
    "R = np.sqrt(X ** 2 + Y ** 2)\n",
    "T = np.arctan2(Y, X)\n",
    "print (R)\n",
    "print (T)"
   ]
  },
  {
   "cell_type": "markdown",
   "id": "57366f67",
   "metadata": {},
   "source": [
    "45. 创建一个长度为10的向量，并将向量中最大值替换为1"
   ]
  },
  {
   "cell_type": "code",
   "execution_count": 190,
   "id": "b1ad77ed",
   "metadata": {},
   "outputs": [
    {
     "name": "stdout",
     "output_type": "stream",
     "text": [
      "[0.83529596 0.08537584 0.48829082 0.90031302 0.91705588 0.21688352\n",
      " 0.40062124 0.54517216 0.64192219 0.47363051]\n",
      "4\n"
     ]
    },
    {
     "data": {
      "text/plain": [
       "array([0.83529596, 0.08537584, 0.48829082, 0.90031302, 1.        ,\n",
       "       0.21688352, 0.40062124, 0.54517216, 0.64192219, 0.47363051])"
      ]
     },
     "execution_count": 190,
     "metadata": {},
     "output_type": "execute_result"
    }
   ],
   "source": [
    "z = np.random.random(10)\n",
    "print(z)\n",
    "idx = z.argmax()\n",
    "print(idx)\n",
    "z[idx] = 1\n",
    "z"
   ]
  },
  {
   "cell_type": "markdown",
   "id": "8fe2201e",
   "metadata": {},
   "source": [
    "46. 创建一个结构化数组，并实现 x 和 y 坐标覆盖 [0,1]x[0,1] 区域"
   ]
  },
  {
   "cell_type": "code",
   "execution_count": 191,
   "id": "1b84f421",
   "metadata": {},
   "outputs": [
    {
     "name": "stdout",
     "output_type": "stream",
     "text": [
      "[[(0.  , 0.  ) (0.25, 0.  ) (0.5 , 0.  ) (0.75, 0.  ) (1.  , 0.  )]\n",
      " [(0.  , 0.25) (0.25, 0.25) (0.5 , 0.25) (0.75, 0.25) (1.  , 0.25)]\n",
      " [(0.  , 0.5 ) (0.25, 0.5 ) (0.5 , 0.5 ) (0.75, 0.5 ) (1.  , 0.5 )]\n",
      " [(0.  , 0.75) (0.25, 0.75) (0.5 , 0.75) (0.75, 0.75) (1.  , 0.75)]\n",
      " [(0.  , 1.  ) (0.25, 1.  ) (0.5 , 1.  ) (0.75, 1.  ) (1.  , 1.  )]]\n"
     ]
    }
   ],
   "source": [
    "Z = np.zeros((5,5), [('x',float),('y',float)])\n",
    "Z['x'], Z['y'] = np.meshgrid(np.linspace(0,1,5),\n",
    "np.linspace(0,1,5))\n",
    "print(Z)"
   ]
  },
  {
   "cell_type": "markdown",
   "id": "8e6a31f0",
   "metadata": {},
   "source": [
    "结构化数据类型可以被认为是一定长度的字节序列（结构的项目大小），它被解释为字段集合。每个字段在结构中都有一个名称，一个数据类型和一个字节偏移量。字段的数据类型可以是包括其他结构化数据类型的任何numpy数据类型，也可以是子行数据类型，其行为类似于指定形状的ndarray。字段的偏移是任意的，字段甚至可以重叠。这些偏移量通常由numpy自动确定，但也可以指定"
   ]
  },
  {
   "cell_type": "markdown",
   "id": "8e88cbb5",
   "metadata": {},
   "source": [
    "47. 给定两个数组X和Y，构造Cauchy矩阵C (Cij =1/(xi - yj)) 【柯西矩阵】 【答案我觉得有问题】"
   ]
  },
  {
   "cell_type": "code",
   "execution_count": 196,
   "id": "8c46005b",
   "metadata": {},
   "outputs": [
    {
     "name": "stdout",
     "output_type": "stream",
     "text": [
      "[0 1 2 3 4 5 6 7] [0.5 1.5 2.5 3.5 4.5 5.5 6.5 7.5]\n"
     ]
    }
   ],
   "source": [
    "X = np.arange(8)\n",
    "Y = X + 0.5\n",
    "print(X, Y)"
   ]
  },
  {
   "cell_type": "code",
   "execution_count": 195,
   "id": "90daca00",
   "metadata": {},
   "outputs": [
    {
     "name": "stdout",
     "output_type": "stream",
     "text": [
      "3638.163637117973\n"
     ]
    }
   ],
   "source": [
    "# np.substract.outer将给出b中的每个值与a中的其他值之间的差值，\n",
    "C = 1.0 / np.subtract.outer(X, Y)\n",
    "# np.linalg.det():矩阵求行列式\n",
    "print(np.linalg.det(C))"
   ]
  },
  {
   "cell_type": "code",
   "execution_count": 202,
   "id": "80dfafd5",
   "metadata": {},
   "outputs": [
    {
     "name": "stdout",
     "output_type": "stream",
     "text": [
      "[[-2.         -0.66666667 -0.4        -0.28571429 -0.22222222 -0.18181818\n",
      "  -0.15384615 -0.13333333]\n",
      " [ 2.         -2.         -0.66666667 -0.4        -0.28571429 -0.22222222\n",
      "  -0.18181818 -0.15384615]\n",
      " [ 0.66666667  2.         -2.         -0.66666667 -0.4        -0.28571429\n",
      "  -0.22222222 -0.18181818]\n",
      " [ 0.4         0.66666667  2.         -2.         -0.66666667 -0.4\n",
      "  -0.28571429 -0.22222222]\n",
      " [ 0.28571429  0.4         0.66666667  2.         -2.         -0.66666667\n",
      "  -0.4        -0.28571429]\n",
      " [ 0.22222222  0.28571429  0.4         0.66666667  2.         -2.\n",
      "  -0.66666667 -0.4       ]\n",
      " [ 0.18181818  0.22222222  0.28571429  0.4         0.66666667  2.\n",
      "  -2.         -0.66666667]\n",
      " [ 0.15384615  0.18181818  0.22222222  0.28571429  0.4         0.66666667\n",
      "   2.         -2.        ]]\n"
     ]
    }
   ],
   "source": [
    "# 上面是标答，我不理解\n",
    "C = np.zeros((X.size, Y.size))\n",
    "for i in range(8):\n",
    "    for j in range(8):\n",
    "        C[i, j] = 1.0 / (X[i] - Y[j])\n",
    "        \n",
    "print(C)"
   ]
  },
  {
   "cell_type": "markdown",
   "id": "f5cb35e1",
   "metadata": {},
   "source": [
    "48. 打印每个numpy标量类型的最小值和最大值？"
   ]
  },
  {
   "cell_type": "code",
   "execution_count": 209,
   "id": "0523f4de",
   "metadata": {
    "scrolled": true
   },
   "outputs": [
    {
     "name": "stdout",
     "output_type": "stream",
     "text": [
      "<class 'numpy.int8'> min:  -128\n",
      "<class 'numpy.int8'> max:  127\n",
      "<class 'numpy.int32'> min:  -2147483648\n",
      "<class 'numpy.int32'> max:  2147483647\n",
      "<class 'numpy.int64'> min:  -9223372036854775808\n",
      "<class 'numpy.int64'> max:  9223372036854775807\n",
      "<class 'numpy.float32'> min:  -3.4028235e+38\n",
      "<class 'numpy.float32'> max:  3.4028235e+38\n",
      "<class 'numpy.float32'> eps:  1.1920929e-07\n",
      "<class 'numpy.float64'> min:  -1.7976931348623157e+308\n",
      "<class 'numpy.float64'> max:  1.7976931348623157e+308\n",
      "<class 'numpy.float64'> eps:  2.220446049250313e-16\n"
     ]
    }
   ],
   "source": [
    "for dtype in [np.int8, np.int32, np.int64]:\n",
    "    print(dtype, \"min: \", np.iinfo(dtype).min)\n",
    "    print(dtype, \"max: \", np.iinfo(dtype).max)\n",
    "for dtype in [np.float32, np.float64]:\n",
    "    print(dtype, \"min: \", np.finfo(dtype).min)\n",
    "    print(dtype, \"max: \", np.finfo(dtype).max)\n",
    "    print(dtype, \"eps: \", np.finfo(dtype).eps)"
   ]
  },
  {
   "cell_type": "markdown",
   "id": "d092bb6a",
   "metadata": {},
   "source": [
    "49. 如何打印一个数组中的所有数值?\n",
    "\n",
    "(标答错的)"
   ]
  },
  {
   "cell_type": "code",
   "execution_count": 215,
   "id": "0d8b6dea",
   "metadata": {
    "scrolled": true
   },
   "outputs": [
    {
     "ename": "ValueError",
     "evalue": "threshold must be non-NAN, try sys.maxsize for untruncated representation",
     "output_type": "error",
     "traceback": [
      "\u001b[1;31m---------------------------------------------------------------------------\u001b[0m",
      "\u001b[1;31mValueError\u001b[0m                                Traceback (most recent call last)",
      "\u001b[1;32m~\\AppData\\Local\\Temp/ipykernel_9104/4068318520.py\u001b[0m in \u001b[0;36m<module>\u001b[1;34m\u001b[0m\n\u001b[1;32m----> 1\u001b[1;33m \u001b[0mnp\u001b[0m\u001b[1;33m.\u001b[0m\u001b[0mset_printoptions\u001b[0m\u001b[1;33m(\u001b[0m\u001b[0mthreshold\u001b[0m \u001b[1;33m=\u001b[0m \u001b[0mnp\u001b[0m\u001b[1;33m.\u001b[0m\u001b[0mnan\u001b[0m\u001b[1;33m)\u001b[0m\u001b[1;33m\u001b[0m\u001b[1;33m\u001b[0m\u001b[0m\n\u001b[0m\u001b[0;32m      2\u001b[0m \u001b[0mZ\u001b[0m \u001b[1;33m=\u001b[0m \u001b[0mnp\u001b[0m\u001b[1;33m.\u001b[0m\u001b[0mzeros\u001b[0m\u001b[1;33m(\u001b[0m\u001b[1;33m(\u001b[0m\u001b[1;36m16\u001b[0m\u001b[1;33m,\u001b[0m\u001b[1;36m16\u001b[0m\u001b[1;33m)\u001b[0m\u001b[1;33m)\u001b[0m\u001b[1;33m\u001b[0m\u001b[1;33m\u001b[0m\u001b[0m\n\u001b[0;32m      3\u001b[0m \u001b[0mprint\u001b[0m\u001b[1;33m(\u001b[0m\u001b[0mZ\u001b[0m\u001b[1;33m)\u001b[0m\u001b[1;33m\u001b[0m\u001b[1;33m\u001b[0m\u001b[0m\n\u001b[0;32m      4\u001b[0m \u001b[1;31m# 数值的潜台词就是，nan不打印，他是not a number\u001b[0m\u001b[1;33m\u001b[0m\u001b[1;33m\u001b[0m\u001b[0m\n",
      "\u001b[1;32m~\\AppData\\Local\\Programs\\Python\\Python39\\lib\\site-packages\\numpy\\core\\arrayprint.py\u001b[0m in \u001b[0;36mset_printoptions\u001b[1;34m(precision, threshold, edgeitems, linewidth, suppress, nanstr, infstr, formatter, sign, floatmode, legacy)\u001b[0m\n\u001b[0;32m    250\u001b[0m \u001b[1;33m\u001b[0m\u001b[0m\n\u001b[0;32m    251\u001b[0m     \"\"\"\n\u001b[1;32m--> 252\u001b[1;33m     opt = _make_options_dict(precision, threshold, edgeitems, linewidth,\n\u001b[0m\u001b[0;32m    253\u001b[0m                              \u001b[0msuppress\u001b[0m\u001b[1;33m,\u001b[0m \u001b[0mnanstr\u001b[0m\u001b[1;33m,\u001b[0m \u001b[0minfstr\u001b[0m\u001b[1;33m,\u001b[0m \u001b[0msign\u001b[0m\u001b[1;33m,\u001b[0m \u001b[0mformatter\u001b[0m\u001b[1;33m,\u001b[0m\u001b[1;33m\u001b[0m\u001b[1;33m\u001b[0m\u001b[0m\n\u001b[0;32m    254\u001b[0m                              floatmode, legacy)\n",
      "\u001b[1;32m~\\AppData\\Local\\Programs\\Python\\Python39\\lib\\site-packages\\numpy\\core\\arrayprint.py\u001b[0m in \u001b[0;36m_make_options_dict\u001b[1;34m(precision, threshold, edgeitems, linewidth, suppress, nanstr, infstr, sign, formatter, floatmode, legacy)\u001b[0m\n\u001b[0;32m     86\u001b[0m             \u001b[1;32mraise\u001b[0m \u001b[0mTypeError\u001b[0m\u001b[1;33m(\u001b[0m\u001b[1;34m\"threshold must be numeric\"\u001b[0m\u001b[1;33m)\u001b[0m\u001b[1;33m\u001b[0m\u001b[1;33m\u001b[0m\u001b[0m\n\u001b[0;32m     87\u001b[0m         \u001b[1;32mif\u001b[0m \u001b[0mnp\u001b[0m\u001b[1;33m.\u001b[0m\u001b[0misnan\u001b[0m\u001b[1;33m(\u001b[0m\u001b[0mthreshold\u001b[0m\u001b[1;33m)\u001b[0m\u001b[1;33m:\u001b[0m\u001b[1;33m\u001b[0m\u001b[1;33m\u001b[0m\u001b[0m\n\u001b[1;32m---> 88\u001b[1;33m             raise ValueError(\"threshold must be non-NAN, try \"\n\u001b[0m\u001b[0;32m     89\u001b[0m                              \"sys.maxsize for untruncated representation\")\n\u001b[0;32m     90\u001b[0m \u001b[1;33m\u001b[0m\u001b[0m\n",
      "\u001b[1;31mValueError\u001b[0m: threshold must be non-NAN, try sys.maxsize for untruncated representation"
     ]
    }
   ],
   "source": [
    "np.set_printoptions(threshold = np.nan)\n",
    "Z = np.zeros((16,16))\n",
    "print(Z)\n",
    "# 数值的潜台词就是，nan不打印，他是not a number"
   ]
  },
  {
   "cell_type": "markdown",
   "id": "aa64fdf0",
   "metadata": {},
   "source": [
    "如果想用set_printoptions要像下面这么用，杜绝很大的值，但是显然，这道题就不该这么做"
   ]
  },
  {
   "cell_type": "code",
   "execution_count": 221,
   "id": "8c52aefe",
   "metadata": {},
   "outputs": [],
   "source": [
    "import sys\n",
    "np.set_printoptions(threshold = sys.maxsize)"
   ]
  },
  {
   "cell_type": "markdown",
   "id": "82c6fd67",
   "metadata": {},
   "source": [
    "应该选出nan不要了，但是二维信息也没了，就是不理解他要啥"
   ]
  },
  {
   "cell_type": "code",
   "execution_count": 224,
   "id": "7ec5d09b",
   "metadata": {},
   "outputs": [
    {
     "name": "stdout",
     "output_type": "stream",
     "text": [
      "[[ 0.  0.  0.  0.  0.  0.  0.  0.  0.  0.  0.  0.  0.  0.  0.  0.]\n",
      " [ 0.  0.  0.  0.  0.  0.  0.  0.  0.  0.  0.  0.  0.  0.  0.  0.]\n",
      " [ 0.  0. nan  0.  0.  0.  0.  0.  0.  0.  0.  0.  0.  0.  0.  0.]\n",
      " [ 0.  0.  0.  0.  0.  0.  0.  0.  0.  0.  0.  0.  0.  0.  0.  0.]\n",
      " [ 0.  0.  0.  0.  0.  0.  0.  0.  0.  0.  0.  0.  0.  0.  0.  0.]\n",
      " [ 0.  0.  0.  0.  0.  0.  0.  0.  0.  0.  0.  0.  0.  0.  0.  0.]\n",
      " [ 0.  0.  0.  0.  0.  0.  0.  0.  0.  0.  0.  0.  0.  0.  0.  0.]\n",
      " [ 0.  0.  0.  0.  0.  0.  0.  0.  0.  0.  0.  0.  0.  0.  0.  0.]\n",
      " [ 0.  0.  0.  0.  0.  0.  0.  0.  0.  0.  0.  0.  0.  0.  0.  0.]\n",
      " [ 0.  0.  0.  0.  0.  0.  0.  0.  0.  0.  0.  0.  0.  0.  0.  0.]\n",
      " [ 0.  0.  0.  0.  0.  0.  0.  0.  0.  0.  0.  0.  0.  0.  0.  0.]\n",
      " [ 0.  0.  0.  0.  0.  0.  0.  0.  0.  0.  0.  0.  0.  0.  0.  0.]\n",
      " [ 0.  0.  0.  0.  0.  0.  0.  0.  0.  0.  0.  0.  0.  0.  0.  0.]\n",
      " [ 0.  0.  0.  0.  0.  0.  0.  0.  0.  0.  0.  0.  0.  0.  0.  0.]\n",
      " [ 0.  0.  0.  0.  0.  0.  0.  0.  0.  0.  0.  0.  0.  0.  0.  0.]\n",
      " [ 0.  0.  0.  0.  0.  0.  0.  0.  0.  0.  0.  0.  0.  0.  0.  0.]]\n",
      "[0. 0. 0. 0. 0. 0. 0. 0. 0. 0. 0. 0. 0. 0. 0. 0. 0. 0. 0. 0. 0. 0. 0. 0.\n",
      " 0. 0. 0. 0. 0. 0. 0. 0. 0. 0. 0. 0. 0. 0. 0. 0. 0. 0. 0. 0. 0. 0. 0. 0.\n",
      " 0. 0. 0. 0. 0. 0. 0. 0. 0. 0. 0. 0. 0. 0. 0. 0. 0. 0. 0. 0. 0. 0. 0. 0.\n",
      " 0. 0. 0. 0. 0. 0. 0. 0. 0. 0. 0. 0. 0. 0. 0. 0. 0. 0. 0. 0. 0. 0. 0. 0.\n",
      " 0. 0. 0. 0. 0. 0. 0. 0. 0. 0. 0. 0. 0. 0. 0. 0. 0. 0. 0. 0. 0. 0. 0. 0.\n",
      " 0. 0. 0. 0. 0. 0. 0. 0. 0. 0. 0. 0. 0. 0. 0. 0. 0. 0. 0. 0. 0. 0. 0. 0.\n",
      " 0. 0. 0. 0. 0. 0. 0. 0. 0. 0. 0. 0. 0. 0. 0. 0. 0. 0. 0. 0. 0. 0. 0. 0.\n",
      " 0. 0. 0. 0. 0. 0. 0. 0. 0. 0. 0. 0. 0. 0. 0. 0. 0. 0. 0. 0. 0. 0. 0. 0.\n",
      " 0. 0. 0. 0. 0. 0. 0. 0. 0. 0. 0. 0. 0. 0. 0. 0. 0. 0. 0. 0. 0. 0. 0. 0.\n",
      " 0. 0. 0. 0. 0. 0. 0. 0. 0. 0. 0. 0. 0. 0. 0. 0. 0. 0. 0. 0. 0. 0. 0. 0.\n",
      " 0. 0. 0. 0. 0. 0. 0. 0. 0. 0. 0. 0. 0. 0. 0.]\n"
     ]
    }
   ],
   "source": [
    "Z = np.zeros((16,16))\n",
    "Z[2, 2] = np.nan\n",
    "print(Z)\n",
    "print(Z[~np.isnan(Z)])"
   ]
  },
  {
   "cell_type": "markdown",
   "id": "df4413e0",
   "metadata": {},
   "source": [
    "50. 给定标量时，如何找到数组中最接近标量的值？"
   ]
  },
  {
   "cell_type": "code",
   "execution_count": 226,
   "id": "bc384a2a",
   "metadata": {},
   "outputs": [
    {
     "name": "stdout",
     "output_type": "stream",
     "text": [
      "[ 0  1  2  3  4  5  6  7  8  9 10 11 12 13 14 15 16 17 18 19 20 21 22 23\n",
      " 24 25 26 27 28 29 30 31 32 33 34 35 36 37 38 39 40 41 42 43 44 45 46 47\n",
      " 48 49 50 51 52 53 54 55 56 57 58 59 60 61 62 63 64 65 66 67 68 69 70 71\n",
      " 72 73 74 75 76 77 78 79 80 81 82 83 84 85 86 87 88 89 90 91 92 93 94 95\n",
      " 96 97 98 99]\n",
      "58.928365409537854\n",
      "59\n"
     ]
    }
   ],
   "source": [
    "Z = np.arange(100)\n",
    "v = np.random.uniform(0,100)\n",
    "# 计算绝对值最小的下标，就是最接近的数字\n",
    "print(Z)\n",
    "print(v)\n",
    "index = (np.abs(Z-v)).argmin()\n",
    "print (Z[index])"
   ]
  },
  {
   "cell_type": "markdown",
   "id": "cd258fcf",
   "metadata": {},
   "source": [
    "51. 创建一个表示位置(x,y)和颜色(r,g,b)的结构化数组"
   ]
  },
  {
   "cell_type": "code",
   "execution_count": 227,
   "id": "51b7e10d",
   "metadata": {},
   "outputs": [
    {
     "name": "stdout",
     "output_type": "stream",
     "text": [
      "[((0., 0.), (0., 0., 0.)) ((0., 0.), (0., 0., 0.))\n",
      " ((0., 0.), (0., 0., 0.)) ((0., 0.), (0., 0., 0.))\n",
      " ((0., 0.), (0., 0., 0.)) ((0., 0.), (0., 0., 0.))\n",
      " ((0., 0.), (0., 0., 0.)) ((0., 0.), (0., 0., 0.))\n",
      " ((0., 0.), (0., 0., 0.)) ((0., 0.), (0., 0., 0.))]\n"
     ]
    },
    {
     "name": "stderr",
     "output_type": "stream",
     "text": [
      "C:\\Users\\rina\\AppData\\Local\\Temp/ipykernel_9104/2687674408.py:1: FutureWarning: Passing (type, 1) or '1type' as a synonym of type is deprecated; in a future version of numpy, it will be understood as (type, (1,)) / '(1,)type'.\n",
      "  Z = np.zeros(10, [ ('position', [ ('x', float, 1),\n"
     ]
    }
   ],
   "source": [
    "Z = np.zeros(10, [ ('position', [ ('x', float, 1),\n",
    "('y', float, 1)]),\n",
    "('color', [ ('r', float, 1),\n",
    "('g', float, 1),\n",
    "('b', float, 1)])])\n",
    "print (Z)"
   ]
  },
  {
   "cell_type": "markdown",
   "id": "65e10c20",
   "metadata": {},
   "source": [
    "52. 对一个表示坐标形状为(10,2)的随机向量，找到点与点的距离"
   ]
  },
  {
   "cell_type": "code",
   "execution_count": 233,
   "id": "40b6a69b",
   "metadata": {},
   "outputs": [
    {
     "name": "stdout",
     "output_type": "stream",
     "text": [
      "[[0.         0.59977185 0.96032974 0.16622814 0.12791335 0.27475042\n",
      "  0.65891782 0.90968135 0.80448362 0.87887636]\n",
      " [0.59977185 0.         0.42125478 0.57371488 0.52583725 0.67171576\n",
      "  0.15229462 0.43323019 0.45007665 0.47964818]\n",
      " [0.96032974 0.42125478 0.         0.8796368  0.8559334  0.93409986\n",
      "  0.30572226 0.12704467 0.30345808 0.24822706]\n",
      " [0.16622814 0.57371488 0.8796368  0.         0.07066361 0.13096669\n",
      "  0.59411064 0.81132411 0.68440846 0.7631784 ]\n",
      " [0.12791335 0.52583725 0.8559334  0.07066361 0.         0.20162283\n",
      "  0.56161096 0.79655883 0.68243244 0.75855012]\n",
      " [0.27475042 0.67171576 0.93409986 0.13096669 0.20162283 0.\n",
      "  0.66824919 0.85143215 0.70470096 0.78633091]\n",
      " [0.65891782 0.15229462 0.30572226 0.59411064 0.56161096 0.66824919\n",
      "  0.         0.29024662 0.29961459 0.32752013]\n",
      " [0.90968135 0.43323019 0.12704467 0.81132411 0.79655883 0.85143215\n",
      "  0.29024662 0.         0.18114324 0.12120151]\n",
      " [0.80448362 0.45007665 0.30345808 0.68440846 0.68243244 0.70470096\n",
      "  0.29961459 0.18114324 0.         0.08213459]\n",
      " [0.87887636 0.47964818 0.24822706 0.7631784  0.75855012 0.78633091\n",
      "  0.32752013 0.12120151 0.08213459 0.        ]]\n"
     ]
    }
   ],
   "source": [
    "Positions = np.random.random((10, 2))\n",
    "# numpy.atleast_2d(*arys)\n",
    "# 将输入视为至少具有二维的数组。\n",
    "X, Y = np.atleast_2d(Positions[:, 0], Positions[:, 1])\n",
    "# print(X, Y)\n",
    "\n",
    "# 求距离就是x和x的差， y和y的差。这里应该使用转置\n",
    "# 因为使用了广播机制，是每行都减同一个数字，每列也是\n",
    "# 矩阵维度从（10,1）和(1,10)变成了(10, 10)\n",
    "D = np.sqrt((X - X.T) ** 2 + (Y - Y.T) ** 2)\n",
    "print (D)"
   ]
  },
  {
   "cell_type": "code",
   "execution_count": 239,
   "id": "28541d35",
   "metadata": {},
   "outputs": [
    {
     "name": "stdout",
     "output_type": "stream",
     "text": [
      "[[0.         0.59977185 0.96032974 0.16622814 0.12791335 0.27475042\n",
      "  0.65891782 0.90968135 0.80448362 0.87887636]\n",
      " [0.59977185 0.         0.42125478 0.57371488 0.52583725 0.67171576\n",
      "  0.15229462 0.43323019 0.45007665 0.47964818]\n",
      " [0.96032974 0.42125478 0.         0.8796368  0.8559334  0.93409986\n",
      "  0.30572226 0.12704467 0.30345808 0.24822706]\n",
      " [0.16622814 0.57371488 0.8796368  0.         0.07066361 0.13096669\n",
      "  0.59411064 0.81132411 0.68440846 0.7631784 ]\n",
      " [0.12791335 0.52583725 0.8559334  0.07066361 0.         0.20162283\n",
      "  0.56161096 0.79655883 0.68243244 0.75855012]\n",
      " [0.27475042 0.67171576 0.93409986 0.13096669 0.20162283 0.\n",
      "  0.66824919 0.85143215 0.70470096 0.78633091]\n",
      " [0.65891782 0.15229462 0.30572226 0.59411064 0.56161096 0.66824919\n",
      "  0.         0.29024662 0.29961459 0.32752013]\n",
      " [0.90968135 0.43323019 0.12704467 0.81132411 0.79655883 0.85143215\n",
      "  0.29024662 0.         0.18114324 0.12120151]\n",
      " [0.80448362 0.45007665 0.30345808 0.68440846 0.68243244 0.70470096\n",
      "  0.29961459 0.18114324 0.         0.08213459]\n",
      " [0.87887636 0.47964818 0.24822706 0.7631784  0.75855012 0.78633091\n",
      "  0.32752013 0.12120151 0.08213459 0.        ]]\n"
     ]
    }
   ],
   "source": [
    "# 用scipy\n",
    "import scipy.spatial\n",
    "D = scipy.spatial.distance.cdist(Positions, Positions)\n",
    "print(D)"
   ]
  },
  {
   "cell_type": "markdown",
   "id": "3582f2cd",
   "metadata": {},
   "source": [
    "53. 如何将32位的浮点数(float)转换为对应的整数(integer)?"
   ]
  },
  {
   "cell_type": "code",
   "execution_count": 242,
   "id": "fc3f2768",
   "metadata": {},
   "outputs": [
    {
     "name": "stdout",
     "output_type": "stream",
     "text": [
      "[0 1 2 3 4 5 6 7 8 9]\n"
     ]
    }
   ],
   "source": [
    "Z = np.arange(10, dtype=np.float32)\n",
    "Z = Z.astype(np.int32, copy=False)\n",
    "print (Z)"
   ]
  },
  {
   "cell_type": "markdown",
   "id": "644d57bd",
   "metadata": {},
   "source": [
    "54. 如何读取以下文件?"
   ]
  },
  {
   "cell_type": "code",
   "execution_count": 245,
   "id": "86366768",
   "metadata": {},
   "outputs": [
    {
     "data": {
      "text/plain": [
       "array([ 1,  2,  3,  4,  5,  6, -1, -1,  7,  8, -1,  9, 10, 11])"
      ]
     },
     "execution_count": 245,
     "metadata": {},
     "output_type": "execute_result"
    }
   ],
   "source": [
    "from io import StringIO\n",
    "import numpy as np\n",
    "s = StringIO(\"1, 2, 3, 4, 5, 6, , , 7, 8, , 9,10,11\")\n",
    "data = np.genfromtxt(s, dtype=np.int32, delimiter=\",\")\n",
    "data"
   ]
  },
  {
   "cell_type": "markdown",
   "id": "9724baa5",
   "metadata": {},
   "source": [
    "55. 对于numpy数组，enumerate的等价操作是什么？"
   ]
  },
  {
   "cell_type": "code",
   "execution_count": 246,
   "id": "96b88199",
   "metadata": {},
   "outputs": [
    {
     "name": "stdout",
     "output_type": "stream",
     "text": [
      "(0, 0) 0\n",
      "(0, 1) 1\n",
      "(0, 2) 2\n",
      "(1, 0) 3\n",
      "(1, 1) 4\n",
      "(1, 2) 5\n",
      "(2, 0) 6\n",
      "(2, 1) 7\n",
      "(2, 2) 8\n",
      "(0, 0) 0\n",
      "(0, 1) 1\n",
      "(0, 2) 2\n",
      "(1, 0) 3\n",
      "(1, 1) 4\n",
      "(1, 2) 5\n",
      "(2, 0) 6\n",
      "(2, 1) 7\n",
      "(2, 2) 8\n"
     ]
    }
   ],
   "source": [
    "Z = np.arange(9).reshape(3,3)\n",
    "for index, value in np.ndenumerate(Z):\n",
    "    print (index, value)\n",
    "for index in np.ndindex(Z.shape):\n",
    "    print (index, Z[index])"
   ]
  },
  {
   "cell_type": "markdown",
   "id": "0c6669e6",
   "metadata": {},
   "source": [
    "56.生成一个通用的二维Gaussian-like数组\n",
    "\n",
    "【按照公式算的】"
   ]
  },
  {
   "cell_type": "code",
   "execution_count": 250,
   "id": "0303b215",
   "metadata": {},
   "outputs": [
    {
     "name": "stdout",
     "output_type": "stream",
     "text": [
      "[[0.36787944 0.44822088 0.51979489 0.57375342 0.60279818 0.60279818\n",
      "  0.57375342 0.51979489 0.44822088 0.36787944]\n",
      " [0.44822088 0.54610814 0.63331324 0.69905581 0.73444367 0.73444367\n",
      "  0.69905581 0.63331324 0.54610814 0.44822088]\n",
      " [0.51979489 0.63331324 0.73444367 0.81068432 0.85172308 0.85172308\n",
      "  0.81068432 0.73444367 0.63331324 0.51979489]\n",
      " [0.57375342 0.69905581 0.81068432 0.89483932 0.9401382  0.9401382\n",
      "  0.89483932 0.81068432 0.69905581 0.57375342]\n",
      " [0.60279818 0.73444367 0.85172308 0.9401382  0.98773022 0.98773022\n",
      "  0.9401382  0.85172308 0.73444367 0.60279818]\n",
      " [0.60279818 0.73444367 0.85172308 0.9401382  0.98773022 0.98773022\n",
      "  0.9401382  0.85172308 0.73444367 0.60279818]\n",
      " [0.57375342 0.69905581 0.81068432 0.89483932 0.9401382  0.9401382\n",
      "  0.89483932 0.81068432 0.69905581 0.57375342]\n",
      " [0.51979489 0.63331324 0.73444367 0.81068432 0.85172308 0.85172308\n",
      "  0.81068432 0.73444367 0.63331324 0.51979489]\n",
      " [0.44822088 0.54610814 0.63331324 0.69905581 0.73444367 0.73444367\n",
      "  0.69905581 0.63331324 0.54610814 0.44822088]\n",
      " [0.36787944 0.44822088 0.51979489 0.57375342 0.60279818 0.60279818\n",
      "  0.57375342 0.51979489 0.44822088 0.36787944]]\n"
     ]
    }
   ],
   "source": [
    "# 自动生成X, Y\n",
    "X, Y = np.meshgrid(np.linspace(-1, 1, 10), np.linspace(-1, 1, 10))\n",
    "# print(X, Y)\n",
    "D = np.sqrt(X * X + Y * Y)\n",
    "sigma, mu = 1.0, 0.0\n",
    "G = np.exp(-( (D - mu)**2 / ( 2.0 * sigma ** 2 ) ) )\n",
    "print (G)"
   ]
  },
  {
   "cell_type": "markdown",
   "id": "fe148c32",
   "metadata": {},
   "source": [
    "57. 对一个二维数组，如何在其内部随机放置p个元素?"
   ]
  },
  {
   "cell_type": "code",
   "execution_count": 254,
   "id": "a11c7e6e",
   "metadata": {},
   "outputs": [
    {
     "name": "stdout",
     "output_type": "stream",
     "text": [
      "[[0. 0. 0. 0. 0. 0. 0. 0. 1. 0.]\n",
      " [0. 0. 0. 0. 1. 0. 1. 0. 0. 0.]\n",
      " [0. 0. 0. 0. 0. 0. 0. 0. 0. 0.]\n",
      " [0. 0. 0. 0. 0. 0. 0. 0. 0. 0.]\n",
      " [0. 0. 0. 0. 0. 0. 0. 0. 0. 0.]\n",
      " [0. 0. 0. 0. 0. 0. 0. 0. 0. 0.]\n",
      " [0. 0. 0. 0. 0. 0. 0. 0. 0. 0.]\n",
      " [0. 0. 0. 0. 0. 0. 0. 0. 0. 0.]\n",
      " [0. 0. 0. 0. 0. 0. 0. 0. 0. 0.]\n",
      " [0. 0. 0. 0. 0. 0. 0. 0. 0. 0.]]\n"
     ]
    }
   ],
   "source": [
    "n = 10\n",
    "p = 3\n",
    "Z = np.zeros((n,n))\n",
    "'''\n",
    "def choice(a, size=None, replace=True, p=None)\n",
    "    表示从a中随机选取size个数\n",
    "    replacement 代表的意思是抽样之后还放不放回去，如果是False的话，那么通一次挑选出来的数都不一样，如果是True的话， 有可能会出现重复的，因为前面的抽的放回去了。\n",
    "    p表示每个元素被抽取的概率，如果没有指定，a中所有元素被选取的概率是相等的。\n",
    "'''\n",
    "# 随机取数，然后再赋值回去\n",
    "np.put(Z, np.random.choice(range(n*n), p, replace=False),1)\n",
    "print (Z)"
   ]
  },
  {
   "cell_type": "markdown",
   "id": "b3093cec",
   "metadata": {},
   "source": [
    "58. 减去一个矩阵中的每一行的平均值`"
   ]
  },
  {
   "cell_type": "code",
   "execution_count": 257,
   "id": "775b5d03",
   "metadata": {},
   "outputs": [
    {
     "data": {
      "text/plain": [
       "array([[ 0.17246149,  0.26584417, -0.34863161, -0.26525138,  0.17557733],\n",
       "       [-0.45882215,  0.10809244, -0.30922578,  0.48087732,  0.17907817],\n",
       "       [ 0.03961591, -0.01171511, -0.14828089, -0.04334763,  0.16372771],\n",
       "       [-0.11049839,  0.01106936, -0.05355143,  0.1737148 , -0.02073434],\n",
       "       [-0.04501061, -0.0974183 ,  0.27879942,  0.00468548, -0.14105598]])"
      ]
     },
     "execution_count": 257,
     "metadata": {},
     "output_type": "execute_result"
    }
   ],
   "source": [
    "x = np.random.random((5,5))\n",
    "x -= x.mean(axis = 1, keepdims = True)\n",
    "# or\n",
    "# x -= x.mean(axis = 1).reshape(-1, 1)\n",
    "x"
   ]
  },
  {
   "cell_type": "markdown",
   "id": "11d2edcd",
   "metadata": {},
   "source": [
    "59. 如何通过第n列对一个数组进行排序?"
   ]
  },
  {
   "cell_type": "code",
   "execution_count": 258,
   "id": "2e398f18",
   "metadata": {},
   "outputs": [
    {
     "name": "stdout",
     "output_type": "stream",
     "text": [
      "[[4 5 3]\n",
      " [6 1 2]\n",
      " [6 4 5]]\n",
      "[[6 1 2]\n",
      " [6 4 5]\n",
      " [4 5 3]]\n"
     ]
    }
   ],
   "source": [
    "Z = np.random.randint(0,10,(3,3))\n",
    "print(Z)\n",
    "print(Z[Z[:,1].argsort()])"
   ]
  },
  {
   "cell_type": "markdown",
   "id": "1c6a4818",
   "metadata": {},
   "source": [
    "60. 如何检查一个二维数组是否有空列？ 【加了一个判断nan的下标】"
   ]
  },
  {
   "cell_type": "code",
   "execution_count": 265,
   "id": "5a396a52",
   "metadata": {},
   "outputs": [
    {
     "name": "stdout",
     "output_type": "stream",
     "text": [
      "[[0.30163781        nan 0.50877419 0.04816648 0.23953996 0.70950753\n",
      "  0.91908937 0.13492895 0.50128148 0.93168457]\n",
      " [       nan 0.75516098 0.74191851        nan 0.53982088 0.35632969\n",
      "  0.03019748 0.67825446 0.73341954 0.7909958 ]\n",
      " [       nan 0.71449235 0.87984076 0.00291516 0.07470156 0.42466486\n",
      "  0.6875423         nan 0.37133074 0.53518666]\n",
      " [0.23400153 0.92318742 0.57512101 0.52624234 0.86431174 0.40044713\n",
      "  0.60067721        nan 0.32673473 0.17239326]\n",
      " [0.36174949 0.03346136 0.03612292 0.16880408 0.28571883 0.98383672\n",
      "  0.79900123 0.12213798 0.88869147 0.669872  ]\n",
      " [0.02466737 0.52890268 0.66573763 0.66541607 0.01553955 0.06503462\n",
      "  0.87430121 0.20787481 0.77027195 0.858256  ]\n",
      " [0.00145078        nan 0.47893416 0.09345055 0.63749331 0.77999672\n",
      "  0.43699    0.29614767 0.58977687 0.27508049]\n",
      " [       nan 0.95971127 0.81731686 0.08232409 0.27852696        nan\n",
      "  0.19326068 0.55726331        nan 0.96877052]\n",
      " [0.26288204 0.67490744 0.8359298  0.46417158 0.00523968 0.24698873\n",
      "  0.98077281 0.87810649 0.80048952 0.4368906 ]\n",
      " [0.51782808 0.65099358 0.86648087 0.85728159 0.43020986 0.98556718\n",
      "  0.70340963 0.19936178 0.45520479 0.89500652]]\n",
      "False\n",
      "[[0 1]\n",
      " [1 0]\n",
      " [1 3]\n",
      " [2 0]\n",
      " [2 7]\n",
      " [3 7]\n",
      " [6 1]\n",
      " [7 0]\n",
      " [7 5]\n",
      " [7 8]]\n"
     ]
    }
   ],
   "source": [
    "x = np.random.random((10,10))\n",
    "x.astype(np.float32)\n",
    "np.put(x, np.random.choice(range(10*10), 10, replace=False), np.nan)\n",
    "print(x)\n",
    "# 判断整列是不是nan\n",
    "print ((~Z.any(axis=0)).any())\n",
    "# 判断是不是nan(的下标)\n",
    "print(np.argwhere(np.isnan(x)))"
   ]
  },
  {
   "cell_type": "markdown",
   "id": "db573f49",
   "metadata": {},
   "source": [
    "61. 从数组中的给定值中找出最近的值"
   ]
  },
  {
   "cell_type": "code",
   "execution_count": 268,
   "id": "7d70653c",
   "metadata": {},
   "outputs": [
    {
     "name": "stdout",
     "output_type": "stream",
     "text": [
      "0.5744234833703322\n"
     ]
    }
   ],
   "source": [
    "Z = np.random.uniform(0,1,10)\n",
    "z = 0.5\n",
    "m = Z[np.abs(Z - z).argmin()]\n",
    "print (m)"
   ]
  },
  {
   "cell_type": "markdown",
   "id": "21eaf292",
   "metadata": {},
   "source": [
    "62. 如何用迭代器(iterator)计算两个分别具有形状(1,3)和(3,1)的数组?"
   ]
  },
  {
   "cell_type": "code",
   "execution_count": 269,
   "id": "eed23202",
   "metadata": {},
   "outputs": [
    {
     "name": "stdout",
     "output_type": "stream",
     "text": [
      "[[0 1 2]\n",
      " [6 4 5]\n",
      " [4 5 3]]\n",
      "[[0 1 2]\n",
      " [6 4 5]\n",
      " [4 5 3]]\n",
      "[[0 1 2]\n",
      " [6 4 5]\n",
      " [4 5 3]]\n",
      "[[0 1 2]\n",
      " [1 4 5]\n",
      " [4 5 3]]\n",
      "[[0 1 2]\n",
      " [1 2 5]\n",
      " [4 5 3]]\n",
      "[[0 1 2]\n",
      " [1 2 3]\n",
      " [4 5 3]]\n",
      "[[0 1 2]\n",
      " [1 2 3]\n",
      " [2 5 3]]\n",
      "[[0 1 2]\n",
      " [1 2 3]\n",
      " [2 3 3]]\n",
      "[[0 1 2]\n",
      " [1 2 3]\n",
      " [2 3 4]]\n"
     ]
    }
   ],
   "source": [
    "A = np.arange(3).reshape(3,1)\n",
    "B = np.arange(3).reshape(1,3)\n",
    "it = np.nditer([A,B,None])\n",
    "for x,y,z in it:\n",
    "    # ...是指\n",
    "    z[...] = x + y\n",
    "    print (it.operands[2])"
   ]
  },
  {
   "cell_type": "markdown",
   "id": "f67d97f4",
   "metadata": {},
   "source": [
    "63. 创建一个具有name属性的数组类"
   ]
  },
  {
   "cell_type": "code",
   "execution_count": 271,
   "id": "0a24880e",
   "metadata": {},
   "outputs": [
    {
     "name": "stdout",
     "output_type": "stream",
     "text": [
      "range_10\n"
     ]
    }
   ],
   "source": [
    "class NamedArray(np.ndarray):\n",
    "    def __new__(cls, array, name=\"no name\"):\n",
    "        obj = np.asarray(array).view(cls)\n",
    "        obj.name = name\n",
    "        return obj\n",
    "\n",
    "    def __array_finalize__(self, obj):\n",
    "        if obj is None: return\n",
    "        self.info = getattr(obj, 'name', \"no name\")\n",
    "\n",
    "Z = NamedArray(np.arange(10), \"range_10\")\n",
    "print (Z.name)"
   ]
  },
  {
   "cell_type": "markdown",
   "id": "2f71646c",
   "metadata": {},
   "source": [
    "64. 考虑一个给定的向量，如何对由第二个向量索引的每个元素加1(小心重复的索引)? 【题目都看不懂】\n",
    "\n",
    "【bincount的用法在这里：https://www.cnblogs.com/eilearn/p/9015375.html】"
   ]
  },
  {
   "cell_type": "code",
   "execution_count": 276,
   "id": "e7733669",
   "metadata": {},
   "outputs": [
    {
     "name": "stdout",
     "output_type": "stream",
     "text": [
      "[6 6 7 1 3 4 6 2 3 8 7 4 7 8 3 0 8 9 3 5]\n",
      "[2. 2. 2. 5. 3. 2. 4. 4. 4. 2.]\n"
     ]
    }
   ],
   "source": [
    "Z = np.ones(10)\n",
    "I = np.random.randint(0,len(Z),20)\n",
    "# 下面是答案\n",
    "Z += np.bincount(I, minlength=len(Z))\n",
    "print(I)\n",
    "print(Z)"
   ]
  },
  {
   "cell_type": "code",
   "execution_count": 273,
   "id": "f653913d",
   "metadata": {},
   "outputs": [
    {
     "name": "stdout",
     "output_type": "stream",
     "text": [
      "[9. 3. 3. 3. 9. 7. 3. 7. 3. 3.]\n"
     ]
    }
   ],
   "source": [
    "# 方法2\n",
    "np.add.at(Z, I, 1)\n",
    "print(Z)"
   ]
  },
  {
   "cell_type": "markdown",
   "id": "cead5a3c",
   "metadata": {},
   "source": [
    "65. 根据索引列表(I)，如何将向量(X)的元素累加到数组(F)?"
   ]
  },
  {
   "cell_type": "code",
   "execution_count": 277,
   "id": "6ef165f8",
   "metadata": {},
   "outputs": [
    {
     "name": "stdout",
     "output_type": "stream",
     "text": [
      "[0. 7. 0. 6. 5. 0. 0. 0. 0. 3.]\n"
     ]
    }
   ],
   "source": [
    "X = [1,2,3,4,5,6]\n",
    "I = [1,3,9,3,4,1]\n",
    "F = np.bincount(I,X)\n",
    "print (F)"
   ]
  },
  {
   "cell_type": "markdown",
   "id": "72e06e35",
   "metadata": {},
   "source": [
    "66. 考虑一个(dtype=ubyte) 的 (w,h,3)图像，计算其唯一颜色的数量"
   ]
  },
  {
   "cell_type": "code",
   "execution_count": 278,
   "id": "5726140d",
   "metadata": {},
   "outputs": [
    {
     "name": "stdout",
     "output_type": "stream",
     "text": [
      "8\n"
     ]
    }
   ],
   "source": [
    "w,h = 16,16\n",
    "I = np.random.randint(0,2,(h,w,3)).astype(np.ubyte)\n",
    "#Note that we should compute 256*256 first.\n",
    "#Otherwise numpy will only promote F.dtype to 'uint16' and overfolw will occur\n",
    "F = I[...,0]*(256*256) + I[...,1]*256 +I[...,2]\n",
    "n = len(np.unique(F))\n",
    "print (n)"
   ]
  },
  {
   "cell_type": "markdown",
   "id": "e33e3bf4",
   "metadata": {},
   "source": [
    "67. 考虑一个四维数组，如何一次性计算出最后两个轴(axis)的和？(★★★)"
   ]
  },
  {
   "cell_type": "code",
   "execution_count": 279,
   "id": "b31c5ab9",
   "metadata": {},
   "outputs": [
    {
     "name": "stdout",
     "output_type": "stream",
     "text": [
      "[[46 59 65 40]\n",
      " [39 50 50 64]\n",
      " [48 29 57 61]]\n",
      "[[46 59 65 40]\n",
      " [39 50 50 64]\n",
      " [48 29 57 61]]\n"
     ]
    }
   ],
   "source": [
    "A = np.random.randint(0,10,(3,4,3,4))\n",
    "# solution by passing a tuple of axes (introduced in numpy 1.7.0)\n",
    "sum = A.sum(axis=(-2,-1))\n",
    "print(sum)\n",
    "\n",
    "# 方法2\n",
    "sum = A.reshape(A.shape[:-2] + (-1,)).sum(axis=-1)\n",
    "print(sum)"
   ]
  },
  {
   "cell_type": "markdown",
   "id": "5f27c813",
   "metadata": {},
   "source": [
    "68. 考虑一个一维向量D，如何使用相同大小的向量S来计算D子集的均值？(★★★)\n",
    "\n",
    "【s给下标，D依照s来求平均】"
   ]
  },
  {
   "cell_type": "code",
   "execution_count": 282,
   "id": "2c78c45e",
   "metadata": {},
   "outputs": [
    {
     "name": "stdout",
     "output_type": "stream",
     "text": [
      "[0.11348847 0.97448309 0.72873463 0.35146781 0.70760514 0.7996046\n",
      " 0.64556185 0.41459961 0.70603101 0.24664938 0.25599243 0.02401135\n",
      " 0.09872595 0.30043644 0.64085568 0.32220795 0.18549414 0.91719355\n",
      " 0.2709208  0.27354789 0.95441268 0.12711457 0.74726485 0.00523796\n",
      " 0.85679061 0.6959562  0.5530257  0.9352358  0.51262353 0.17761207\n",
      " 0.53686579 0.29345982 0.01060205 0.88380072 0.65641065 0.94225597\n",
      " 0.7449453  0.26721045 0.36186288 0.52640389 0.54688497 0.25867032\n",
      " 0.17463635 0.36071026 0.14018227 0.38907866 0.47188833 0.96882692\n",
      " 0.14556745 0.51425472 0.52765183 0.30524252 0.15967476 0.59691153\n",
      " 0.10372881 0.56796609 0.38630638 0.08472205 0.56199918 0.64807168\n",
      " 0.66193395 0.18924281 0.95410895 0.05902446 0.88020624 0.78375816\n",
      " 0.25247741 0.92709052 0.4447506  0.37715133 0.89382348 0.75405387\n",
      " 0.77445802 0.87904851 0.48148232 0.30290073 0.44292787 0.52813285\n",
      " 0.60814462 0.52524497 0.97796815 0.60203988 0.83529596 0.08537584\n",
      " 0.48829082 0.90031302 0.91705588 0.21688352 0.40062124 0.54517216\n",
      " 0.64192219 0.47363051 0.56357413 0.58928365 0.31358832 0.75801858\n",
      " 0.85716649 0.47649792 0.86313715 0.66091439] [6 0 6 0 7 8 7 6 1 5 6 6 2 3 9 5 3 2 6 5 0 3 5 6 7 2 8 4 8 4 5 5 5 9 3 7 5\n",
      " 5 6 5 0 9 7 9 4 2 5 3 1 4 6 2 2 4 9 6 1 9 2 2 2 1 4 2 3 1 3 7 3 2 2 8 7 7\n",
      " 6 5 9 1 6 7 6 1 6 2 9 1 7 1 3 6 3 3 6 4 4 8 0 5 2 1]\n"
     ]
    }
   ],
   "source": [
    "np.random.seed(47)\n",
    "D = np.random.uniform(0,1,100)\n",
    "S = np.random.randint(0,10,100)\n",
    "print(D, S)"
   ]
  },
  {
   "cell_type": "code",
   "execution_count": 283,
   "id": "c05625b1",
   "metadata": {},
   "outputs": [
    {
     "name": "stdout",
     "output_type": "stream",
     "text": [
      "0    0.736883\n",
      "1    0.511919\n",
      "2    0.479742\n",
      "3    0.484717\n",
      "4    0.527647\n",
      "5    0.401573\n",
      "6    0.455131\n",
      "7    0.734975\n",
      "8    0.675465\n",
      "9    0.407963\n",
      "dtype: float64\n"
     ]
    }
   ],
   "source": [
    "# 方法2\n",
    "import pandas as pd\n",
    "print(pd.Series(D).groupby(S).mean())"
   ]
  },
  {
   "cell_type": "markdown",
   "id": "95116feb",
   "metadata": {},
   "source": [
    "69. 如何获得点积 dot prodcut的对角线? (★★★)"
   ]
  },
  {
   "cell_type": "code",
   "execution_count": 284,
   "id": "8715484a",
   "metadata": {},
   "outputs": [
    {
     "data": {
      "text/plain": [
       "array([1.88248981, 1.8074689 , 0.52164249, 1.39258298, 1.16827147])"
      ]
     },
     "execution_count": 284,
     "metadata": {},
     "output_type": "execute_result"
    }
   ],
   "source": [
    "A = np.random.uniform(0,1,(5,5))\n",
    "B = np.random.uniform(0,1,(5,5))\n",
    "# slow version\n",
    "np.diag(np.dot(A, B))\n",
    "\n",
    "# 方法2\n",
    "# Fast version\n",
    "np.sum(A * B.T, axis=1)\n",
    "\n",
    "# 方法3\n",
    "# Faster version\n",
    "np.einsum(\"ij,ji->i\", A, B)"
   ]
  },
  {
   "cell_type": "code",
   "execution_count": null,
   "id": "57e4c82a",
   "metadata": {},
   "outputs": [],
   "source": []
  }
 ],
 "metadata": {
  "kernelspec": {
   "display_name": "Python 3 (ipykernel)",
   "language": "python",
   "name": "python3"
  },
  "language_info": {
   "codemirror_mode": {
    "name": "ipython",
    "version": 3
   },
   "file_extension": ".py",
   "mimetype": "text/x-python",
   "name": "python",
   "nbconvert_exporter": "python",
   "pygments_lexer": "ipython3",
   "version": "3.9.7"
  }
 },
 "nbformat": 4,
 "nbformat_minor": 5
}
